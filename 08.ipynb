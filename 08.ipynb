{
 "cells": [
  {
   "cell_type": "code",
   "execution_count": 1,
   "metadata": {
    "colab_type": "text"
   },
   "outputs": [
    {
     "data": {
      "text/html": [
       "\n",
       "    <style>\n",
       "        @font-face {\n",
       "            /* تعریف نام فونت */\n",
       "            font-family: 'BZar';\n",
       "            /* اکسپلورر 9 به بعد */\n",
       "            src: url('font/BZar.eot');\n",
       "            /* بررسی نصب بودن فونت در سیستم کاربر */\n",
       "            src: local('bZar'),\n",
       "                 /* برای برخی از مرورگرها مانند سافاری */\n",
       "                 local('b Zar'),\n",
       "                 /* هک برای اکسپلورر 8 و ماقبل */\n",
       "                 url('font/BZar.eot?#iefix') format('embedded-opentype'),\n",
       "                 /* فرمت مناسب مرورگرهای خیلی جدید */\n",
       "                 url('font/BZar.woff2') format('woff2'),\n",
       "                 /* فرمت مناسب مرورگرهای تقریبا جدید */\n",
       "                 url('font/BZar.woff') format('woff'),\n",
       "                 /* تمام مرورگرها به جزء اکسپلورر */\n",
       "                 url('font/BZar.ttf') format('truetype'),\n",
       "                 /* نسخه‌های قدیمی سیستم عامل iOS */\n",
       "                 url('font/BZar.svg#BZar') format('svg');\n",
       "            font-style: normal;\n",
       "            font-weight: normal;\n",
       "            font-display: swap;\n",
       "        }\n",
       "    \n",
       "    \n",
       "        .reveal .slides {\n",
       "            direction: rtl;\n",
       "            text-align: right;\n",
       "        }\n",
       "        \n",
       "        div {\n",
       "            direction: ltr;\n",
       "            text-align: left;\n",
       "        }\n",
       "        \n",
       "        p > img {\n",
       "          display: block;\n",
       "          margin-left: auto;\n",
       "          margin-right: auto;\n",
       "          max-width:75%; \n",
       "          height:auto;\n",
       "        }\n",
       "        \n",
       "        div.text_cell_render.rendered_html > *, li > p, .rendered_html p, #quarto-document-content > *\n",
       "        {\n",
       "            direction: rtl;\n",
       "            text-align: right;\n",
       "            font-family: BZar, Tahoma, Geneva, sans-serif;\n",
       "            font-size: x-large;\n",
       "            line-height: 26pt;\n",
       "        }\n",
       "        \n",
       "        .jp-CodeMirrorEditor .jp-Editor .jp-InputArea-editor {\n",
       "            direction: rtl !important;\n",
       "        }\n",
       "        \n",
       "        .CodeMirror-lines .output_subarea .output_text .output_stream .output_stdout{\n",
       "            direction: ltr !important;\n",
       "        }\n",
       "    </style>\n",
       "    "
      ],
      "text/plain": [
       "<IPython.core.display.HTML object>"
      ]
     },
     "execution_count": 1,
     "metadata": {},
     "output_type": "execute_result"
    }
   ],
   "source": [
    "from IPython.display import display, HTML, Javascript\n",
    "\n",
    "def f():\n",
    "    return HTML(\"\"\"\n",
    "    <style>\n",
    "        @font-face {\n",
    "            /* تعریف نام فونت */\n",
    "            font-family: 'BZar';\n",
    "            /* اکسپلورر 9 به بعد */\n",
    "            src: url('font/BZar.eot');\n",
    "            /* بررسی نصب بودن فونت در سیستم کاربر */\n",
    "            src: local('bZar'),\n",
    "                 /* برای برخی از مرورگرها مانند سافاری */\n",
    "                 local('b Zar'),\n",
    "                 /* هک برای اکسپلورر 8 و ماقبل */\n",
    "                 url('font/BZar.eot?#iefix') format('embedded-opentype'),\n",
    "                 /* فرمت مناسب مرورگرهای خیلی جدید */\n",
    "                 url('font/BZar.woff2') format('woff2'),\n",
    "                 /* فرمت مناسب مرورگرهای تقریبا جدید */\n",
    "                 url('font/BZar.woff') format('woff'),\n",
    "                 /* تمام مرورگرها به جزء اکسپلورر */\n",
    "                 url('font/BZar.ttf') format('truetype'),\n",
    "                 /* نسخه‌های قدیمی سیستم عامل iOS */\n",
    "                 url('font/BZar.svg#BZar') format('svg');\n",
    "            font-style: normal;\n",
    "            font-weight: normal;\n",
    "            font-display: swap;\n",
    "        }\n",
    "    \n",
    "    \n",
    "        .reveal .slides {\n",
    "            direction: rtl;\n",
    "            text-align: right;\n",
    "        }\n",
    "        \n",
    "        div {\n",
    "            direction: ltr;\n",
    "            text-align: left;\n",
    "        }\n",
    "        \n",
    "        p > img {\n",
    "          display: block;\n",
    "          margin-left: auto;\n",
    "          margin-right: auto;\n",
    "          max-width:75%; \n",
    "          height:auto;\n",
    "        }\n",
    "        \n",
    "        div.text_cell_render.rendered_html > *, li > p, .rendered_html p, #quarto-document-content > *\n",
    "        {\n",
    "            direction: rtl;\n",
    "            text-align: right;\n",
    "            font-family: BZar, Tahoma, Geneva, sans-serif;\n",
    "            font-size: x-large;\n",
    "            line-height: 26pt;\n",
    "        }\n",
    "        \n",
    "        .jp-CodeMirrorEditor .jp-Editor .jp-InputArea-editor {\n",
    "            direction: rtl !important;\n",
    "        }\n",
    "        \n",
    "        .CodeMirror-lines .output_subarea .output_text .output_stream .output_stdout{\n",
    "            direction: ltr !important;\n",
    "        }\n",
    "    </style>\n",
    "    \"\"\")\n",
    "\n",
    "f()"
   ]
  },
  {
   "cell_type": "code",
   "execution_count": 2,
   "metadata": {},
   "outputs": [
    {
     "data": {
      "text/html": [
       "\n",
       "    <link rel=\"stylesheet\" href=\"css/jquery.jqZoom.css\" />\n",
       "    <script src=\"js/jquery-1.12.4.min.js\"></script>\n",
       "    <script src=\"js/jquery.zoom.min.js\"></script>\n",
       "    <script>\n",
       "        $(document).ready(function(){\n",
       "            $(\"img\").children().off();\n",
       "            $('img')\n",
       "            .wrap('<span style=\"display:inline-block\"></span>')\n",
       "            .css('display', 'block')\n",
       "            .parent()\n",
       "            .zoom({ on:'grab', duration: 150, magnify: 1 });\n",
       "        });\n",
       "    </script>\n",
       "    "
      ],
      "text/plain": [
       "<IPython.core.display.HTML object>"
      ]
     },
     "execution_count": 2,
     "metadata": {},
     "output_type": "execute_result"
    }
   ],
   "source": [
    "from IPython.display import display, HTML, Javascript\n",
    "\n",
    "def g():\n",
    "    return HTML(\"\"\"\n",
    "    <link rel=\"stylesheet\" href=\"css/jquery.jqZoom.css\" />\n",
    "    <script src=\"js/jquery-1.12.4.min.js\"></script>\n",
    "    <script src=\"js/jquery.zoom.min.js\"></script>\n",
    "    <script>\n",
    "        $(document).ready(function(){\n",
    "            $(\"img\").children().off();\n",
    "            $('img')\n",
    "            .wrap('<span style=\"display:inline-block\"></span>')\n",
    "            .css('display', 'block')\n",
    "            .parent()\n",
    "            .zoom({ on:'grab', duration: 150, magnify: 1 });\n",
    "        });\n",
    "    </script>\n",
    "    \"\"\")\n",
    "\n",
    "g()"
   ]
  },
  {
   "cell_type": "raw",
   "metadata": {},
   "source": [
    "---\n",
    "title: \"فصل هشتم\"\n",
    "format: \n",
    "  docx:\n",
    "    toc: true\n",
    "    section-numbers: true\n",
    "    highlight-style: github\n",
    "    dir: rtl\n",
    "#  pptx:\n",
    "#    toc: true\n",
    "#    execute:\n",
    "#      echo: false\n",
    "#      warning: false\n",
    "  html:\n",
    "    css: css/style.css \n",
    "    code-fold: false \n",
    "    echo: true \n",
    "    self-contained: false \n",
    "    lang: fa\n",
    "#  revealjs: \n",
    "#    incremental: true\n",
    "#    dir: rtl \n",
    "#  pdf:\n",
    "#    number-sections: true\n",
    "#    colorlinks: true\n",
    "#    pdf-engine: xelatex\n",
    "#    keep-tex: true\n",
    "page-layout: full\n",
    "toc: false \n",
    "dir: rtl  \n",
    "lang: fa  \n",
    "jupyter: python3\n",
    "---"
   ]
  },
  {
   "cell_type": "markdown",
   "metadata": {},
   "source": [
    "# مقدمه ای بر یادگیری عمیق برای بینایی کامپیوتر\n",
    "\n",
    "**این فصل موارد زیر را پوشش می‌دهد**\n",
    "- \tآشنایی با شبکه‌های عصبی کانولوشنال (convnets)\n",
    "- \tاستفاده از افزایش داده‌ها برای کاهش بیش از حد برازش\n",
    "- \tاستفاده از یک convnet از پیش آموزش دیده برای انجام استخراج ویژگی\n",
    "- \tتنظیم دقیق یک شبکه از پیش آموزش دیده"
   ]
  },
  {
   "cell_type": "markdown",
   "metadata": {},
   "source": [
    "    -\tبینایی کامپیوتر اولین و بزرگترین داستان موفقیت یادگیری عمیق است. \n",
    "        -\tGoogle Photos، \n",
    "        -\tجستجوی تصویر Google\n",
    "        -\tYouTube، \n",
    "        -\tفیلترهای ویدیویی در برنامه‌های دوربین، \n",
    "        -\tنرم‌افزار OCR\n",
    "        -\tرانندگی خودران، \n",
    "        -\tروباتیک، \n",
    "        -\tتشخیص پزشکی با کمک هوش مصنوعی، \n",
    "        -\tکشاورزی خودمختار autonomous farming\n",
    "    -\tبینایی کامپیوتری حوزه‌ای است که منجر به ظهور اولیه یادگیری عمیق بین سال‌های 2011 تا 2015 شد. \n",
    "    -\tبه طور قابل توجهی در پاییز 2012، گروه هینتون در چالش تشخیص تصویری در مقیاس بزرگ ImageNet برنده شد. \n",
    "    -\tجامعه پردازش تصویر در مقابل این پیشرفتها در ابتدا مقاومت می کردند!\n",
    "    -\tنوعی مدل یادگیری عمیق که اکنون تقریباً به طور جهانی در برنامه‌های بینایی رایانه استفاده می‌شود شبکه‌های کانولوشنی نامیده می‌شوند.\n",
    "    -\tدر این فصل استفاده از این شبکه‌ها برای مسائل دسته‌بندی روی مجموعه داده‌های کوچک بررسی می‌شود."
   ]
  },
  {
   "cell_type": "markdown",
   "metadata": {},
   "source": [
    "## مقدمه‌ای بر شبکه‌های عصبی کانولوشنی\n",
    "در فصل‌های قبل روی مسئله دسته‌بندی ارقام MNIST کار کردیم.\n",
    "- دقت دسته‌بندی با کمک شبکه عصبی کامل متصل برابر 97.8٪ بود.\n",
    "- در ادامه یک convnet ساده ایجاد می‌کنیم.\n",
    "\n",
    "**Instantiating a small convnet**"
   ]
  },
  {
   "cell_type": "code",
   "execution_count": null,
   "metadata": {},
   "outputs": [],
   "source": [
    "import tensorflow as tf\n",
    "\n",
    "physical_devices = tf.config.list_physical_devices('GPU')\n",
    "tf.config.experimental.set_memory_growth(physical_devices[0], True)"
   ]
  },
  {
   "cell_type": "code",
   "execution_count": 6,
   "metadata": {
    "colab_type": "code"
   },
   "outputs": [],
   "source": [
    "from tensorflow import keras\n",
    "from tensorflow.keras import layers\n",
    "inputs = keras.Input(shape=(28, 28, 1))\n",
    "x = layers.Conv2D(filters=32, kernel_size=3, activation=\"relu\")(inputs)\n",
    "x = layers.MaxPooling2D(pool_size=2)(x)\n",
    "x = layers.Conv2D(filters=64, kernel_size=3, activation=\"relu\")(x)\n",
    "x = layers.MaxPooling2D(pool_size=2)(x)\n",
    "x = layers.Conv2D(filters=128, kernel_size=3, activation=\"relu\")(x)\n",
    "x = layers.Flatten()(x)\n",
    "outputs = layers.Dense(10, activation=\"softmax\")(x)\n",
    "model = keras.Model(inputs=inputs, outputs=outputs)"
   ]
  },
  {
   "cell_type": "markdown",
   "metadata": {},
   "source": [
    "- یادآوری می‌شود که ورودی را برای دریافت یک تصویر تعریف می کنیم. \n",
    "- عدد ۱ برابر تعداد کانال هست که نشان‌دهنده تصاویر سیاه و سفید است.\n",
    "- بعدا می توانیم تصاویر را به صورت دسته‌ای تحویل دهیم."
   ]
  },
  {
   "cell_type": "markdown",
   "metadata": {},
   "source": [
    "**نمایش summary مدل**"
   ]
  },
  {
   "cell_type": "code",
   "execution_count": 7,
   "metadata": {
    "colab_type": "code"
   },
   "outputs": [
    {
     "name": "stdout",
     "output_type": "stream",
     "text": [
      "Model: \"model_2\"\n",
      "_________________________________________________________________\n",
      " Layer (type)                Output Shape              Param #   \n",
      "=================================================================\n",
      " input_3 (InputLayer)        [(None, 28, 28, 1)]       0         \n",
      "                                                                 \n",
      " conv2d_6 (Conv2D)           (None, 26, 26, 32)        320       \n",
      "                                                                 \n",
      " max_pooling2d_4 (MaxPooling  (None, 13, 13, 32)       0         \n",
      " 2D)                                                             \n",
      "                                                                 \n",
      " conv2d_7 (Conv2D)           (None, 11, 11, 64)        18496     \n",
      "                                                                 \n",
      " max_pooling2d_5 (MaxPooling  (None, 5, 5, 64)         0         \n",
      " 2D)                                                             \n",
      "                                                                 \n",
      " conv2d_8 (Conv2D)           (None, 3, 3, 128)         73856     \n",
      "                                                                 \n",
      " flatten_2 (Flatten)         (None, 1152)              0         \n",
      "                                                                 \n",
      " dense_2 (Dense)             (None, 10)                11530     \n",
      "                                                                 \n",
      "=================================================================\n",
      "Total params: 104,202\n",
      "Trainable params: 104,202\n",
      "Non-trainable params: 0\n",
      "_________________________________________________________________\n"
     ]
    }
   ],
   "source": [
    "model.summary()"
   ]
  },
  {
   "cell_type": "markdown",
   "metadata": {},
   "source": [
    "### - می بینید که خروجی هر لایه Conv2D و MaxPooling2D یک تانسور شکل رتبه-3 است (ارتفاع، عرض، کانال). \n",
    "- ابعاد عرض و ارتفاع هر چه در مدل عمیق‌تر می‌شوید کاهش می‌یابد. \n",
    "- تعداد کانال‌ها توسط اولین آرگومان ارسال شده به لایه‌های Conv2D (32، 64 یا 128) کنترل می‌شود.\n",
    "- پس از آخرین لایه Conv2D، در نهایت با یک خروجی شکل (3، 3، 128) مواجه می‌شویم - نقشه ویژگی 3 × 3 از 128 کانال. \n",
    "- گام بعدی این است که این خروجی را به یک طبقه‌بندی‌کننده کاملا متصل  تغذیه کنید: \n",
    "- قبل از اضافه کردن لایه‌های متراکم، خروجی‌های سه بعدی را با یک لایه Flatten به یک بعدی صاف می‌کنیم.\n",
    "- در نهایت، ما طبقه بندی 10 طبقه‌ای را به کمک فعال‌ساز `softmax` می‌سازیم.\n",
    "- چون برچسب‌های ما اعداد صحیح هستند، ما از نسخه پراکنده، `sparse_categorical_crossentropy` استفاده کنید.\n",
    "- تعداد پارامتر‌ها از رابطه $(k^2N+1)C$ به دست می‌آید که $k$ اندازه کرنل و $N$ تعداد کانال ورودی و $C$ تعداد کانال خروجی است.\n",
    "- به نتیجه عمل کانولوشن در دو محور عرض و ارتفاع اصطلاحا نقشه ویژگی feature map می‌گویند.\n",
    "\n",
    "**Training the convnet on MNIST images**"
   ]
  },
  {
   "cell_type": "code",
   "execution_count": 10,
   "metadata": {
    "colab_type": "code"
   },
   "outputs": [
    {
     "name": "stdout",
     "output_type": "stream",
     "text": [
      "Epoch 1/5\n",
      "750/750 [==============================] - 18s 23ms/step - loss: 0.0110 - accuracy: 0.9964 - val_loss: 0.0175 - val_accuracy: 0.9957\n",
      "Epoch 2/5\n",
      "750/750 [==============================] - 20s 27ms/step - loss: 0.0092 - accuracy: 0.9973 - val_loss: 0.0125 - val_accuracy: 0.9973\n",
      "Epoch 3/5\n",
      "750/750 [==============================] - 19s 25ms/step - loss: 0.0071 - accuracy: 0.9977 - val_loss: 0.0217 - val_accuracy: 0.9930\n",
      "Epoch 4/5\n",
      "750/750 [==============================] - 19s 25ms/step - loss: 0.0057 - accuracy: 0.9984 - val_loss: 0.0245 - val_accuracy: 0.9942\n",
      "Epoch 5/5\n",
      "750/750 [==============================] - 19s 25ms/step - loss: 0.0049 - accuracy: 0.9986 - val_loss: 0.0358 - val_accuracy: 0.9904\n"
     ]
    }
   ],
   "source": [
    "from tensorflow.keras.datasets import mnist\n",
    "\n",
    "(train_images, train_labels), (test_images, test_labels) = mnist.load_data()\n",
    "train_images = train_images.reshape((60000, 28, 28, 1))\n",
    "train_images = train_images.astype(\"float32\") / 255\n",
    "test_images = test_images.reshape((10000, 28, 28, 1))\n",
    "test_images = test_images.astype(\"float32\") / 255\n",
    "\n",
    "model.compile(optimizer=\"rmsprop\",\n",
    "    loss=\"sparse_categorical_crossentropy\",\n",
    "    metrics=[\"accuracy\"])\n",
    "history = model.fit(train_images, train_labels, epochs=5, batch_size=64, validation_split=0.2)"
   ]
  },
  {
   "cell_type": "code",
   "execution_count": 14,
   "metadata": {},
   "outputs": [
    {
     "data": {
      "image/png": "[encoded data removed]",
      "text/plain": [
       "<Figure size 640x480 with 1 Axes>"
      ]
     },
     "metadata": {},
     "output_type": "display_data"
    }
   ],
   "source": [
    "loss_train, loss_val = history.history['loss'], history.history['val_loss']\n",
    "import matplotlib.pyplot as plt\n",
    "plt.plot(loss_train, 'b')\n",
    "plt.plot(loss_val, 'r')\n",
    "plt.show()"
   ]
  },
  {
   "cell_type": "markdown",
   "metadata": {},
   "source": [
    "**ارزیابی convnet**"
   ]
  },
  {
   "cell_type": "code",
   "execution_count": 6,
   "metadata": {
    "colab_type": "code"
   },
   "outputs": [
    {
     "name": "stdout",
     "output_type": "stream",
     "text": [
      "313/313 [==============================] - 6s 11ms/step - loss: 0.0821 - accuracy: 0.9852\n",
      "Test accuracy: 0.985\n"
     ]
    }
   ],
   "source": [
    "test_loss, test_acc = model.evaluate(test_images, test_labels)\n",
    "print(f\"Test accuracy: {test_acc:.3f}\")"
   ]
  },
  {
   "cell_type": "markdown",
   "metadata": {},
   "source": [
    "- در حالی که مدل با اتصال متراکم از فصل 2 دارای دقت تست 97.8٪ بود، convnet پایه دارای دقت تست 99.1٪ است: \n",
    "  -  میزان خطای نسبی را حدود 60٪ کاهش دادیم!"
   ]
  },
  {
   "cell_type": "markdown",
   "metadata": {},
   "source": [
    "### The convolution operation\n",
    "\n",
    "تفاوت اساسی بین یک لایه متصل متراکم و یک لایه کانولوشن: \n",
    "- لایه‌های متراکم الگوهای سراسری را در فضای ویژگی ورودی خود یاد می‌گیرند (به عنوان مثال، برای یک رقم MNIST، الگوهای شامل همه پیکسل‌ها)\n",
    "- لایه‌های کانولوشن الگوهای محلی را یاد می‌گیرند. \n",
    "\n",
    "![تصاویر را می‌توان به الگوهای محلی مانند لبه ها، بافت‌ها و غیره تقسیم کرد.](img/08-01.png)"
   ]
  },
  {
   "cell_type": "markdown",
   "metadata": {},
   "source": [
    "این مشخصه کلیدی دو ویژگی جالب به convnet‌ها می‌دهد:\n",
    "1. الگوهایی که آنها یاد می‌گیرند، تغییر ناپذیر `translation-invariant` هستند. \n",
    "   * پس از یادگیری یک الگوی خاص در گوشه پایین سمت راست یک تصویر، یک convnet می‌تواند آن را در هر جایی تشخیص دهد\n",
    "     * به عنوان مثال، در گوشه بالا سمت چپ. اگر یک مدل با اتصال متراکم در یک مکان جدید ظاهر شود، باید الگو را از نو یاد بگیرد. \n",
    "   * بنابراین شبکه‌های کانولوشنی به نمونه‌های آموزشی کمتری برای یادگیری بازنمایی‌هایی یا تعمیم بالا نیاز دارند.\n",
    "2. آنها می‌توانند سلسله مراتب فضایی  `spatial hierarchies of patterns` الگوها را بیاموزند. \n",
    "   * اولین لایه پیچشی الگوهای محلی کوچک مانند لبه‌ها را یاد می‌گیرد، \n",
    "   * لایه کانولوشن دوم الگوهای بزرگ‌تری را که از ویژگی‌های لایه‌های اول ساخته شده‌اند و غیره می‌آموزد \n",
    "   * این امر به شبکه‌های کانولوشنی اجازه می‌دهد تا مفاهیم بصری پیچیده و انتزاعی را به طور مؤثر یاد بگیرند، زیرا دنیای بصری اساساً از نظر فضایی سلسله مراتبی است."
   ]
  },
  {
   "cell_type": "markdown",
   "metadata": {},
   "source": [
    "![دنیای بصری یک سلسله مراتب فضایی از ماژول‌های بصری را تشکیل می‌دهد: خطوط یا بافت‌های ابتدایی به اشیاء ساده مانند چشم یا گوش ترکیب می‌شوند که در مفاهیم سطح بالا مانند \"گربه\" ترکیب می‌شوند.](img/08-02.png)\n",
    "\n",
    "![مفهوم نقشه پاسخ response map: یک نقشه 2 بعدی از حضور یک الگو در مکان‌های مختلف در ورودی](img/08-03.png)"
   ]
  },
  {
   "cell_type": "markdown",
   "metadata": {},
   "source": [
    "- عملگر کانولوشن روی تکه‌های تصویر patch ها اعمال می‌شود و نقشه پاسخ تولید می‌کند.\n",
    "- پارامتر‌های مهم لایه‌ی کانولوشنی\n",
    "  - ابعاد کرنل\n",
    "  - تعداد کانال خروجی (عمق فضای ویژگی خروجی)"
   ]
  },
  {
   "cell_type": "markdown",
   "metadata": {},
   "source": [
    "- یک کانولوشن با \n",
    "  - لغزاندن این پنجره‌های 3×3 یا 5×5 روی نقشه ویژگی ورودی سه‌بعدی، \n",
    "  - توقف در هر مکان ممکن، \n",
    "  - استخراج پچ سه‌بعدی ویژگی‌های اطراف کار می‌کند. \n",
    "- سپس هر یک از این وصله‌های سه‌بعدی به یک بردار یک بعدی به اندازه عمق خروجی تبدیل می‌شوند، \n",
    "  - این کار از طریق ضرب تنسور با یک ماتریس وزن، به نام هسته کانولوشن انجام می‌شود\n",
    "  - همان هسته در هر پچ دوباره استفاده می‌شود. \n",
    "- همه این بردارها (یکی در هر پچ) سپس به صورت مکانی در یک نقشه خروجی سه بعدی از شکل (ارتفاع، عرض، عمق ـ خروجی) جمع می‌شوند. \n",
    "- توجه داشته باشید که عرض و ارتفاع خروجی ممکن است به دو دلیل با عرض و ارتفاع ورودی متفاوت باشد:\n",
    "    - مرزها `borders`\n",
    "    - گام‌ها `strides`"
   ]
  },
  {
   "cell_type": "markdown",
   "metadata": {},
   "source": [
    "![کانولوشن چطور کار می کند؟](img/08-04.png)"
   ]
  },
  {
   "cell_type": "markdown",
   "metadata": {},
   "source": [
    "#### درک تاثیر مرز و لایه‌گذاری (padding)\n",
    "- پس از اعمال عملگر کانولوشن نمی‌توانیم انتظار داشته باشیم تصویر نتیجه به همان اندازه ورودی باشد.\n",
    "  - یک نقشه ویژگی 5 × 5 (مجموع 25 کاشی) را در نظر بگیرید. فقط 9 کاشی وجود دارد که می‌توانید یک پنجره 3 × 3 را در اطراف آنها قرار دهید و یک شبکه 3 × 3 را تشکیل دهید.\n",
    "  - این حالت پیش‌فرض برای کانولوشن دو‌بعدی است که با نام `valid` خوانده می‌شود."
   ]
  },
  {
   "cell_type": "markdown",
   "metadata": {},
   "source": [
    "![تاثیر مرز](img/08-05.png)\n",
    "\n",
    "- اگر بخواهیم همان ابعاد اولیه را دشته باشیم از لایه‌گذاری padding‌ استفاده می‌کنیم.\n",
    "  - برای کرنل ۳ در ۳ باید به سطر‌ها و ستون‌های تصویر اصلی دو ردیف پیکسلی اضافه کنیم.\n",
    "  - این حالت با پارامتر `padding=same` مشخص می‌شود."
   ]
  },
  {
   "cell_type": "markdown",
   "metadata": {},
   "source": [
    "![لایه‌گذاری](img/08-06.png)"
   ]
  },
  {
   "cell_type": "markdown",
   "metadata": {},
   "source": [
    "#### درک مفهوم گام در کانولوشن convolution strides\n",
    "- گام میزان حرکت کرنل را مشخص می‌کند و از عوامل تاثیر گذار در اندازه خروجی است.\n",
    "- استفاده از گام 2 به این معنی است که عرض و ارتفاع نقشه ویژگی با ضریب 2 نمونه‌برداری می‌شود.\n",
    "  - این حالت در مسائل دسته‌بندی کاربرد کمی دارد.\n",
    "\n",
    "![گام پیچش برابر ۲](img/08-07.png)"
   ]
  },
  {
   "cell_type": "markdown",
   "metadata": {},
   "source": [
    "### عملگر max-pooling\n",
    "- Max Pooling شامل استخراج پنجره‌ها از نقشه‌های ویژگی ورودی و خروجی حداکثر مقدار هر کانال است. \n",
    "- معمولا با گام ۲ برخلاف کانولوشن که ۳ در ۳ هست.\n",
    "- عدم استفاده از `max pooling` ۲ مشکل را در پی دارد:\n",
    "  1. برای یادگیری یک سلسله مراتب فضایی از ویژگی‌ها مناسب نیست. \n",
    "    - پنجره‌های 3 × 3 در لایه سوم فقط حاوی اطلاعاتی است که از 7 × 7 پنجره در ورودی اولیه می‌آید.\n",
    "    - الگوهای سطح بالایی که توسط convnet آموخته می‌شود با توجه به ورودی اولیه هنوز بسیار کوچک خواهد بود و برای یادگیری طبقه‌بندی ارقام احتمالا کافی نیست.\n",
    "      - (سعی کنید یک رقم را فقط با نگاه کردن به آن از طریق پنجره‌هایی با ابعاد 7 × 7 پیکسل تشخیص دهید! ).\n",
    "    - ما به ویژگی‌های آخرین لایه پیچیدگی نیاز داریم تا حاوی اطلاعاتی در مورد **کلیت ورودی** باشد.\n",
    "  2. بدون `max pooling` نقشه ویژگی دارای 61952  ضریب خواهد بود که همراه با لایه‌ی متراکم با اندازه ۱۰ حدود نیم‌میلیون پارامتر می‌شود!\n",
    "    - خطر بیش‌برازش"
   ]
  },
  {
   "cell_type": "markdown",
   "metadata": {},
   "source": [
    "**An incorrectly structured convnet missing its max-pooling layers**"
   ]
  },
  {
   "cell_type": "code",
   "execution_count": 7,
   "metadata": {
    "colab_type": "code"
   },
   "outputs": [],
   "source": [
    "inputs = keras.Input(shape=(28, 28, 1))\n",
    "x = layers.Conv2D(filters=32, kernel_size=3, activation=\"relu\")(inputs)\n",
    "x = layers.Conv2D(filters=64, kernel_size=3, activation=\"relu\")(x)\n",
    "x = layers.Conv2D(filters=128, kernel_size=3, activation=\"relu\")(x)\n",
    "x = layers.Flatten()(x)\n",
    "outputs = layers.Dense(10, activation=\"softmax\")(x)\n",
    "model_no_max_pool = keras.Model(inputs=inputs, outputs=outputs)"
   ]
  },
  {
   "cell_type": "code",
   "execution_count": 8,
   "metadata": {
    "colab_type": "code"
   },
   "outputs": [
    {
     "name": "stdout",
     "output_type": "stream",
     "text": [
      "Model: \"model_2\"\n",
      "_________________________________________________________________\n",
      "Layer (type)                 Output Shape              Param #   \n",
      "=================================================================\n",
      "input_3 (InputLayer)         [(None, 28, 28, 1)]       0         \n",
      "_________________________________________________________________\n",
      "conv2d_6 (Conv2D)            (None, 26, 26, 32)        320       \n",
      "_________________________________________________________________\n",
      "conv2d_7 (Conv2D)            (None, 24, 24, 64)        18496     \n",
      "_________________________________________________________________\n",
      "conv2d_8 (Conv2D)            (None, 22, 22, 128)       73856     \n",
      "_________________________________________________________________\n",
      "flatten_2 (Flatten)          (None, 61952)             0         \n",
      "_________________________________________________________________\n",
      "dense_2 (Dense)              (None, 10)                619530    \n",
      "=================================================================\n",
      "Total params: 712,202\n",
      "Trainable params: 712,202\n",
      "Non-trainable params: 0\n",
      "_________________________________________________________________\n"
     ]
    }
   ],
   "source": [
    "model_no_max_pool.summary()"
   ]
  },
  {
   "cell_type": "markdown",
   "metadata": {},
   "source": [
    "- بنابراین مزیت استفاده از `max pooling` کاهش تعداد پارامترها و ایجاد امکان نگاه کلان به تصویر برای دسته‌بندی است.\n",
    "- می‌توان از `average pooling` هم استفاده کرد گرچه معمولا خیلی مفید نیست\n",
    "  - به حداکثر حضور ویژگی‌های مختلف نسبت به حضور متوسط آنها آموزنده‌تر است. "
   ]
  },
  {
   "cell_type": "markdown",
   "metadata": {},
   "source": [
    "## آموزش یک convnet از ابتدا روی یک مجموعه داده کوچک\n",
    "- یکی از مسائل رایج دسته‌بندی آموزش دسته‌بندی روی یک مجموعه داده‌ی کوچک است.\n",
    "- به عنوان یک مثال عملی، ما بر طبقه‌بندی تصاویر به عنوان سگ یا گربه در مجموعه داده با مشخصات زیر تمرکز می‌کنیم.\n",
    "  - 5000 عکس از گربه و سگ (2500 گربه، 2500 سگ) \n",
    "    -   2000 تصویر برای آموزش، \n",
    "    -   1000 تصویر برای اعتبارسنجی \n",
    "    -   2000 تصویر برای آزمایش .\n",
    "- ابتدا آموزش را بدون چابک‌سازی انجام می‌دهیم تا به یک خط پایه برسیم.\n",
    "  - دقت ۷۰٪\n",
    "  - مسئله اصلی بیش‌برازش است.\n",
    "- سپس از تکنیک داده‌افزایی `data augmentation` برای کاهش مشکل بیش‌برازش استفاده می‌کنیم.\n",
    "  - دقت به حدود ۸۵٪ می‌رسد.\n",
    "- استخراج ویژگی از یک مدل از پیش‌آموزش دیده\n",
    "  - دقت ۹۷.۵٪\n",
    "- تنظیم دقیق یک مدل از پیش‌آموزش دیده\n",
    "  - دقت ۹۸.۵٪"
   ]
  },
  {
   "cell_type": "markdown",
   "metadata": {},
   "source": [
    "**نکته:** این سه استراتژی - آموزش یک مدل کوچک از ابتدا، انجام استخراج ویژگی با استفاده از یک مدل از پیش آموزش دیده، و تنظیم دقیق یک مدل از پیش آموزش دیده - جعبه ابزار آینده شما را برای حل مسائل طبقه‌بندی تصاویر با مجموعه داده‌های کوچک تشکیل می‌دهند."
   ]
  },
  {
   "cell_type": "markdown",
   "metadata": {},
   "source": [
    "### ارتباط یادگیری عمیق برای مسائل با مجموعه داده‌های کوچک\n",
    "با اینکه در مسئله مورد بحث تعداد داده‌های موجود کم هست، ولی بازهم شبکه‌های کانولوشنی نتایج قابل قبولی در پی دارند زیرا برای داده‌های حسب خوب کار می‌کنند."
   ]
  },
  {
   "cell_type": "markdown",
   "metadata": {},
   "source": [
    "### دانلود مجموعه داده\n",
    "\n",
    "- دانلود از کگل نیازمند یکی از دو روش زیر است.\n",
    "  - ساخت حساب کاربری و دانلود از آدرس زیر\n",
    "    - [http://www.kaggle.com/c/dogs-vs-cats/data](www.kaggle.com/c/dogs-vs-cats/data)\n",
    "  - استفاده از `Kaggle API`\n",
    "    - In your account settings: \n",
    "      - API section => Create New API Token => ‍‍`kaggle.json` \n",
    "      - Upload it on `Colab` \n",
    "      - make sure that the file is only readable by the current user, yourself."
   ]
  },
  {
   "cell_type": "code",
   "execution_count": null,
   "metadata": {
    "colab_type": "code"
   },
   "outputs": [],
   "source": [
    "from google.colab import files\n",
    "files.upload()"
   ]
  },
  {
   "cell_type": "code",
   "execution_count": null,
   "metadata": {
    "colab_type": "code"
   },
   "outputs": [],
   "source": [
    "!mkdir ~/.kaggle\n",
    "!cp kaggle.json ~/.kaggle/\n",
    "!chmod 600 ~/.kaggle/kaggle.json"
   ]
  },
  {
   "cell_type": "code",
   "execution_count": null,
   "metadata": {
    "colab_type": "code"
   },
   "outputs": [],
   "source": [
    "!kaggle competitions download -c dogs-vs-cats"
   ]
  },
  {
   "cell_type": "markdown",
   "metadata": {},
   "source": [
    "- اولین باری که سعی می‌کنید داده‌ها را دانلود کنید، ممکن است با خطای \"403 Forbidden\" مواجه شوید.\n",
    "  - این به این دلیل است که قبل از دانلود مجموعه داده باید شرایط مرتبط با آن را بپذیرید \n",
    "  - باید به آن برویدwww.kaggle.com/c/dogs-vs-cats/rules(در حالی که به حساب Kaggle خود وارد شده اید) و روی دکمه I Understand and Accept کلیک کنید. فقط یک بار باید این کار را انجام دهید.\n",
    "  - \n",
    "- در نهایت، داده‌های آموزشی یک فایل فشرده با نام train.zip است.\n",
    "-  مطمئن شوید که آن را از حالت فشرده خارج کرده اید (از حالت فشرده خارج کنید) بی صدا (-qq):\n"
   ]
  },
  {
   "cell_type": "code",
   "execution_count": null,
   "metadata": {
    "colab_type": "code"
   },
   "outputs": [],
   "source": [
    "!unzip -qq train.zip"
   ]
  },
  {
   "cell_type": "markdown",
   "metadata": {},
   "source": [
    "![نمونه تصاویر سگ و گربه](img/08-08.png)\n",
    "\n",
    "**کپی تصاویر به پوشه‌های training, validation و test**"
   ]
  },
  {
   "cell_type": "code",
   "execution_count": 4,
   "metadata": {
    "colab_type": "code"
   },
   "outputs": [
    {
     "ename": "FileExistsError",
     "evalue": "[Errno 17] File exists: 'data/cats_vs_dogs_small/train/cat'",
     "output_type": "error",
     "traceback": [
      "\u001b[0;31m---------------------------------------------------------------------------\u001b[0m",
      "\u001b[0;31mFileExistsError\u001b[0m                           Traceback (most recent call last)",
      "Cell \u001b[0;32mIn[4], line 18\u001b[0m\n\u001b[1;32m     14\u001b[0m         \u001b[38;5;28;01mfor\u001b[39;00m fname \u001b[38;5;129;01min\u001b[39;00m fnames:\n\u001b[1;32m     15\u001b[0m             shutil\u001b[38;5;241m.\u001b[39mcopyfile(src\u001b[38;5;241m=\u001b[39moriginal_dir \u001b[38;5;241m/\u001b[39m fname,\n\u001b[1;32m     16\u001b[0m                             dst\u001b[38;5;241m=\u001b[39m\u001b[38;5;28mdir\u001b[39m \u001b[38;5;241m/\u001b[39m fname)\n\u001b[0;32m---> 18\u001b[0m \u001b[43mmake_subset\u001b[49m\u001b[43m(\u001b[49m\u001b[38;5;124;43m\"\u001b[39;49m\u001b[38;5;124;43mtrain\u001b[39;49m\u001b[38;5;124;43m\"\u001b[39;49m\u001b[43m,\u001b[49m\u001b[43m \u001b[49m\u001b[43mstart_index\u001b[49m\u001b[38;5;241;43m=\u001b[39;49m\u001b[38;5;241;43m0\u001b[39;49m\u001b[43m,\u001b[49m\u001b[43m \u001b[49m\u001b[43mend_index\u001b[49m\u001b[38;5;241;43m=\u001b[39;49m\u001b[38;5;241;43m1000\u001b[39;49m\u001b[43m)\u001b[49m\n\u001b[1;32m     19\u001b[0m make_subset(\u001b[38;5;124m\"\u001b[39m\u001b[38;5;124mvalidation\u001b[39m\u001b[38;5;124m\"\u001b[39m, start_index\u001b[38;5;241m=\u001b[39m\u001b[38;5;241m1000\u001b[39m, end_index\u001b[38;5;241m=\u001b[39m\u001b[38;5;241m1500\u001b[39m)\n\u001b[1;32m     20\u001b[0m make_subset(\u001b[38;5;124m\"\u001b[39m\u001b[38;5;124mtest\u001b[39m\u001b[38;5;124m\"\u001b[39m, start_index\u001b[38;5;241m=\u001b[39m\u001b[38;5;241m1500\u001b[39m, end_index\u001b[38;5;241m=\u001b[39m\u001b[38;5;241m2500\u001b[39m)\n",
      "Cell \u001b[0;32mIn[4], line 12\u001b[0m, in \u001b[0;36mmake_subset\u001b[0;34m(subset_name, start_index, end_index)\u001b[0m\n\u001b[1;32m     10\u001b[0m \u001b[38;5;28;01mfor\u001b[39;00m category \u001b[38;5;129;01min\u001b[39;00m (\u001b[38;5;124m\"\u001b[39m\u001b[38;5;124mcat\u001b[39m\u001b[38;5;124m\"\u001b[39m, \u001b[38;5;124m\"\u001b[39m\u001b[38;5;124mdog\u001b[39m\u001b[38;5;124m\"\u001b[39m):\n\u001b[1;32m     11\u001b[0m     \u001b[38;5;28mdir\u001b[39m \u001b[38;5;241m=\u001b[39m new_base_dir \u001b[38;5;241m/\u001b[39m subset_name \u001b[38;5;241m/\u001b[39m category\n\u001b[0;32m---> 12\u001b[0m     \u001b[43mos\u001b[49m\u001b[38;5;241;43m.\u001b[39;49m\u001b[43mmakedirs\u001b[49m\u001b[43m(\u001b[49m\u001b[38;5;28;43mdir\u001b[39;49m\u001b[43m)\u001b[49m\n\u001b[1;32m     13\u001b[0m     fnames \u001b[38;5;241m=\u001b[39m [\u001b[38;5;124mf\u001b[39m\u001b[38;5;124m\"\u001b[39m\u001b[38;5;132;01m{\u001b[39;00mcategory\u001b[38;5;132;01m}\u001b[39;00m\u001b[38;5;124m.\u001b[39m\u001b[38;5;132;01m{\u001b[39;00mi\u001b[38;5;132;01m}\u001b[39;00m\u001b[38;5;124m.jpg\u001b[39m\u001b[38;5;124m\"\u001b[39m \u001b[38;5;28;01mfor\u001b[39;00m i \u001b[38;5;129;01min\u001b[39;00m \u001b[38;5;28mrange\u001b[39m(start_index, end_index)]\n\u001b[1;32m     14\u001b[0m     \u001b[38;5;28;01mfor\u001b[39;00m fname \u001b[38;5;129;01min\u001b[39;00m fnames:\n",
      "File \u001b[0;32m~/anaconda3/envs/tf/lib/python3.8/os.py:223\u001b[0m, in \u001b[0;36mmakedirs\u001b[0;34m(name, mode, exist_ok)\u001b[0m\n\u001b[1;32m    221\u001b[0m         \u001b[38;5;28;01mreturn\u001b[39;00m\n\u001b[1;32m    222\u001b[0m \u001b[38;5;28;01mtry\u001b[39;00m:\n\u001b[0;32m--> 223\u001b[0m     \u001b[43mmkdir\u001b[49m\u001b[43m(\u001b[49m\u001b[43mname\u001b[49m\u001b[43m,\u001b[49m\u001b[43m \u001b[49m\u001b[43mmode\u001b[49m\u001b[43m)\u001b[49m\n\u001b[1;32m    224\u001b[0m \u001b[38;5;28;01mexcept\u001b[39;00m \u001b[38;5;167;01mOSError\u001b[39;00m:\n\u001b[1;32m    225\u001b[0m     \u001b[38;5;66;03m# Cannot rely on checking for EEXIST, since the operating system\u001b[39;00m\n\u001b[1;32m    226\u001b[0m     \u001b[38;5;66;03m# could give priority to other errors like EACCES or EROFS\u001b[39;00m\n\u001b[1;32m    227\u001b[0m     \u001b[38;5;28;01mif\u001b[39;00m \u001b[38;5;129;01mnot\u001b[39;00m exist_ok \u001b[38;5;129;01mor\u001b[39;00m \u001b[38;5;129;01mnot\u001b[39;00m path\u001b[38;5;241m.\u001b[39misdir(name):\n",
      "\u001b[0;31mFileExistsError\u001b[0m: [Errno 17] File exists: 'data/cats_vs_dogs_small/train/cat'"
     ]
    }
   ],
   "source": [
    "# NOTE: this script is previously executed. You don't require to run it again\n",
    "\n",
    "import os, shutil, pathlib\n",
    "\n",
    "\n",
    "original_dir = pathlib.Path(\"/data/train\")  # unzip dogs-vs-cats.zip beforehand\n",
    "new_base_dir = pathlib.Path(\"data/cats_vs_dogs_small\")\n",
    "\n",
    "def make_subset(subset_name, start_index, end_index):\n",
    "    for category in (\"cat\", \"dog\"):\n",
    "        dir = new_base_dir / subset_name / category\n",
    "        os.makedirs(dir)\n",
    "        fnames = [f\"{category}.{i}.jpg\" for i in range(start_index, end_index)]\n",
    "        for fname in fnames:\n",
    "            shutil.copyfile(src=original_dir / fname,\n",
    "                            dst=dir / fname)\n",
    "\n",
    "make_subset(\"train\", start_index=0, end_index=1000)\n",
    "make_subset(\"validation\", start_index=1000, end_index=1500)\n",
    "make_subset(\"test\", start_index=1500, end_index=2500)"
   ]
  },
  {
   "cell_type": "markdown",
   "metadata": {},
   "source": [
    "### ساخت مدل\n",
    "\n",
    "- ما مدل را با یک لایه Rescaling شروع می‌کنیم، که ورودی‌های تصویر (که مقادیر آنها در ابتدا در محدوده [0، 255] است) به محدوده [0، 1] تغییر مقیاس می‌دهد.\n",
    "- عمق نقشه‌های ویژگی به تدریج در مدل افزایش می‌یابد (از 32 به 256)، در حالی که اندازه نقشه‌های ویژگی کاهش می‌یابد (از 180 × 180 به 7 × 7). \n",
    "\n"
   ]
  },
  {
   "cell_type": "markdown",
   "metadata": {},
   "source": [
    "**Instantiating a small convnet for dogs vs. cats classification**"
   ]
  },
  {
   "cell_type": "code",
   "execution_count": 5,
   "metadata": {
    "colab_type": "code"
   },
   "outputs": [],
   "source": [
    "from tensorflow import keras\n",
    "from tensorflow.keras import layers\n",
    "\n",
    "inputs = keras.Input(shape=(180, 180, 3))\n",
    "x = layers.experimental.preprocessing.Rescaling(1./255)(inputs)\n",
    "x = layers.Conv2D(filters=32, kernel_size=3, activation=\"relu\")(x)\n",
    "x = layers.MaxPooling2D(pool_size=2)(x)\n",
    "x = layers.Conv2D(filters=64, kernel_size=3, activation=\"relu\")(x)\n",
    "x = layers.MaxPooling2D(pool_size=2)(x)\n",
    "x = layers.Conv2D(filters=128, kernel_size=3, activation=\"relu\")(x)\n",
    "x = layers.MaxPooling2D(pool_size=2)(x)\n",
    "x = layers.Conv2D(filters=256, kernel_size=3, activation=\"relu\")(x)\n",
    "x = layers.MaxPooling2D(pool_size=2)(x)\n",
    "x = layers.Conv2D(filters=256, kernel_size=3, activation=\"relu\")(x)\n",
    "x = layers.Flatten()(x)\n",
    "outputs = layers.Dense(1, activation=\"sigmoid\")(x)\n",
    "model = keras.Model(inputs=inputs, outputs=outputs)"
   ]
  },
  {
   "cell_type": "code",
   "execution_count": 6,
   "metadata": {
    "colab_type": "code"
   },
   "outputs": [
    {
     "name": "stdout",
     "output_type": "stream",
     "text": [
      "Model: \"model_1\"\n",
      "_________________________________________________________________\n",
      " Layer (type)                Output Shape              Param #   \n",
      "=================================================================\n",
      " input_2 (InputLayer)        [(None, 180, 180, 3)]     0         \n",
      "                                                                 \n",
      " rescaling_1 (Rescaling)     (None, 180, 180, 3)       0         \n",
      "                                                                 \n",
      " conv2d_5 (Conv2D)           (None, 178, 178, 32)      896       \n",
      "                                                                 \n",
      " max_pooling2d_4 (MaxPooling  (None, 89, 89, 32)       0         \n",
      " 2D)                                                             \n",
      "                                                                 \n",
      " conv2d_6 (Conv2D)           (None, 87, 87, 64)        18496     \n",
      "                                                                 \n",
      " max_pooling2d_5 (MaxPooling  (None, 43, 43, 64)       0         \n",
      " 2D)                                                             \n",
      "                                                                 \n",
      " conv2d_7 (Conv2D)           (None, 41, 41, 128)       73856     \n",
      "                                                                 \n",
      " max_pooling2d_6 (MaxPooling  (None, 20, 20, 128)      0         \n",
      " 2D)                                                             \n",
      "                                                                 \n",
      " conv2d_8 (Conv2D)           (None, 18, 18, 256)       295168    \n",
      "                                                                 \n",
      " max_pooling2d_7 (MaxPooling  (None, 9, 9, 256)        0         \n",
      " 2D)                                                             \n",
      "                                                                 \n",
      " conv2d_9 (Conv2D)           (None, 7, 7, 256)         590080    \n",
      "                                                                 \n",
      " flatten_1 (Flatten)         (None, 12544)             0         \n",
      "                                                                 \n",
      " dense_1 (Dense)             (None, 1)                 12545     \n",
      "                                                                 \n",
      "=================================================================\n",
      "Total params: 991,041\n",
      "Trainable params: 991,041\n",
      "Non-trainable params: 0\n",
      "_________________________________________________________________\n"
     ]
    }
   ],
   "source": [
    "model.summary()"
   ]
  },
  {
   "cell_type": "markdown",
   "metadata": {},
   "source": [
    "**پیکربندی مدل برای آموزش**"
   ]
  },
  {
   "cell_type": "code",
   "execution_count": 15,
   "metadata": {
    "colab_type": "code"
   },
   "outputs": [],
   "source": [
    "model.compile(loss=\"binary_crossentropy\",\n",
    "              optimizer=\"rmsprop\",\n",
    "              metrics=[\"accuracy\"])"
   ]
  },
  {
   "cell_type": "markdown",
   "metadata": {},
   "source": [
    "### پیش‌پردازش داده‌ها\n",
    "مراحل زیر برای پیش‌پردازش تصاویر ورودی انجام می‌شود.\n",
    "\n",
    "1.\tفایل‌های تصویری را بخوانید.\n",
    "2.\tمحتوای JPEG را به شبکه‌های پیکسلی RGB رمزگشایی کنید.\n",
    "3.\tاینها را به تانسورهای ممیز شناور تبدیل کنید.\n",
    "4.\tاندازه آنها را به یک اندازه مشترک تغییر دهید (از 180 × 180 استفاده خواهیم کرد).\n",
    "5.\tآنها را به صورت دسته ای بسته بندی کنید (ما از دسته‌های 32 تصویری استفاده خواهیم کرد).\n",
    "\n",
    "\n",
    "**Using `image_dataset_from_directory` to read images**"
   ]
  },
  {
   "cell_type": "code",
   "execution_count": 16,
   "metadata": {
    "colab_type": "code"
   },
   "outputs": [
    {
     "name": "stdout",
     "output_type": "stream",
     "text": [
      "Found 2000 files belonging to 2 classes.\n",
      "Found 1000 files belonging to 2 classes.\n",
      "Found 2000 files belonging to 2 classes.\n"
     ]
    }
   ],
   "source": [
    "# from tensorflow.keras.utils import image_dataset_from_directory\n",
    "from tensorflow.keras.preprocessing import image_dataset_from_directory\n",
    "\n",
    "train_dataset = image_dataset_from_directory(\n",
    "    new_base_dir / \"train\",\n",
    "    image_size=(180, 180),\n",
    "    batch_size=32)\n",
    "validation_dataset = image_dataset_from_directory(\n",
    "    new_base_dir / \"validation\",\n",
    "    image_size=(180, 180),\n",
    "    batch_size=32)\n",
    "test_dataset = image_dataset_from_directory(\n",
    "    new_base_dir / \"test\",\n",
    "    image_size=(180, 180),\n",
    "    batch_size=32)"
   ]
  },
  {
   "cell_type": "code",
   "execution_count": 17,
   "metadata": {
    "colab_type": "code"
   },
   "outputs": [],
   "source": [
    "import numpy as np\n",
    "import tensorflow as tf\n",
    "random_numbers = np.random.normal(size=(1000, 16))\n",
    "dataset = tf.data.Dataset.from_tensor_slices(random_numbers)"
   ]
  },
  {
   "cell_type": "code",
   "execution_count": 18,
   "metadata": {
    "colab_type": "code"
   },
   "outputs": [
    {
     "name": "stdout",
     "output_type": "stream",
     "text": [
      "(16,)\n",
      "(16,)\n",
      "(16,)\n"
     ]
    }
   ],
   "source": [
    "for i, element in enumerate(dataset):\n",
    "    print(element.shape)\n",
    "    if i >= 2:\n",
    "        break"
   ]
  },
  {
   "cell_type": "markdown",
   "metadata": {},
   "source": [
    "- برای دسته بندی داده‌ها می‌توانیم از متد .batch() استفاده کنیم"
   ]
  },
  {
   "cell_type": "code",
   "execution_count": 19,
   "metadata": {
    "colab_type": "code"
   },
   "outputs": [
    {
     "name": "stdout",
     "output_type": "stream",
     "text": [
      "(32, 16)\n",
      "(32, 16)\n",
      "(32, 16)\n"
     ]
    }
   ],
   "source": [
    "batched_dataset = dataset.batch(32)\n",
    "for i, element in enumerate(batched_dataset):\n",
    "    print(element.shape)\n",
    "    if i >= 2:\n",
    "        break"
   ]
  },
  {
   "cell_type": "markdown",
   "metadata": {},
   "source": [
    "- از متد `map` برای تغییر شکل عناصر استفاده می‌شود.\n"
   ]
  },
  {
   "cell_type": "code",
   "execution_count": 20,
   "metadata": {
    "colab_type": "code"
   },
   "outputs": [
    {
     "name": "stdout",
     "output_type": "stream",
     "text": [
      "(4, 4)\n",
      "(4, 4)\n",
      "(4, 4)\n"
     ]
    }
   ],
   "source": [
    "reshaped_dataset = dataset.map(lambda x: tf.reshape(x, (4, 4)))\n",
    "for i, element in enumerate(reshaped_dataset):\n",
    "    print(element.shape)\n",
    "    if i >= 2:\n",
    "        break"
   ]
  },
  {
   "cell_type": "markdown",
   "metadata": {},
   "source": [
    "**نمایش اشکال داده‌ها و برچسب‌های به دست آمده توسط مجموعه داده**"
   ]
  },
  {
   "cell_type": "code",
   "execution_count": 21,
   "metadata": {
    "colab_type": "code"
   },
   "outputs": [
    {
     "name": "stdout",
     "output_type": "stream",
     "text": [
      "data batch shape: (32, 180, 180, 3)\n",
      "labels batch shape: (32,)\n"
     ]
    }
   ],
   "source": [
    "for data_batch, labels_batch in train_dataset:\n",
    "    print(\"data batch shape:\", data_batch.shape)\n",
    "    print(\"labels batch shape:\", labels_batch.shape)\n",
    "    break"
   ]
  },
  {
   "cell_type": "markdown",
   "metadata": {},
   "source": [
    "**برازش مدل**"
   ]
  },
  {
   "cell_type": "code",
   "execution_count": null,
   "metadata": {
    "colab_type": "code"
   },
   "outputs": [
    {
     "name": "stdout",
     "output_type": "stream",
     "text": [
      "Epoch 1/30\n"
     ]
    },
    {
     "name": "stderr",
     "output_type": "stream",
     "text": [
      "2022-12-25 08:59:08.536969: I tensorflow/stream_executor/platform/default/dso_loader.cc:49] Successfully opened dynamic library libcublas.so.10\n",
      "2022-12-25 08:59:09.238186: I tensorflow/stream_executor/platform/default/dso_loader.cc:49] Successfully opened dynamic library libcudnn.so.7\n",
      "2022-12-25 08:59:10.223586: W tensorflow/stream_executor/gpu/asm_compiler.cc:63] Running ptxas --version returned 256\n",
      "2022-12-25 08:59:10.282534: W tensorflow/stream_executor/gpu/redzone_allocator.cc:314] Internal: ptxas exited with non-zero error code 256, output: \n",
      "Relying on driver to perform ptx compilation. \n",
      "Modify $PATH to customize ptxas location.\n",
      "This message will be only logged once.\n"
     ]
    },
    {
     "name": "stdout",
     "output_type": "stream",
     "text": [
      "63/63 [==============================] - 51s 577ms/step - loss: 0.9133 - accuracy: 0.5010 - val_loss: 0.6937 - val_accuracy: 0.5000\n",
      "Epoch 2/30\n",
      "63/63 [==============================] - 19s 286ms/step - loss: 0.7248 - accuracy: 0.5408 - val_loss: 0.6828 - val_accuracy: 0.5370\n",
      "Epoch 3/30\n",
      "63/63 [==============================] - 18s 286ms/step - loss: 0.7018 - accuracy: 0.5897 - val_loss: 0.6492 - val_accuracy: 0.6210\n",
      "Epoch 4/30\n",
      "63/63 [==============================] - 18s 284ms/step - loss: 0.6631 - accuracy: 0.6078 - val_loss: 1.6920 - val_accuracy: 0.5060\n",
      "Epoch 5/30\n",
      "63/63 [==============================] - 18s 285ms/step - loss: 0.6525 - accuracy: 0.6952 - val_loss: 0.6159 - val_accuracy: 0.6700\n",
      "Epoch 6/30\n",
      "63/63 [==============================] - 19s 296ms/step - loss: 0.5693 - accuracy: 0.7087 - val_loss: 0.5751 - val_accuracy: 0.6980\n",
      "Epoch 7/30\n",
      "63/63 [==============================] - 20s 307ms/step - loss: 0.5583 - accuracy: 0.7362 - val_loss: 0.5831 - val_accuracy: 0.6870\n",
      "Epoch 8/30\n",
      "63/63 [==============================] - 19s 295ms/step - loss: 0.4862 - accuracy: 0.7639 - val_loss: 0.6196 - val_accuracy: 0.6860\n",
      "Epoch 9/30\n",
      "63/63 [==============================] - 19s 291ms/step - loss: 0.4447 - accuracy: 0.8026 - val_loss: 0.6386 - val_accuracy: 0.6960\n",
      "Epoch 10/30\n",
      "63/63 [==============================] - 18s 282ms/step - loss: 0.3901 - accuracy: 0.8221 - val_loss: 0.8965 - val_accuracy: 0.6670\n",
      "Epoch 11/30\n",
      "63/63 [==============================] - 19s 285ms/step - loss: 0.3477 - accuracy: 0.8357 - val_loss: 0.7356 - val_accuracy: 0.7210\n",
      "Epoch 12/30\n",
      "63/63 [==============================] - 19s 290ms/step - loss: 0.2737 - accuracy: 0.8830 - val_loss: 0.7769 - val_accuracy: 0.6990\n",
      "Epoch 13/30\n",
      "63/63 [==============================] - 18s 284ms/step - loss: 0.2179 - accuracy: 0.9024 - val_loss: 1.1915 - val_accuracy: 0.6900\n",
      "Epoch 14/30\n",
      "63/63 [==============================] - 19s 288ms/step - loss: 0.1928 - accuracy: 0.9208 - val_loss: 1.1448 - val_accuracy: 0.7060\n",
      "Epoch 15/30\n",
      "63/63 [==============================] - 18s 284ms/step - loss: 0.1510 - accuracy: 0.9396 - val_loss: 1.0331 - val_accuracy: 0.7040\n",
      "Epoch 16/30\n",
      "63/63 [==============================] - 19s 291ms/step - loss: 0.0972 - accuracy: 0.9628 - val_loss: 1.0647 - val_accuracy: 0.7220\n",
      "Epoch 17/30\n",
      "63/63 [==============================] - 18s 285ms/step - loss: 0.0829 - accuracy: 0.9742 - val_loss: 1.2100 - val_accuracy: 0.7130\n",
      "Epoch 18/30\n",
      "63/63 [==============================] - 18s 284ms/step - loss: 0.0865 - accuracy: 0.9665 - val_loss: 1.8315 - val_accuracy: 0.6720\n",
      "Epoch 19/30\n",
      "63/63 [==============================] - 18s 285ms/step - loss: 0.1060 - accuracy: 0.9603 - val_loss: 1.6352 - val_accuracy: 0.6840\n",
      "Epoch 20/30\n",
      "63/63 [==============================] - 19s 288ms/step - loss: 0.1152 - accuracy: 0.9639 - val_loss: 1.5247 - val_accuracy: 0.6840\n",
      "Epoch 21/30\n",
      "63/63 [==============================] - 18s 286ms/step - loss: 0.0452 - accuracy: 0.9878 - val_loss: 1.8427 - val_accuracy: 0.7270\n",
      "Epoch 22/30\n",
      "63/63 [==============================] - 18s 285ms/step - loss: 0.0905 - accuracy: 0.9805 - val_loss: 1.7969 - val_accuracy: 0.7220\n",
      "Epoch 23/30\n",
      "63/63 [==============================] - 18s 285ms/step - loss: 0.0598 - accuracy: 0.9755 - val_loss: 1.8864 - val_accuracy: 0.7220\n",
      "Epoch 24/30\n",
      "63/63 [==============================] - 18s 282ms/step - loss: 0.0629 - accuracy: 0.9802 - val_loss: 1.9116 - val_accuracy: 0.7200\n",
      "Epoch 25/30\n",
      "29/63 [============>.................] - ETA: 7s - loss: 0.0552 - accuracy: 0.9807"
     ]
    }
   ],
   "source": [
    "callbacks = [\n",
    "    tf.keras.callbacks.ModelCheckpoint(\n",
    "        filepath=\"convnet_from_scratch.keras\",\n",
    "        save_best_only=True,\n",
    "        monitor=\"val_loss\")\n",
    "]\n",
    "history = model.fit(\n",
    "    train_dataset,\n",
    "    epochs=30,\n",
    "    validation_data=validation_dataset,\n",
    "    callbacks=callbacks)"
   ]
  },
  {
   "cell_type": "markdown",
   "metadata": {},
   "source": [
    "**نمایش منحنی‌های loss و accuracy در طول آموزش**"
   ]
  },
  {
   "cell_type": "code",
   "execution_count": null,
   "metadata": {
    "colab_type": "code"
   },
   "outputs": [],
   "source": [
    "import matplotlib.pyplot as plt\n",
    "accuracy = history.history[\"accuracy\"]\n",
    "val_accuracy = history.history[\"val_accuracy\"]\n",
    "loss = history.history[\"loss\"]\n",
    "val_loss = history.history[\"val_loss\"]\n",
    "epochs = range(1, len(accuracy) + 1)\n",
    "plt.plot(epochs, accuracy, \"bo\", label=\"Training accuracy\")\n",
    "plt.plot(epochs, val_accuracy, \"b\", label=\"Validation accuracy\")\n",
    "plt.title(\"Training and validation accuracy\")\n",
    "plt.legend()\n",
    "plt.figure()\n",
    "plt.plot(epochs, loss, \"bo\", label=\"Training loss\")\n",
    "plt.plot(epochs, val_loss, \"b\", label=\"Validation loss\")\n",
    "plt.title(\"Training and validation loss\")\n",
    "plt.legend()\n",
    "plt.show()"
   ]
  },
  {
   "cell_type": "markdown",
   "metadata": {},
   "source": [
    "**ارزیابی مدل در مورد مجموعه داده تست**"
   ]
  },
  {
   "cell_type": "code",
   "execution_count": null,
   "metadata": {
    "colab_type": "code"
   },
   "outputs": [],
   "source": [
    "test_model = keras.models.load_model(\"convnet_from_scratch.keras\")\n",
    "test_loss, test_acc = test_model.evaluate(test_dataset)\n",
    "print(f\"Test accuracy: {test_acc:.3f}\")"
   ]
  },
  {
   "cell_type": "markdown",
   "metadata": {},
   "source": [
    "### استفاده از افزونگی در داده‌ها  `data augmentation`\n",
    "\n",
    "- بیش‌برازش  به دلیل داشتن نمونه‌های بسیار کم برای یادگیری است که باعث می‌شود شما نتوانید مدلی را آموزش دهید که بتواند به داده‌های جدید تعمیم دهد.\n",
    "- اگر تعداد داده‌های ورودی کافی باشد و جنبه‌های ممکن تصویر ورودی را بتواند به درستی و کامل نشان دهد، مدل شما بیش‌برازش نمی‌کند.\n",
    "- تقویت داده‌ها رویکرد تولید داده‌های آموزشی بیشتر از نمونه‌های آموزشی موجود را با افزایش نمونه‌ها از طریق تعدادی تبدیل تصادفی دارد که تصاویری با ظاهر باورپذیر به دست می‌دهد.\n",
    "- هدف این است که، در زمان آموزش، مدل شما هرگز یک تصویر مشابه را دوبار نبیند. این \n",
    "  - تعمیم بهتر\n",
    "\n",
    "**تعریف یک مرحله افزایش داده برای افزودن به مدل تصویر**"
   ]
  },
  {
   "cell_type": "code",
   "execution_count": null,
   "metadata": {
    "colab_type": "code"
   },
   "outputs": [],
   "source": [
    "data_augmentation = keras.Sequential(\n",
    "    [\n",
    "        layers.RandomFlip(\"horizontal\"),\n",
    "        layers.RandomRotation(0.1),\n",
    "        layers.RandomZoom(0.2),\n",
    "    ]\n",
    ")"
   ]
  },
  {
   "cell_type": "markdown",
   "metadata": {},
   "source": [
    "**نمایش تعدادی تصاویر تصادفی بعد از ایجاد افزونگی در داده‌های آموزشی**"
   ]
  },
  {
   "cell_type": "code",
   "execution_count": null,
   "metadata": {
    "colab_type": "code"
   },
   "outputs": [],
   "source": [
    "plt.figure(figsize=(10, 10))\n",
    "for images, _ in train_dataset.take(1):\n",
    "    for i in range(9):\n",
    "        augmented_images = data_augmentation(images)\n",
    "        ax = plt.subplot(3, 3, i + 1)\n",
    "        plt.imshow(augmented_images[0].numpy().astype(\"uint8\"))\n",
    "        plt.axis(\"off\")"
   ]
  },
  {
   "cell_type": "markdown",
   "metadata": {},
   "source": [
    "- برای مقابله بیشتر با بیش‌برازش می‌توانیم از یک لایه `dropout` هم استفاده کنیم.\n",
    "\n",
    "**تعریف یک `convnet` جدید همراه با افزونگی در داده‌ها و `dropout`**"
   ]
  },
  {
   "cell_type": "code",
   "execution_count": null,
   "metadata": {
    "colab_type": "code"
   },
   "outputs": [],
   "source": [
    "inputs = keras.Input(shape=(180, 180, 3))\n",
    "x = data_augmentation(inputs)\n",
    "x = layers.Rescaling(1./255)(x)\n",
    "x = layers.Conv2D(filters=32, kernel_size=3, activation=\"relu\")(x)\n",
    "x = layers.MaxPooling2D(pool_size=2)(x)\n",
    "x = layers.Conv2D(filters=64, kernel_size=3, activation=\"relu\")(x)\n",
    "x = layers.MaxPooling2D(pool_size=2)(x)\n",
    "x = layers.Conv2D(filters=128, kernel_size=3, activation=\"relu\")(x)\n",
    "x = layers.MaxPooling2D(pool_size=2)(x)\n",
    "x = layers.Conv2D(filters=256, kernel_size=3, activation=\"relu\")(x)\n",
    "x = layers.MaxPooling2D(pool_size=2)(x)\n",
    "x = layers.Conv2D(filters=256, kernel_size=3, activation=\"relu\")(x)\n",
    "x = layers.Flatten()(x)\n",
    "x = layers.Dropout(0.5)(x)\n",
    "outputs = layers.Dense(1, activation=\"sigmoid\")(x)\n",
    "model = keras.Model(inputs=inputs, outputs=outputs)\n",
    "\n",
    "model.compile(loss=\"binary_crossentropy\",\n",
    "              optimizer=\"rmsprop\",\n",
    "              metrics=[\"accuracy\"])"
   ]
  },
  {
   "cell_type": "markdown",
   "metadata": {},
   "source": [
    "- با توجه به استفاده از ابزارهایی برای چابک‌سازی مدل نیاز به تعداد بیشتری `epoch` برای بیش‌برازش داریم.\n",
    "\n",
    "**Training the regularized convnet**"
   ]
  },
  {
   "cell_type": "code",
   "execution_count": null,
   "metadata": {
    "colab_type": "code"
   },
   "outputs": [],
   "source": [
    "callbacks = [\n",
    "    keras.callbacks.ModelCheckpoint(\n",
    "        filepath=\"convnet_from_scratch_with_augmentation.keras\",\n",
    "        save_best_only=True,\n",
    "        monitor=\"val_loss\")\n",
    "]\n",
    "history = model.fit(\n",
    "    train_dataset,\n",
    "    epochs=100,\n",
    "    validation_data=validation_dataset,\n",
    "    callbacks=callbacks)"
   ]
  },
  {
   "cell_type": "markdown",
   "metadata": {},
   "source": [
    "**ارزیابی مدل روی مجموعه تست**"
   ]
  },
  {
   "cell_type": "code",
   "execution_count": null,
   "metadata": {
    "colab_type": "code"
   },
   "outputs": [],
   "source": [
    "test_model = keras.models.load_model(\n",
    "    \"convnet_from_scratch_with_augmentation.keras\")\n",
    "test_loss, test_acc = test_model.evaluate(test_dataset)\n",
    "print(f\"Test accuracy: {test_acc:.3f}\")"
   ]
  },
  {
   "cell_type": "markdown",
   "metadata": {},
   "source": [
    "**نکته:** گرچه می‌توانیم بهبودهای بیشتری را در مدل بدهیم ولی دقت به زحمت بیش از ۹۰٪ خواهد شد!"
   ]
  },
  {
   "cell_type": "markdown",
   "metadata": {},
   "source": [
    "## استفاده از یک مدل از پیش آموزش دیده\n",
    "- می‌توانید از یک مدل آموزش دیده روی مجموعه داده‌های بزرگ برای مدل‌سازی یک مسئله دسته‌بندی روی مجموعه داده‌ی کوچک استفاده کنید.\n",
    "- اگر این مجموعه داده اصلی به اندازه کافی بزرگ و کلی باشد، ویژگی‌های آن می‌تواند برای بسیاری از مسايل بینایی کامپیوتری مختلف مفید باشد، حتی اگر این مسائل جدید شامل کلاس‌های کاملاً متفاوتی نسبت به کارهای اصلی باشد.\n",
    "  - به عنوان مثال، می‌توانید یک مدل را در ImageNet آموزش دهید (که در آن کلاس‌ها عمدتاً حیوانات و اشیاء روزمره هستند) و سپس این مدل آموزش‌دیده را برای چیزی به دوردست‌تر از شناسایی وسایل مبلمان در تصاویر تغییر دهید.\n",
    "- در اینجا از معماری VGG16 (از ماژول `keras.applications`) که در سال 2014 بر روی ImageNet آموزش داده شده استفاده می‌کنیم.\n",
    "- دو راه برای استفاده از یک مدل از پیش آموزش دیده وجود دارد: \n",
    "1. استخراج ویژگی\n",
    "2. تنظیم دقیق"
   ]
  },
  {
   "cell_type": "markdown",
   "metadata": {},
   "source": [
    "### استخراج ویژگی با یک مدل از پیش آموزش دیده\n",
    "استخراج ویژگی شامل استفاده از نمایش‌های آموخته شده توسط یک مدل قبلا آموزش دیده برای استخراج ویژگی‌های جالب از نمونه‌های جدید است. سپس این ویژگی‌ها از طریق یک طبقه بندی کننده جدید اجرا می‌شوند که از ابتدا آموزش داده شده است.\n",
    "- قبلا دیدید که convnet شامل دو بخش زیر هست:\n",
    "- \tلایه‌های کانولوشنی و pooling است (پایه کانولوشن مدل برای استخراج ویژگی که عمومی است.)\n",
    "- \tیک طبقه‌بند تمام متصل (فاقد اطلاعات مکانی اشیا موجود در تصاویر - مربوط به مسئله خاص مورد بررسی ).\n",
    "\n",
    "![ تعویض طبقه‌بندی‌کننده‌ها با حفظ همان پایه کانولوشن](img/08-12.png)\n",
    "\n",
    "- لایه‌های اول شامل اطلاعات عام مانند لبه‌ها، رنگ‌ها و بافت‌ها هستند ولی لایه‌های بالاتر ویژگی‌های انتزاعی‌تری (مانند گوش گربه، چشم سگ و ...) را مدل می‌کنند. بنابراین با توجه به میزان تفاوت مسئله مورد بررسی با مدل آموزش‌دیده اولیه باید از تعداد لایه‌ی مناسب استفاده کرد. "
   ]
  },
  {
   "cell_type": "markdown",
   "metadata": {},
   "source": [
    "**Instantiating the VGG16 convolutional base**"
   ]
  },
  {
   "cell_type": "code",
   "execution_count": 7,
   "metadata": {
    "colab_type": "code"
   },
   "outputs": [],
   "source": [
    "conv_base = keras.applications.vgg16.VGG16(\n",
    "    weights=\"imagenet\",\n",
    "    include_top=False, # عدم گنجاندن طبقه‌بند کلی\n",
    "    input_shape=(180, 180, 3))"
   ]
  },
  {
   "cell_type": "code",
   "execution_count": 8,
   "metadata": {
    "colab_type": "code"
   },
   "outputs": [
    {
     "name": "stdout",
     "output_type": "stream",
     "text": [
      "Model: \"vgg16\"\n",
      "_________________________________________________________________\n",
      " Layer (type)                Output Shape              Param #   \n",
      "=================================================================\n",
      " input_3 (InputLayer)        [(None, 180, 180, 3)]     0         \n",
      "                                                                 \n",
      " block1_conv1 (Conv2D)       (None, 180, 180, 64)      1792      \n",
      "                                                                 \n",
      " block1_conv2 (Conv2D)       (None, 180, 180, 64)      36928     \n",
      "                                                                 \n",
      " block1_pool (MaxPooling2D)  (None, 90, 90, 64)        0         \n",
      "                                                                 \n",
      " block2_conv1 (Conv2D)       (None, 90, 90, 128)       73856     \n",
      "                                                                 \n",
      " block2_conv2 (Conv2D)       (None, 90, 90, 128)       147584    \n",
      "                                                                 \n",
      " block2_pool (MaxPooling2D)  (None, 45, 45, 128)       0         \n",
      "                                                                 \n",
      " block3_conv1 (Conv2D)       (None, 45, 45, 256)       295168    \n",
      "                                                                 \n",
      " block3_conv2 (Conv2D)       (None, 45, 45, 256)       590080    \n",
      "                                                                 \n",
      " block3_conv3 (Conv2D)       (None, 45, 45, 256)       590080    \n",
      "                                                                 \n",
      " block3_pool (MaxPooling2D)  (None, 22, 22, 256)       0         \n",
      "                                                                 \n",
      " block4_conv1 (Conv2D)       (None, 22, 22, 512)       1180160   \n",
      "                                                                 \n",
      " block4_conv2 (Conv2D)       (None, 22, 22, 512)       2359808   \n",
      "                                                                 \n",
      " block4_conv3 (Conv2D)       (None, 22, 22, 512)       2359808   \n",
      "                                                                 \n",
      " block4_pool (MaxPooling2D)  (None, 11, 11, 512)       0         \n",
      "                                                                 \n",
      " block5_conv1 (Conv2D)       (None, 11, 11, 512)       2359808   \n",
      "                                                                 \n",
      " block5_conv2 (Conv2D)       (None, 11, 11, 512)       2359808   \n",
      "                                                                 \n",
      " block5_conv3 (Conv2D)       (None, 11, 11, 512)       2359808   \n",
      "                                                                 \n",
      " block5_pool (MaxPooling2D)  (None, 5, 5, 512)         0         \n",
      "                                                                 \n",
      "=================================================================\n",
      "Total params: 14,714,688\n",
      "Trainable params: 14,714,688\n",
      "Non-trainable params: 0\n",
      "_________________________________________________________________\n"
     ]
    }
   ],
   "source": [
    "conv_base.summary()"
   ]
  },
  {
   "cell_type": "markdown",
   "metadata": {},
   "source": [
    "- نقشه ویژگی نهایی دارای شکل (5، 5، 512) است. \n",
    "- این نقشه ویژگی است که در بالای آن لایه‌‌ی متراکم برای طبقه‌بندی‌ متصل می‌کنیم.\n",
    "- \tاستفاده از مدل آموزش‌دیده روی تصاویر و ذخیره نتایج روی دیسک و سپس اعمال لایه متراکم جدید (سرعت بالا – عدم امکان استفاده از افزونگی داده)\n",
    "- \tاتصال لایه متراکم به انتهای شبکه آموزش‌دیده و آموزش کل شبکه از اول (روش گران - دقت بالاتر)\n",
    "\n",
    "\n",
    "\n",
    "#### استخراج سریع ویژگی بدون افزایش داده ها\n",
    "بايد داده‌ها را پیش‌پردازش کنیم تا داده‌ها در مقیاس درست قرار گیرند.\n",
    "\n",
    "**Extracting the VGG16 features and corresponding labels**"
   ]
  },
  {
   "cell_type": "code",
   "execution_count": 9,
   "metadata": {
    "colab_type": "code"
   },
   "outputs": [
    {
     "ename": "NameError",
     "evalue": "name 'train_dataset' is not defined",
     "output_type": "error",
     "traceback": [
      "\u001b[0;31m---------------------------------------------------------------------------\u001b[0m",
      "\u001b[0;31mNameError\u001b[0m                                 Traceback (most recent call last)",
      "Cell \u001b[0;32mIn[9], line 13\u001b[0m\n\u001b[1;32m     10\u001b[0m         all_labels\u001b[38;5;241m.\u001b[39mappend(labels)\n\u001b[1;32m     11\u001b[0m     \u001b[38;5;28;01mreturn\u001b[39;00m np\u001b[38;5;241m.\u001b[39mconcatenate(all_features), np\u001b[38;5;241m.\u001b[39mconcatenate(all_labels)\n\u001b[0;32m---> 13\u001b[0m train_features, train_labels \u001b[38;5;241m=\u001b[39m  get_features_and_labels(\u001b[43mtrain_dataset\u001b[49m)\n\u001b[1;32m     14\u001b[0m val_features, val_labels \u001b[38;5;241m=\u001b[39m  get_features_and_labels(validation_dataset)\n\u001b[1;32m     15\u001b[0m test_features, test_labels \u001b[38;5;241m=\u001b[39m  get_features_and_labels(test_dataset)\n",
      "\u001b[0;31mNameError\u001b[0m: name 'train_dataset' is not defined"
     ]
    }
   ],
   "source": [
    "import numpy as np\n",
    "\n",
    "def get_features_and_labels(dataset):\n",
    "    all_features = []\n",
    "    all_labels = []\n",
    "    for images, labels in dataset:\n",
    "        preprocessed_images = keras.applications.vgg16.preprocess_input(images)\n",
    "        features = conv_base.predict(preprocessed_images)\n",
    "        all_features.append(features)\n",
    "        all_labels.append(labels)\n",
    "    return np.concatenate(all_features), np.concatenate(all_labels)\n",
    "\n",
    "train_features, train_labels =  get_features_and_labels(train_dataset)\n",
    "val_features, val_labels =  get_features_and_labels(validation_dataset)\n",
    "test_features, test_labels =  get_features_and_labels(test_dataset)"
   ]
  },
  {
   "cell_type": "code",
   "execution_count": null,
   "metadata": {
    "colab_type": "code"
   },
   "outputs": [],
   "source": [
    "train_features.shape"
   ]
  },
  {
   "cell_type": "markdown",
   "metadata": {},
   "source": [
    "** تعریف و آموزش طبقه بندی کننده با اتصال متراکم **"
   ]
  },
  {
   "cell_type": "code",
   "execution_count": null,
   "metadata": {
    "colab_type": "code"
   },
   "outputs": [],
   "source": [
    "inputs = keras.Input(shape=(5, 5, 512))\n",
    "x = layers.Flatten()(inputs)\n",
    "x = layers.Dense(256)(x)\n",
    "x = layers.Dropout(0.5)(x)\n",
    "outputs = layers.Dense(1, activation=\"sigmoid\")(x)\n",
    "model = keras.Model(inputs, outputs)\n",
    "model.compile(loss=\"binary_crossentropy\",\n",
    "              optimizer=\"rmsprop\",\n",
    "              metrics=[\"accuracy\"])\n",
    "\n",
    "callbacks = [\n",
    "    keras.callbacks.ModelCheckpoint(\n",
    "      filepath=\"feature_extraction.keras\",\n",
    "      save_best_only=True,\n",
    "      monitor=\"val_loss\")\n",
    "]\n",
    "history = model.fit(\n",
    "    train_features, train_labels,\n",
    "    epochs=20,\n",
    "    validation_data=(val_features, val_labels),\n",
    "    callbacks=callbacks)"
   ]
  },
  {
   "cell_type": "markdown",
   "metadata": {},
   "source": [
    "آموزش بسیار سریع است زیرا ما فقط باید با دو لایه متراکم سر و کار داشته باشیم - یک دوره حتی در CPU کمتر از یک ثانیه طول می‌کشد.\n",
    "\n",
    "\n",
    "**رسم نتایج**"
   ]
  },
  {
   "cell_type": "code",
   "execution_count": null,
   "metadata": {
    "colab_type": "code"
   },
   "outputs": [],
   "source": [
    "import matplotlib.pyplot as plt\n",
    "acc = history.history[\"accuracy\"]\n",
    "val_acc = history.history[\"val_accuracy\"]\n",
    "loss = history.history[\"loss\"]\n",
    "val_loss = history.history[\"val_loss\"]\n",
    "epochs = range(1, len(acc) + 1)\n",
    "plt.plot(epochs, acc, \"bo\", label=\"Training accuracy\")\n",
    "plt.plot(epochs, val_acc, \"b\", label=\"Validation accuracy\")\n",
    "plt.title(\"Training and validation accuracy\")\n",
    "plt.legend()\n",
    "plt.figure()\n",
    "plt.plot(epochs, loss, \"bo\", label=\"Training loss\")\n",
    "plt.plot(epochs, val_loss, \"b\", label=\"Validation loss\")\n",
    "plt.title(\"Training and validation loss\")\n",
    "plt.legend()\n",
    "plt.show()"
   ]
  },
  {
   "cell_type": "markdown",
   "metadata": {},
   "source": [
    "![ معیارهای آموزش و اعتبارسنجی برای استخراج ویژگی ساده](img/08-13.png)\n",
    "\n",
    "- دقت اعتبارسنجی حدود ۹۷٪\n",
    "- علی‌رغم استفاده از `dropout` از همان ابتدا دچار بیش‌برازش شدیم، زیرا از افزونگی در داده استفاده نکردیم.\n",
    "\n",
    "\n",
    "#### استخراج ویژگی همراه با افزایش داده ها\n",
    "- روش دوم ایجاد مدلی است که `conv_base` را با یک طبقه‌بندی متراکم جدید زنجیره‌ای می‌کند و آموزش را به صورت `end2end` انجام می‌دهد. \n",
    "- بنابراین امکان افزونگی داده‌ای در ابتدای مدل وجود دارد.\n",
    "- بسیار کند و گران هست.\n",
    "- برای انجام این کار ابتدا پایه کانولوشن را فریز می‌کنیم:\n",
    "o جلوگیری از به روز شدن وزن آنها در طول آموزش است. \n",
    "o اگر این کار را نکنیم، بازنمایی‌هایی قبلاً آموخته شده از بین می‌روند.\n",
    "- در Keras، یک لایه یا مدل را با تنظیم ویژگی `trainable` آن بر روی `False` منجمد می‌کنیم.\n",
    "\n",
    "\n",
    "\n",
    "\n",
    "**ایجاد و منجمد کردن پایه کانولوشنال VGG16 **"
   ]
  },
  {
   "cell_type": "code",
   "execution_count": 10,
   "metadata": {
    "colab_type": "code"
   },
   "outputs": [],
   "source": [
    "conv_base  = keras.applications.vgg16.VGG16(\n",
    "    weights=\"imagenet\",\n",
    "    include_top=False)\n",
    "conv_base.trainable = False"
   ]
  },
  {
   "cell_type": "markdown",
   "metadata": {},
   "source": [
    "** چاپ لیست وزن‌های قابل آموزش قبل و بعد از انجماد **"
   ]
  },
  {
   "cell_type": "code",
   "execution_count": 11,
   "metadata": {
    "colab_type": "code"
   },
   "outputs": [
    {
     "name": "stdout",
     "output_type": "stream",
     "text": [
      "This is the number of trainable weights before freezing the conv base: 26\n"
     ]
    }
   ],
   "source": [
    "conv_base.trainable = True\n",
    "print(\"This is the number of trainable weights \"\n",
    "      \"before freezing the conv base:\", len(conv_base.trainable_weights))"
   ]
  },
  {
   "cell_type": "code",
   "execution_count": 12,
   "metadata": {
    "colab_type": "code"
   },
   "outputs": [
    {
     "name": "stdout",
     "output_type": "stream",
     "text": [
      "This is the number of trainable weights after freezing the conv base: 0\n"
     ]
    }
   ],
   "source": [
    "conv_base.trainable = False\n",
    "print(\"This is the number of trainable weights \"\n",
    "      \"after freezing the conv base:\", len(conv_base.trainable_weights))"
   ]
  },
  {
   "cell_type": "markdown",
   "metadata": {},
   "source": [
    "** افزودن مرحله تقویت داده و یک طبقه‌بندی‌کننده به پایگاه کانولوشن **"
   ]
  },
  {
   "cell_type": "code",
   "execution_count": 13,
   "metadata": {
    "colab_type": "code"
   },
   "outputs": [
    {
     "name": "stdout",
     "output_type": "stream",
     "text": [
      "WARNING:tensorflow:Using a while_loop for converting RngReadAndSkip cause there is no registered converter for this op.\n",
      "WARNING:tensorflow:Using a while_loop for converting Bitcast cause there is no registered converter for this op.\n",
      "WARNING:tensorflow:Using a while_loop for converting Bitcast cause there is no registered converter for this op.\n",
      "WARNING:tensorflow:Using a while_loop for converting StatelessRandomUniformV2 cause there is no registered converter for this op.\n",
      "WARNING:tensorflow:Using a while_loop for converting ImageProjectiveTransformV3 cause there is no registered converter for this op.\n",
      "WARNING:tensorflow:Using a while_loop for converting RngReadAndSkip cause there is no registered converter for this op.\n",
      "WARNING:tensorflow:Using a while_loop for converting Bitcast cause there is no registered converter for this op.\n",
      "WARNING:tensorflow:Using a while_loop for converting Bitcast cause there is no registered converter for this op.\n",
      "WARNING:tensorflow:Using a while_loop for converting StatelessRandomUniformV2 cause there is no registered converter for this op.\n",
      "WARNING:tensorflow:Using a while_loop for converting ImageProjectiveTransformV3 cause there is no registered converter for this op.\n",
      "WARNING:tensorflow:Using a while_loop for converting RngReadAndSkip cause there is no registered converter for this op.\n",
      "WARNING:tensorflow:Using a while_loop for converting Bitcast cause there is no registered converter for this op.\n",
      "WARNING:tensorflow:Using a while_loop for converting Bitcast cause there is no registered converter for this op.\n",
      "WARNING:tensorflow:Using a while_loop for converting StatelessRandomUniformV2 cause there is no registered converter for this op.\n",
      "WARNING:tensorflow:Using a while_loop for converting ImageProjectiveTransformV3 cause there is no registered converter for this op.\n",
      "WARNING:tensorflow:Using a while_loop for converting RngReadAndSkip cause there is no registered converter for this op.\n",
      "WARNING:tensorflow:Using a while_loop for converting Bitcast cause there is no registered converter for this op.\n",
      "WARNING:tensorflow:Using a while_loop for converting Bitcast cause there is no registered converter for this op.\n",
      "WARNING:tensorflow:Using a while_loop for converting StatelessRandomUniformV2 cause there is no registered converter for this op.\n",
      "WARNING:tensorflow:Using a while_loop for converting ImageProjectiveTransformV3 cause there is no registered converter for this op.\n"
     ]
    }
   ],
   "source": [
    "data_augmentation = keras.Sequential(\n",
    "    [\n",
    "        layers.RandomFlip(\"horizontal\"),\n",
    "        layers.RandomRotation(0.1),\n",
    "        layers.RandomZoom(0.2),\n",
    "    ]\n",
    ")\n",
    "\n",
    "inputs = keras.Input(shape=(180, 180, 3))\n",
    "x = data_augmentation(inputs)\n",
    "x = keras.applications.vgg16.preprocess_input(x)\n",
    "x = conv_base(x)\n",
    "x = layers.Flatten()(x)\n",
    "x = layers.Dense(256)(x)\n",
    "x = layers.Dropout(0.5)(x)\n",
    "outputs = layers.Dense(1, activation=\"sigmoid\")(x)\n",
    "model = keras.Model(inputs, outputs)\n",
    "model.compile(loss=\"binary_crossentropy\",\n",
    "              optimizer=\"rmsprop\",\n",
    "              metrics=[\"accuracy\"])"
   ]
  },
  {
   "cell_type": "markdown",
   "metadata": {},
   "source": [
    "چون افزونگي داده‌اي ايجاد كرديم تعداد epoch هاي بيشتري را برای آموزش نياز داريم تا بیش‌برازش را ببینیم.\n"
   ]
  },
  {
   "cell_type": "code",
   "execution_count": null,
   "metadata": {
    "colab_type": "code"
   },
   "outputs": [],
   "source": [
    "callbacks = [\n",
    "    keras.callbacks.ModelCheckpoint(\n",
    "        filepath=\"feature_extraction_with_data_augmentation.keras\",\n",
    "        save_best_only=True,\n",
    "        monitor=\"val_loss\")\n",
    "]\n",
    "history = model.fit(\n",
    "    train_dataset,\n",
    "    epochs=50,\n",
    "    validation_data=validation_dataset,\n",
    "    callbacks=callbacks)"
   ]
  },
  {
   "cell_type": "markdown",
   "metadata": {},
   "source": [
    "** ارزیابی مدل در مجموعه تست **"
   ]
  },
  {
   "cell_type": "code",
   "execution_count": null,
   "metadata": {
    "colab_type": "code"
   },
   "outputs": [],
   "source": [
    "test_model = keras.models.load_model(\n",
    "    \"feature_extraction_with_data_augmentation.keras\")\n",
    "test_loss, test_acc = test_model.evaluate(test_dataset)\n",
    "print(f\"Test accuracy: {test_acc:.3f}\")"
   ]
  },
  {
   "cell_type": "markdown",
   "metadata": {},
   "source": [
    "علی‌رغم هزینه‌ی زیادی که برای آموزش کردیم دقت افزایش آنچنانی نداشت (97.5٪)"
   ]
  },
  {
   "cell_type": "markdown",
   "metadata": {},
   "source": [
    "### تنظیم دقیق یک مدل از پیش آموزش دیده\n",
    "\n",
    "می‌توانیم چند لایه‌ی بالایی مدل پایه را (بجز batch normalization در صورت وجود) هم از حالت `freeze` خارج کنیم تا نمایش‌های انتزاعی مدل را بهبود دهد.\n",
    "یادآوری می‌شود که لایه‌های بالایی تخصصی‌تر هستند و نباید در unfreeze کردن لایه‌ها خیلی دست و دل‌باز باشیم وگرنه احتمالا با مشکل بیش‌برازش و حجم بالای وزن‌ها برای آموزش مواجه می‌شویم.\n",
    "\n",
    "![ تنظیم دقیق آخرین بلوک کانولوشنال شبکه VGG16](img/08-15.png)"
   ]
  },
  {
   "cell_type": "code",
   "execution_count": null,
   "metadata": {
    "colab_type": "code"
   },
   "outputs": [],
   "source": [
    "conv_base.summary()"
   ]
  },
  {
   "cell_type": "markdown",
   "metadata": {},
   "source": [
    "**Freezing all layers until the fourth from the last**"
   ]
  },
  {
   "cell_type": "code",
   "execution_count": null,
   "metadata": {
    "colab_type": "code"
   },
   "outputs": [],
   "source": [
    "conv_base.trainable = True\n",
    "for layer in conv_base.layers[:-4]:\n",
    "    layer.trainable = False"
   ]
  },
  {
   "cell_type": "markdown",
   "metadata": {},
   "source": [
    "**Fine-tuning the model**"
   ]
  },
  {
   "cell_type": "code",
   "execution_count": null,
   "metadata": {
    "colab_type": "code"
   },
   "outputs": [],
   "source": [
    "model.compile(loss=\"binary_crossentropy\",\n",
    "              optimizer=keras.optimizers.RMSprop(learning_rate=1e-5),\n",
    "              metrics=[\"accuracy\"])\n",
    "\n",
    "callbacks = [\n",
    "    keras.callbacks.ModelCheckpoint(\n",
    "        filepath=\"fine_tuning.keras\",\n",
    "        save_best_only=True,\n",
    "        monitor=\"val_loss\")\n",
    "]\n",
    "history = model.fit(\n",
    "    train_dataset,\n",
    "    epochs=30,\n",
    "    validation_data=validation_dataset,\n",
    "    callbacks=callbacks)"
   ]
  },
  {
   "cell_type": "code",
   "execution_count": null,
   "metadata": {
    "colab_type": "code"
   },
   "outputs": [],
   "source": [
    "model = keras.models.load_model(\"fine_tuning.keras\")\n",
    "test_loss, test_acc = model.evaluate(test_dataset)\n",
    "print(f\"Test accuracy: {test_acc:.3f}\")"
   ]
  },
  {
   "cell_type": "markdown",
   "metadata": {},
   "source": [
    "ما روی ۱۰٪ داده‌های مسابقه اصلی کگل به یکی از بهترین نتایج یعنی دقت 98.5٪ روی داده‌های تست رسیدیم."
   ]
  },
  {
   "cell_type": "markdown",
   "metadata": {},
   "source": [
    "## خلاصه\n",
    "-  Convnet‌ها بهترین نوع مدل‌های یادگیری ماشینی برای کارهای بینایی کامپیوتری هستند. آموزش از ابتدا حتی روی یک مجموعه داده بسیار کوچک، با نتایج مناسب امکان پذیر است.\n",
    "-  Convnet‌ها با یادگیری سلسله مراتبی از الگوها و مفاهیم پیمانه‌ای برای نمایش دنیای بصری کار می‌کنند.\n",
    "-  در یک مجموعه داده کوچک، مشکل اصلی بیش‌برازش است. \n",
    "-  برای داده‌های تصویری افزایش داده یک راه قدرتمند برای مبارزه با بیش‌برازش است.\n",
    "-  استفاده مجدد از یک convnet موجود در یک مجموعه داده جدید از طریق «استخراج ویژگی» آسان است. این یک تکنیک ارزشمند برای کار با مجموعه داده‌های تصویری کوچک است.\n",
    "-  به‌عنوان مکمل استخراج ویژگی، می‌توانید از «تنظیم دقیق» استفاده کنید، که برخی از نمایش‌هایی را که قبلاً توسط یک مدل موجود آموخته‌اند، با مسئله جدید تطبیق می‌دهد. البته این کار نیازمند کارآیی بیشتری است."
   ]
  },
  {
   "cell_type": "code",
   "execution_count": null,
   "metadata": {},
   "outputs": [],
   "source": []
  }
 ],
 "metadata": {
  "kernelspec": {
   "display_name": "Python 3 (ipykernel)",
   "language": "python",
   "name": "python3"
  },
  "language_info": {
   "codemirror_mode": {
    "name": "ipython",
    "version": 3
   },
   "file_extension": ".py",
   "mimetype": "text/x-python",
   "name": "python",
   "nbconvert_exporter": "python",
   "pygments_lexer": "ipython3",
   "version": "3.8.15"
  }
 },
 "nbformat": 4,
 "nbformat_minor": 4
}
