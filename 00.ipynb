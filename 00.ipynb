{
 "cells": [
  {
   "cell_type": "raw",
   "id": "1e00c4da-1ec9-4402-a28b-6ad4b241b3a8",
   "metadata": {},
   "source": [
    "---\n",
    "title: \"فهرست مطالب\"\n",
    "format: \n",
    "  docx:\n",
    "    toc: true\n",
    "    section-numbers: true\n",
    "    highlight-style: github\n",
    "#  html:\n",
    "#    code-fold: true\n",
    "#    echo: true\n",
    "#    self-contained: true\n",
    "#  revealjs: \n",
    "#    incremental: true \n",
    "#  pdf:\n",
    "#    number-sections: true\n",
    "#    colorlinks: true\n",
    "#    pdf-engine: xelatex\n",
    "#    keep-tex: true\n",
    "toc: true\n",
    "dir: rtl\n",
    "lang: fa\n",
    "jupyter: python3\n",
    "---"
   ]
  },
  {
   "cell_type": "markdown",
   "id": "f9f3cadd",
   "metadata": {},
   "source": [
    "### کتاب مرجع\n",
    "<div dir=ltr>\n",
    "\n",
    "\tDeep Learning with Python\n",
    "\tSECOND EDITION\n",
    "\tFrançois Chollet\n",
    "\tM A N N I N G\n",
    "</div>\n",
    "\n",
    "![](img/Image_001.png){fig-alt=\"کتاب مرجع\"}\n",
    "\n",
    "### خلاصه محتویات\n",
    "\n",
    "\t1. What is deep learning?  \n",
    "\t2. The mathematical building blocks of neural networks  \n",
    "\t5. Introduction to Keras and TensorFlow  \n",
    "\t6. Getting started with neural networks: Classification and regression  \n",
    "\t7. Fundamentals of machine learning  \n",
    "\t8. The universal workflow of machine learning  \n",
    "\t9. Working with Keras: A deep dive  \n",
    "\t10. Introduction to deep learning for computer vision   \n",
    "\t11. Advanced deep learning for computer vision  \n",
    "\t12. Deep learning for timeseries  \n",
    "\t13. Deep learning for text  \n",
    "\t14. Generative deep learning  \n",
    "\t15. Best practices for the real world\n",
    "\t16. Conclusions  "
   ]
  },
  {
   "cell_type": "code",
   "execution_count": null,
   "id": "97090e4d",
   "metadata": {},
   "outputs": [],
   "source": []
  }
 ],
 "metadata": {
  "kernelspec": {
   "display_name": "Python 3 (ipykernel)",
   "language": "python",
   "name": "python3"
  },
  "language_info": {
   "codemirror_mode": {
    "name": "ipython",
    "version": 3
   },
   "file_extension": ".py",
   "mimetype": "text/x-python",
   "name": "python",
   "nbconvert_exporter": "python",
   "pygments_lexer": "ipython3",
   "version": "3.8.15"
  }
 },
 "nbformat": 4,
 "nbformat_minor": 5
}
