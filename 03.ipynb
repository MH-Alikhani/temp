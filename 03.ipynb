{
 "cells": [
  {
   "cell_type": "code",
   "execution_count": 1,
   "metadata": {
    "colab_type": "text"
   },
   "outputs": [
    {
     "data": {
      "text/html": [
       "\n",
       "    <style>\n",
       "        @font-face {\n",
       "            /* تعریف نام فونت */\n",
       "            font-family: 'BZar';\n",
       "            /* اکسپلورر 9 به بعد */\n",
       "            src: url('fonts/BZar.eot');\n",
       "            /* بررسی نصب بودن فونت در سیستم کاربر */\n",
       "            src: local('bZar'),\n",
       "                 /* برای برخی از مرورگرها مانند سافاری */\n",
       "                 local('b Zar'),\n",
       "                 /* هک برای اکسپلورر 8 و ماقبل */\n",
       "                 url('fonts/BZar.eot?#iefix') format('embedded-opentype'),\n",
       "                 /* فرمت مناسب مرورگرهای خیلی جدید */\n",
       "                 url('fonts/BZar.woff2') format('woff2'),\n",
       "                 /* فرمت مناسب مرورگرهای تقریبا جدید */\n",
       "                 url('fonts/BZar.woff') format('woff'),\n",
       "                 /* تمام مرورگرها به جزء اکسپلورر */\n",
       "                 url('fonts/BZar.ttf') format('truetype'),\n",
       "                 /* نسخه‌های قدیمی سیستم عامل iOS */\n",
       "                 url('fonts/BZar.svg#BZar') format('svg');\n",
       "            font-style: normal;\n",
       "            font-weight: normal;\n",
       "            font-display: swap;\n",
       "        }\n",
       "    \n",
       "    \n",
       "        .reveal .slides {\n",
       "            direction: rtl;\n",
       "            text-align: right;\n",
       "        }\n",
       "        \n",
       "        div {\n",
       "            direction: ltr;\n",
       "            text-align: left;\n",
       "        }\n",
       "        \n",
       "        p > img {\n",
       "          display: block;\n",
       "          margin-left: auto;\n",
       "          margin-right: auto;\n",
       "          max-width:75%; \n",
       "          height:auto;\n",
       "        }\n",
       "        \n",
       "        div.text_cell_render.rendered_html > *, li > p, .rendered_html p, #quarto-document-content > *\n",
       "        {\n",
       "            direction: rtl;\n",
       "            text-align: right;\n",
       "            font-family: BZar, Tahoma, Geneva, sans-serif;\n",
       "            font-size: x-large;\n",
       "            line-height: 26pt;\n",
       "        }\n",
       "        \n",
       "        .jp-CodeMirrorEditor .jp-Editor .jp-InputArea-editor {\n",
       "            direction: rtl !important;\n",
       "        }\n",
       "        \n",
       "        .CodeMirror-lines .output_subarea .output_text .output_stream .output_stdout{\n",
       "            direction: ltr !important;\n",
       "        }\n",
       "    </style>\n",
       "    "
      ],
      "text/plain": [
       "<IPython.core.display.HTML object>"
      ]
     },
     "execution_count": 1,
     "metadata": {},
     "output_type": "execute_result"
    }
   ],
   "source": [
    "from IPython.display import display, HTML, Javascript\n",
    "\n",
    "def f():\n",
    "    return HTML(\"\"\"\n",
    "    <style>\n",
    "        @font-face {\n",
    "            /* تعریف نام فونت */\n",
    "            font-family: 'BZar';\n",
    "            /* اکسپلورر 9 به بعد */\n",
    "            src: url('fonts/BZar.eot');\n",
    "            /* بررسی نصب بودن فونت در سیستم کاربر */\n",
    "            src: local('bZar'),\n",
    "                 /* برای برخی از مرورگرها مانند سافاری */\n",
    "                 local('b Zar'),\n",
    "                 /* هک برای اکسپلورر 8 و ماقبل */\n",
    "                 url('fonts/BZar.eot?#iefix') format('embedded-opentype'),\n",
    "                 /* فرمت مناسب مرورگرهای خیلی جدید */\n",
    "                 url('fonts/BZar.woff2') format('woff2'),\n",
    "                 /* فرمت مناسب مرورگرهای تقریبا جدید */\n",
    "                 url('fonts/BZar.woff') format('woff'),\n",
    "                 /* تمام مرورگرها به جزء اکسپلورر */\n",
    "                 url('fonts/BZar.ttf') format('truetype'),\n",
    "                 /* نسخه‌های قدیمی سیستم عامل iOS */\n",
    "                 url('fonts/BZar.svg#BZar') format('svg');\n",
    "            font-style: normal;\n",
    "            font-weight: normal;\n",
    "            font-display: swap;\n",
    "        }\n",
    "    \n",
    "    \n",
    "        .reveal .slides {\n",
    "            direction: rtl;\n",
    "            text-align: right;\n",
    "        }\n",
    "        \n",
    "        div {\n",
    "            direction: ltr;\n",
    "            text-align: left;\n",
    "        }\n",
    "        \n",
    "        p > img {\n",
    "          display: block;\n",
    "          margin-left: auto;\n",
    "          margin-right: auto;\n",
    "          max-width:75%; \n",
    "          height:auto;\n",
    "        }\n",
    "        \n",
    "        div.text_cell_render.rendered_html > *, li > p, .rendered_html p, #quarto-document-content > *\n",
    "        {\n",
    "            direction: rtl;\n",
    "            text-align: right;\n",
    "            font-family: BZar, Tahoma, Geneva, sans-serif;\n",
    "            font-size: x-large;\n",
    "            line-height: 26pt;\n",
    "        }\n",
    "        \n",
    "        .jp-CodeMirrorEditor .jp-Editor .jp-InputArea-editor {\n",
    "            direction: rtl !important;\n",
    "        }\n",
    "        \n",
    "        .CodeMirror-lines .output_subarea .output_text .output_stream .output_stdout{\n",
    "            direction: ltr !important;\n",
    "        }\n",
    "    </style>\n",
    "    \"\"\")\n",
    "\n",
    "f()"
   ]
  },
  {
   "cell_type": "code",
   "execution_count": 2,
   "metadata": {},
   "outputs": [
    {
     "data": {
      "text/html": [
       "\n",
       "    <link rel=\"stylesheet\" href=\"css/jquery.jqZoom.css\" />\n",
       "    <script src=\"js/jquery-1.12.4.min.js\"></script>\n",
       "    <script src=\"js/jquery.zoom.min.js\"></script>\n",
       "    <script>\n",
       "        $(document).ready(function(){\n",
       "            $(\"img\").children().off();\n",
       "            $('img')\n",
       "            .wrap('<span style=\"display:inline-block\"></span>')\n",
       "            .css('display', 'block')\n",
       "            .parent()\n",
       "            .zoom({ on:'grab', duration: 150, magnify: 1 });\n",
       "        });\n",
       "    </script>\n",
       "    "
      ],
      "text/plain": [
       "<IPython.core.display.HTML object>"
      ]
     },
     "execution_count": 2,
     "metadata": {},
     "output_type": "execute_result"
    }
   ],
   "source": [
    "from IPython.display import display, HTML, Javascript\n",
    "\n",
    "def g():\n",
    "    return HTML(\"\"\"\n",
    "    <link rel=\"stylesheet\" href=\"css/jquery.jqZoom.css\" />\n",
    "    <script src=\"js/jquery-1.12.4.min.js\"></script>\n",
    "    <script src=\"js/jquery.zoom.min.js\"></script>\n",
    "    <script>\n",
    "        $(document).ready(function(){\n",
    "            $(\"img\").children().off();\n",
    "            $('img')\n",
    "            .wrap('<span style=\"display:inline-block\"></span>')\n",
    "            .css('display', 'block')\n",
    "            .parent()\n",
    "            .zoom({ on:'grab', duration: 150, magnify: 1 });\n",
    "        });\n",
    "    </script>\n",
    "    \"\"\")\n",
    "\n",
    "g()"
   ]
  },
  {
   "cell_type": "raw",
   "metadata": {},
   "source": [
    "---\n",
    "title: \"فصل سوم\"\n",
    "format: \n",
    "  docx:\n",
    "    toc: true\n",
    "    section-numbers: true\n",
    "    highlight-style: github\n",
    "    dir: rtl\n",
    "#  pptx:\n",
    "#    toc: true\n",
    "#    execute:\n",
    "#      echo: false\n",
    "#      warning: false\n",
    "  html:\n",
    "    css: css/style.css \n",
    "    code-fold: false \n",
    "    echo: true \n",
    "    self-contained: false \n",
    "    lang: fa\n",
    "#  revealjs: \n",
    "#    incremental: true\n",
    "#    dir: rtl \n",
    "#  pdf:\n",
    "#    number-sections: true\n",
    "#    colorlinks: true\n",
    "#    pdf-engine: xelatex\n",
    "#    keep-tex: true\n",
    "page-layout: full\n",
    "toc: false \n",
    "dir: rtl  \n",
    "lang: fa  \n",
    "jupyter: python3\n",
    "---"
   ]
  },
  {
   "cell_type": "markdown",
   "metadata": {},
   "source": [
    "<div dir=rtl>\n",
    "\n",
    "# مقدمه‌ای بر Keras و Tensorflow\n",
    "- این فصل را پوشش می‌دهد:\n",
    "    - نگاهی دقیق تر به تنسورفلو، کراس و رابطه آنها\n",
    "    - راه اندازی یک فضای کاری یادگیری عمیق\n",
    "    - مروری بر چگونگی ترجمه مفاهیم اصلی یادگیری عمیق به Keras و TensorFlow\n",
    "- در پایان این فصل، شما آماده خواهید بود تا به سراغ برنامه‌های کاربردی و دنیای واقعی بروید، که با فصل 4 شروع می‌شود.\n",
    "  \n",
    "## TensorFlow چیست؟\n",
    "- TensorFlow یک پلتفرم یادگیری ماشین منبع باز، رایگان و مبتنی بر پایتون است که عمدتاً توسط گوگل توسعه یافته است.\n",
    "- مانند NumPy، هدف اصلی TensorFlow این است که مهندسان و محققان را قادر سازد تا عبارات ریاضی را بر روی تنسورهای عددی دستکاری کنند.\n",
    "- برتری‌های TF به Numpy\n",
    "  - محاسبه خودکار گرادیان\n",
    "  - امکان اجرا روی GPU\n",
    "  - امکان اجرا روی سخت‌افزارهای مختلف حتی موبایل (TF Lite)\n",
    "  \n",
    "- TF یک اکوسیستم ایجاد کرده است که برخی اجزای آن توسط اشخاص ثالث توسعه یافته است\n",
    "  - TF-Agents برای تحقیقات یادگیری تقویتی، \n",
    "  - TFX برای مدیریت گردش کار یادگیری ماشین با قدرت صنعتی، \n",
    "  - TensorFlow Service برای استقرار در تولید \n",
    "  - مخزن TensorFlow Hub از مدل‌های از پیش آموزش دیده \n",
    "- TF خیلی خوب مقیاس پذیر هست و مثلا از آن بر روی ۲۷۰۰۰ کارت گرافیکی برای مدلسازی آب و هوا استفاده شده است.\n",
    "\n",
    "## Keras چیست؟\n",
    "- Keras یک API یادگیری عمیق برای پایتون است که بر روی TensorFlow ساخته شده است و راهی مناسب برای تعریف و آموزش هر نوع مدل یادگیری عمیق ارائه می‌کند. \n",
    "- \n",
    "Keras در ابتدا برای تحقیق و با هدف فعال کردن آزمایشات یادگیری عمیق سریع توسعه داده شد.\n",
    "\n",
    "از طریق TensorFlow، Keras می‌تواند بر روی انواع مختلف سخت‌افزار اجرا شود.\n",
    "\n",
    "![Keras](img/03-01.png)\n",
    "\n",
    "### ویژگی‌های کراس\n",
    "- اولویت دادن به تجربه توسعه‌دهنده، \n",
    "- برای انسان‌ها است، نه ماشین ها،\n",
    "- از بهترین شیوه‌ها برای کاهش بار شناختی پیروی می‌کند: \n",
    "  - گردش‌های کاری منسجم و ساده ، \n",
    "  - تعداد اقدامات مورد نیاز برای موارد استفاده رایج را به حداقل می‌رساند، \n",
    "  - بازخورد واضح و عملی را در مورد خطای کاربر ارائه می‌دهد\n",
    "  - کار یادگیری Keras را برای یک مبتدی آسان می‌کند\n",
    "  - استفاده از آن برای یک متخصص بسیار سازنده  (Productive) است.\n",
    "\n",
    "- Keras تا اواخر سال 2021 بیش از یک میلیون کاربر دارد، از محققان دانشگاهی، مهندسان، و دانشمندان داده در استارت‌آپ‌ها و شرکت‌های بزرگ گرفته تا دانشجویان فارغ‌التحصیل و علاقمندان. \n",
    "- Keras در Google، Netflix، Uber، CERN، NASA، Yelp، Instacart، Square و صدها استارت‌آپ که بر روی طیف وسیعی از مشکلات در هر صنعت کار می‌کنند استفاده می‌شود. \n",
    "- توصیه‌های YouTube شما از مدل‌های Keras سرچشمه می‌گیرد. \n",
    "- خودروهای خودران Waymo با مدل‌های Keras توسعه یافته اند. \n",
    "- Keras همچنین یک چارچوب محبوب در Kaggle، وب سایت مسابقات یادگیری ماشینی است، که در آن اکثر مسابقات یادگیری عمیق با استفاده از Keras برنده شده اند.\n",
    "- نتیجه: همه چیزهایی که اکنون در حال یادگیری هستید، پس از تبدیل شدن به یک متخصص همچنان مرتبط خواهند بود و نیازی نیست کل فضای کاری را عوض کنید.\n",
    "\n",
    "\n",
    "## تاریخچه‌ Keras و TensorFlow\n",
    "\n",
    "- Keras هشت ماه قبل از TensorFlow است! (چگونه؟)\n",
    "\t- Keras در اصل بر روی Theano ساخته شد، یک کتابخانه دستکاری تنسور دیگر که مشتق‌گیری خودکار و پشتیبانی از GPU را برای اولین بار در توع خود  ارائه می‌کرد. \n",
    "- Theano که در مؤسسه الگوریتم‌های یادگیری مونترال (MILA) در دانشگاه مونترال توسعه یافت، از بسیاری جهات پیش‌روی TensorFlow بود. \n",
    "- ایده استفاده از نمودارهای محاسباتی استاتیک برای مشتق‌گیری خودکار و برای کامپایل کد برای هر دو CPU و GPU پیشگام بود.\n",
    "- در اواخر سال 2015 امکان استفاده از Keras با Theano یا TensorFlow فراهم شد و جابجایی بین این دو به آسانی تغییر یک متغیر محیطی بود. \n",
    "- در سپتامبر 2016، TensorFlow به سطحی از بلوغ فنی رسیده بود که امکان تبدیل آن به گزینه پیش فرض برای Keras فراهم شد. \n",
    "- در سال 2017، دو گزینه جدید به Keras اضافه شد: CNTK (توسعه یافته توسط مایکروسافت) و MXNet (توسعه یافته توسط آمازون). \n",
    "- امروزه، Theano و CNTK هر دو از توسعه خارج شده اند و MXNet به طور گسترده در خارج از آمازون استفاده نمی شود. \n",
    "- Keras به یک API تک پشتیبان مبتنی بر TensorFlow بازگشته است.\n",
    "- امروزه Keras به عنوان API رسمی سطح بالای TensorFlow انتخاب مطرح هست.\n",
    "\n",
    "\n",
    "## آماده‌سازی محیط کاری\n",
    "- اگرچه از نظر فنی امکان اجرای مستقیم Keras در ویندوز وجود دارد، اما ما آن را توصیه نمی کنیم. \n",
    "- اگر کاربر ویندوز هستید و می‌خواهید یادگیری عمیق را در ایستگاه کاری خود انجام دهید، ساده‌ترین راه‌حل برای اجرای همه چیز این است که یک بوت دوگانه اوبونتو را بر روی دستگاه خود راه‌اندازی کنید یا از زیرسیستم ویندوز برای لینوکس (WSL) استفاده کنید. \n",
    "- لایه سازگاری که به شما امکان می‌دهد برنامه‌های لینوکس را از ویندوز اجرا کنید. \n",
    "- ممکن است مشکل به نظر برسد، اما در درازمدت از زمان و دردسر زیادی صرفه جویی می‌کند.\n",
    "\n",
    "- Jupyter notebooks\n",
    "- Google Colab\n",
    "- GPU/TPU runtime\n",
    "\n",
    "## گام‌های نخست در TensorFlow\n",
    "\n",
    "#### تنسور‌های ثابت و متغیرها\n",
    "- تنسورها باید با مقداری اولیه ایجاد شوند. \n",
    "\n",
    "- تنسورهای All-ones و All-zeros"
   ]
  },
  {
   "cell_type": "code",
   "execution_count": 3,
   "metadata": {
    "colab_type": "code"
   },
   "outputs": [
    {
     "name": "stdout",
     "output_type": "stream",
     "text": [
      "tf.Tensor(\n",
      "[[1.]\n",
      " [1.]], shape=(2, 1), dtype=float32)\n"
     ]
    },
    {
     "name": "stderr",
     "output_type": "stream",
     "text": [
      "2022-03-22 01:19:25.410978: I tensorflow/stream_executor/cuda/cuda_gpu_executor.cc:936] successful NUMA node read from SysFS had negative value (-1), but there must be at least one NUMA node, so returning NUMA node zero\n",
      "2022-03-22 01:19:25.479846: W tensorflow/stream_executor/platform/default/dso_loader.cc:64] Could not load dynamic library 'libcudnn.so.8'; dlerror: libcudnn.so.8: cannot open shared object file: No such file or directory\n",
      "2022-03-22 01:19:25.479880: W tensorflow/core/common_runtime/gpu/gpu_device.cc:1850] Cannot dlopen some GPU libraries. Please make sure the missing libraries mentioned above are installed properly if you would like to use GPU. Follow the guide at https://www.tensorflow.org/install/gpu for how to download and setup the required libraries for your platform.\n",
      "Skipping registering GPU devices...\n",
      "2022-03-22 01:19:25.482148: I tensorflow/core/platform/cpu_feature_guard.cc:151] This TensorFlow binary is optimized with oneAPI Deep Neural Network Library (oneDNN) to use the following CPU instructions in performance-critical operations:  AVX2 FMA\n",
      "To enable them in other operations, rebuild TensorFlow with the appropriate compiler flags.\n"
     ]
    }
   ],
   "source": [
    "import tensorflow as tf\n",
    "x = tf.ones(shape=(2, 1))\n",
    "print(x)"
   ]
  },
  {
   "cell_type": "code",
   "execution_count": 4,
   "metadata": {
    "colab_type": "code"
   },
   "outputs": [
    {
     "name": "stdout",
     "output_type": "stream",
     "text": [
      "tf.Tensor(\n",
      "[[0.]\n",
      " [0.]], shape=(2, 1), dtype=float32)\n"
     ]
    }
   ],
   "source": [
    "x = tf.zeros(shape=(2, 1))\n",
    "print(x)"
   ]
  },
  {
   "cell_type": "markdown",
   "metadata": {},
   "source": [
    "- تنسورهای تصادفی"
   ]
  },
  {
   "cell_type": "code",
   "execution_count": 5,
   "metadata": {
    "colab_type": "code"
   },
   "outputs": [
    {
     "name": "stdout",
     "output_type": "stream",
     "text": [
      "tf.Tensor(\n",
      "[[-1.296578  ]\n",
      " [ 0.8129587 ]\n",
      " [-0.59899104]], shape=(3, 1), dtype=float32)\n"
     ]
    }
   ],
   "source": [
    "x = tf.random.normal(shape=(3, 1), mean=0., stddev=1.)\n",
    "print(x)"
   ]
  },
  {
   "cell_type": "code",
   "execution_count": 6,
   "metadata": {
    "colab_type": "code"
   },
   "outputs": [
    {
     "name": "stdout",
     "output_type": "stream",
     "text": [
      "tf.Tensor(\n",
      "[[0.7545115 ]\n",
      " [0.81534696]\n",
      " [0.35588026]], shape=(3, 1), dtype=float32)\n"
     ]
    }
   ],
   "source": [
    "x = tf.random.uniform(shape=(3, 1), minval=0., maxval=1.)\n",
    "print(x)"
   ]
  },
  {
   "cell_type": "markdown",
   "metadata": {},
   "source": [
    "**آرایه‌های NumPy قابل تغییر هستند**\n",
    "- یک تفاوت قابل توجه بین آرایه‌های NumPy و تنسورهای TensorFlow این است که تنسورهای TensorFlow قابل تخصیص نیستند: آنها ثابت هستند. "
   ]
  },
  {
   "cell_type": "code",
   "execution_count": 8,
   "metadata": {
    "colab_type": "code"
   },
   "outputs": [
    {
     "data": {
      "text/plain": [
       "array([[0., 1.],\n",
       "       [1., 1.]])"
      ]
     },
     "execution_count": 8,
     "metadata": {},
     "output_type": "execute_result"
    }
   ],
   "source": [
    "import numpy as np\n",
    "x = np.ones(shape=(2, 2))\n",
    "x[0, 0] = 0.\n",
    "x"
   ]
  },
  {
   "cell_type": "markdown",
   "metadata": {},
   "source": [
    "**ایجاد متغیر در TF**"
   ]
  },
  {
   "cell_type": "code",
   "execution_count": 9,
   "metadata": {
    "colab_type": "code"
   },
   "outputs": [
    {
     "name": "stdout",
     "output_type": "stream",
     "text": [
      "<tf.Variable 'Variable:0' shape=(3, 1) dtype=float32, numpy=\n",
      "array([[-0.01088856],\n",
      "       [ 0.36030406],\n",
      "       [ 2.2520576 ]], dtype=float32)>\n"
     ]
    }
   ],
   "source": [
    "v = tf.Variable(initial_value=tf.random.normal(shape=(3, 1)))\n",
    "print(v)"
   ]
  },
  {
   "cell_type": "markdown",
   "metadata": {},
   "source": [
    "**انتساب در TensorFlow**"
   ]
  },
  {
   "cell_type": "code",
   "execution_count": 10,
   "metadata": {
    "colab_type": "code"
   },
   "outputs": [
    {
     "data": {
      "text/plain": [
       "<tf.Variable 'UnreadVariable' shape=(3, 1) dtype=float32, numpy=\n",
       "array([[1.],\n",
       "       [1.],\n",
       "       [1.]], dtype=float32)>"
      ]
     },
     "execution_count": 10,
     "metadata": {},
     "output_type": "execute_result"
    }
   ],
   "source": [
    "v.assign(tf.ones((3, 1)))"
   ]
  },
  {
   "cell_type": "markdown",
   "metadata": {},
   "source": [
    "**انتساب به بخشی از متغیر TensorFlow**"
   ]
  },
  {
   "cell_type": "code",
   "execution_count": 11,
   "metadata": {
    "colab_type": "code"
   },
   "outputs": [
    {
     "data": {
      "text/plain": [
       "<tf.Variable 'UnreadVariable' shape=(3, 1) dtype=float32, numpy=\n",
       "array([[3.],\n",
       "       [1.],\n",
       "       [1.]], dtype=float32)>"
      ]
     },
     "execution_count": 11,
     "metadata": {},
     "output_type": "execute_result"
    }
   ],
   "source": [
    "v[0, 0].assign(3.)"
   ]
  },
  {
   "cell_type": "markdown",
   "metadata": {},
   "source": [
    "**استفاده از  `assign_add`**"
   ]
  },
  {
   "cell_type": "code",
   "execution_count": 12,
   "metadata": {
    "colab_type": "code"
   },
   "outputs": [
    {
     "data": {
      "text/plain": [
       "<tf.Variable 'UnreadVariable' shape=(3, 1) dtype=float32, numpy=\n",
       "array([[4.],\n",
       "       [2.],\n",
       "       [2.]], dtype=float32)>"
      ]
     },
     "execution_count": 12,
     "metadata": {},
     "output_type": "execute_result"
    }
   ],
   "source": [
    "v.assign_add(tf.ones((3, 1)))"
   ]
  },
  {
   "cell_type": "markdown",
   "metadata": {},
   "source": [
    "### محاسبات در TensorFlow\n",
    "\n",
    "**عملیات ساده**"
   ]
  },
  {
   "cell_type": "code",
   "execution_count": 17,
   "metadata": {
    "colab_type": "code"
   },
   "outputs": [
    {
     "name": "stdout",
     "output_type": "stream",
     "text": [
      "tf.Tensor(\n",
      "[[1. 1.]\n",
      " [1. 1.]], shape=(2, 2), dtype=float32)\n",
      "tf.Tensor(\n",
      "[[1. 1.]\n",
      " [1. 1.]], shape=(2, 2), dtype=float32)\n",
      "tf.Tensor(\n",
      "[[2. 2.]\n",
      " [2. 2.]], shape=(2, 2), dtype=float32)\n",
      "tf.Tensor(\n",
      "[[4. 4.]\n",
      " [4. 4.]], shape=(2, 2), dtype=float32)\n"
     ]
    }
   ],
   "source": [
    "a = tf.ones((2, 2))\n",
    "b = tf.square(a)\n",
    "print(b)\n",
    "c = tf.sqrt(a)\n",
    "print(c)\n",
    "d = b + c\n",
    "print(d)\n",
    "e = tf.matmul(a, b)\n",
    "e *= d\n",
    "print(e)"
   ]
  },
  {
   "cell_type": "markdown",
   "metadata": {},
   "source": [
    "## Eager execution\n",
    "- نکته مهم این است که هر یک از عملیات‌های قبلی به سرعت اجرا می‌شوند: در هر نقطه می‌توانید نتیجه فعلی را چاپ کنید، درست مانند NumPy. \n",
    "- تفاوت TF و NumPy بازیابی گرادیان هر عبارت مشتق‌پذیر با توجه به هر یک از ورودی‌های آن است. \n",
    "  - استفاده از Gradient API\n",
    "\n",
    "\n",
    "\n",
    "### نگاهی دیگر به GradientTape API\n",
    "\n",
    "**استفاده از `GradientTape`**"
   ]
  },
  {
   "cell_type": "code",
   "execution_count": 19,
   "metadata": {
    "colab_type": "code"
   },
   "outputs": [
    {
     "name": "stdout",
     "output_type": "stream",
     "text": [
      "tf.Tensor(6.0, shape=(), dtype=float32)\n"
     ]
    }
   ],
   "source": [
    "input_var = tf.Variable(initial_value=3.)\n",
    "with tf.GradientTape() as tape:\n",
    "   result = tf.square(input_var)\n",
    "gradient = tape.gradient(result, input_var)\n",
    "print(gradient)"
   ]
  },
  {
   "cell_type": "markdown",
   "metadata": {},
   "source": [
    "**استفاده از `GradientTape` با ورودی تنسور ثابت**\n",
    "\n",
    "- تذکر: محاسبه گرادیان هر چیزی نسبت به هر چیزی بسیار گران است. "
   ]
  },
  {
   "cell_type": "code",
   "execution_count": 23,
   "metadata": {
    "colab_type": "code"
   },
   "outputs": [
    {
     "name": "stdout",
     "output_type": "stream",
     "text": [
      "tf.Tensor(6.0, shape=(), dtype=float32)\n"
     ]
    }
   ],
   "source": [
    "input_const = tf.constant(3.)\n",
    "with tf.GradientTape() as tape:\n",
    "   tape.watch(input_const)\n",
    "   result = tf.square(input_const)\n",
    "gradient = tape.gradient(result, input_const)\n",
    "print(gradient)"
   ]
  },
  {
   "cell_type": "markdown",
   "metadata": {},
   "source": [
    "**مشتق دوم**"
   ]
  },
  {
   "cell_type": "code",
   "execution_count": 26,
   "metadata": {
    "colab_type": "code"
   },
   "outputs": [
    {
     "name": "stdout",
     "output_type": "stream",
     "text": [
      "tf.Tensor(19.6, shape=(), dtype=float32)\n",
      "tf.Tensor(9.8, shape=(), dtype=float32)\n"
     ]
    }
   ],
   "source": [
    "time = tf.Variable(2.)\n",
    "with tf.GradientTape() as outer_tape:\n",
    "    with tf.GradientTape() as inner_tape:\n",
    "        position =  4.9 * time ** 2\n",
    "    speed = inner_tape.gradient(position, time)\n",
    "acceleration = outer_tape.gradient(speed, time)\n",
    "print(speed)\n",
    "print(acceleration)"
   ]
  },
  {
   "cell_type": "markdown",
   "metadata": {},
   "source": [
    "### مثال کامل از دسته‌بند خطی در TF\n",
    "\n",
    "- در یک مصاحبه شغلی یادگیری ماشینی، ممکن است از شما خواسته شود که یک طبقه‌بندی خطی را از ابتدا در TensorFlow پیاده‌سازی کنید: \n",
    "  - یک کار بسیار ساده که به عنوان فیلتری بین داوطلبانی که حداقل پیش‌زمینه یادگیری ماشین را دارند و کسانی که ندارند، عمل می‌کند. \n",
    "\n",
    "**نقاط تصادفی در صفحه دوبعدی**\n",
    "\n",
    "![داده‌های مصنوعی در صفحه ۲بعدی](img/03-06.png)"
   ]
  },
  {
   "cell_type": "code",
   "execution_count": 27,
   "metadata": {
    "colab_type": "code"
   },
   "outputs": [],
   "source": [
    "num_samples_per_class = 1000\n",
    "negative_samples = np.random.multivariate_normal(\n",
    "    mean=[0, 3],\n",
    "    cov=[[1, 0.5],[0.5, 1]],\n",
    "    size=num_samples_per_class)\n",
    "positive_samples = np.random.multivariate_normal(\n",
    "    mean=[3, 0],\n",
    "    cov=[[1, 0.5],[0.5, 1]],\n",
    "    size=num_samples_per_class)"
   ]
  },
  {
   "cell_type": "markdown",
   "metadata": {},
   "source": [
    "**روی هم قراردادن داده‌ها**"
   ]
  },
  {
   "cell_type": "code",
   "execution_count": 28,
   "metadata": {
    "colab_type": "code"
   },
   "outputs": [],
   "source": [
    "inputs = np.vstack((negative_samples, positive_samples)).astype(np.float32)"
   ]
  },
  {
   "cell_type": "markdown",
   "metadata": {},
   "source": [
    "**ساخت برچست صفر و یک**"
   ]
  },
  {
   "cell_type": "code",
   "execution_count": 29,
   "metadata": {
    "colab_type": "code"
   },
   "outputs": [],
   "source": [
    "targets = np.vstack((np.zeros((num_samples_per_class, 1), dtype=\"float32\"),\n",
    "                     np.ones((num_samples_per_class, 1), dtype=\"float32\")))"
   ]
  },
  {
   "cell_type": "markdown",
   "metadata": {},
   "source": [
    "**رسم دو کلاس**"
   ]
  },
  {
   "cell_type": "code",
   "execution_count": 30,
   "metadata": {
    "colab_type": "code"
   },
   "outputs": [
    {
     "data": {
      "image/png": "[encoded data removed]",
      "text/plain": [
       "<Figure size 432x288 with 1 Axes>"
      ]
     },
     "metadata": {
      "needs_background": "light"
     },
     "output_type": "display_data"
    }
   ],
   "source": [
    "import matplotlib.pyplot as plt\n",
    "plt.scatter(inputs[:, 0], inputs[:, 1], c=targets[:, 0])\n",
    "plt.show()"
   ]
  },
  {
   "cell_type": "markdown",
   "metadata": {},
   "source": [
    "![Our model’s predictions on the training inputs: pretty similar to the training targets](img/03-07.png)\n",
    "\n",
    "![Our model, visualized as a line](img/03-08.png)\n",
    "\n",
    "**ساخت متغیرها**"
   ]
  },
  {
   "cell_type": "code",
   "execution_count": 31,
   "metadata": {
    "colab_type": "code"
   },
   "outputs": [],
   "source": [
    "input_dim = 2\n",
    "output_dim = 1\n",
    "W = tf.Variable(initial_value=tf.random.uniform(shape=(input_dim, output_dim)))\n",
    "b = tf.Variable(initial_value=tf.zeros(shape=(output_dim,)))"
   ]
  },
  {
   "cell_type": "markdown",
   "metadata": {},
   "source": [
    "**تابع پیش‌رو**"
   ]
  },
  {
   "cell_type": "code",
   "execution_count": 32,
   "metadata": {
    "colab_type": "code"
   },
   "outputs": [],
   "source": [
    "def model(inputs):\n",
    "    return tf.matmul(inputs, W) + b"
   ]
  },
  {
   "cell_type": "markdown",
   "metadata": {},
   "source": [
    "**تابع خطا MSE**"
   ]
  },
  {
   "cell_type": "code",
   "execution_count": 33,
   "metadata": {
    "colab_type": "code"
   },
   "outputs": [],
   "source": [
    "def square_loss(targets, predictions):\n",
    "    per_sample_losses = tf.square(targets - predictions)\n",
    "    return tf.reduce_mean(per_sample_losses)"
   ]
  },
  {
   "cell_type": "markdown",
   "metadata": {},
   "source": [
    "**گام آموزش**"
   ]
  },
  {
   "cell_type": "code",
   "execution_count": 34,
   "metadata": {
    "colab_type": "code"
   },
   "outputs": [],
   "source": [
    "learning_rate = 0.1\n",
    "\n",
    "def training_step(inputs, targets):\n",
    "    with tf.GradientTape() as tape:\n",
    "        predictions = model(inputs)\n",
    "        loss = square_loss(targets, predictions)\n",
    "    grad_loss_wrt_W, grad_loss_wrt_b = tape.gradient(loss, [W, b])\n",
    "    W.assign_sub(grad_loss_wrt_W * learning_rate)\n",
    "    b.assign_sub(grad_loss_wrt_b * learning_rate)\n",
    "    return loss"
   ]
  },
  {
   "cell_type": "markdown",
   "metadata": {},
   "source": [
    "**حلقه آموزش دسته**"
   ]
  },
  {
   "cell_type": "code",
   "execution_count": 35,
   "metadata": {
    "colab_type": "code"
   },
   "outputs": [
    {
     "name": "stdout",
     "output_type": "stream",
     "text": [
      "Loss at step 0: 0.1596\n",
      "Loss at step 1: 0.0924\n",
      "Loss at step 2: 0.0813\n",
      "Loss at step 3: 0.0759\n",
      "Loss at step 4: 0.0715\n",
      "Loss at step 5: 0.0676\n",
      "Loss at step 6: 0.0640\n",
      "Loss at step 7: 0.0607\n",
      "Loss at step 8: 0.0577\n",
      "Loss at step 9: 0.0549\n",
      "Loss at step 10: 0.0524\n",
      "Loss at step 11: 0.0500\n",
      "Loss at step 12: 0.0479\n",
      "Loss at step 13: 0.0460\n",
      "Loss at step 14: 0.0442\n",
      "Loss at step 15: 0.0425\n",
      "Loss at step 16: 0.0410\n",
      "Loss at step 17: 0.0397\n",
      "Loss at step 18: 0.0384\n",
      "Loss at step 19: 0.0373\n",
      "Loss at step 20: 0.0362\n",
      "Loss at step 21: 0.0353\n",
      "Loss at step 22: 0.0344\n",
      "Loss at step 23: 0.0336\n",
      "Loss at step 24: 0.0328\n",
      "Loss at step 25: 0.0322\n",
      "Loss at step 26: 0.0315\n",
      "Loss at step 27: 0.0310\n",
      "Loss at step 28: 0.0305\n",
      "Loss at step 29: 0.0300\n",
      "Loss at step 30: 0.0295\n",
      "Loss at step 31: 0.0292\n",
      "Loss at step 32: 0.0288\n",
      "Loss at step 33: 0.0285\n",
      "Loss at step 34: 0.0281\n",
      "Loss at step 35: 0.0279\n",
      "Loss at step 36: 0.0276\n",
      "Loss at step 37: 0.0274\n",
      "Loss at step 38: 0.0272\n",
      "Loss at step 39: 0.0270\n"
     ]
    }
   ],
   "source": [
    "for step in range(40):\n",
    "    loss = training_step(inputs, targets)\n",
    "    print(f\"Loss at step {step}: {loss:.4f}\")"
   ]
  },
  {
   "cell_type": "markdown",
   "metadata": {},
   "source": [
    "- توجه کنید که $prediction == [[w_1], [w_2]] • [x, y] + b == w_1 * x + w_2 * y + b $.\n",
    "  - پس کلاس 0 به صورت $w_1 * x + w_2 * y + b < 0.5$ تعریف می‌شود.\n",
    "  - کلاس 1 به صورت $w_1 * x + w_2 * y + b > 0.5$ تعریف می‌شود.\n",
    "- این دقیقاً همان چیزی است که یک طبقه‌بندی‌کننده خطی به آن می‌پردازد: یافتن پارامترهای یک خط (یا در فضاهای با ابعاد بالاتر، یک ابرصفحه) که به طور منظم دو کلاس داده را از هم جدا می‌کند."
   ]
  },
  {
   "cell_type": "code",
   "execution_count": 36,
   "metadata": {
    "colab_type": "code"
   },
   "outputs": [
    {
     "data": {
      "image/png": "[encoded data removed]",
      "text/plain": [
       "<Figure size 432x288 with 1 Axes>"
      ]
     },
     "metadata": {
      "needs_background": "light"
     },
     "output_type": "display_data"
    }
   ],
   "source": [
    "predictions = model(inputs)\n",
    "plt.scatter(inputs[:, 0], inputs[:, 1], c=predictions[:, 0] > 0.5)\n",
    "plt.show()"
   ]
  },
  {
   "cell_type": "code",
   "execution_count": 37,
   "metadata": {
    "colab_type": "code"
   },
   "outputs": [
    {
     "data": {
      "text/plain": [
       "<matplotlib.collections.PathCollection at 0x7f2639ed45e0>"
      ]
     },
     "execution_count": 37,
     "metadata": {},
     "output_type": "execute_result"
    },
    {
     "data": {
      "image/png": "[encoded data removed]",
      "text/plain": [
       "<Figure size 432x288 with 1 Axes>"
      ]
     },
     "metadata": {
      "needs_background": "light"
     },
     "output_type": "display_data"
    }
   ],
   "source": [
    "x = np.linspace(-1, 4, 100)\n",
    "y = - W[0] /  W[1] * x + (0.5 - b) / W[1]\n",
    "plt.plot(x, y, \"-r\")\n",
    "plt.scatter(inputs[:, 0], inputs[:, 1], c=predictions[:, 0] > 0.5)"
   ]
  },
  {
   "cell_type": "markdown",
   "metadata": {},
   "source": [
    "## آناتومی شبکه عصبی: درک core Keras APIs\n",
    "\n",
    "### لایه‌ها: بلوک‌های اصلی یادگیری عمیق\n",
    "- لایه‌ها را به‌عنوان آجرهای لگو برای یادگیری عمیق در نظر بگیرید\n",
    "- انواع مختلف لایه‌ها برای فرمت‌های مختلف تنسور و انواع مختلف پردازش داده‌ها مناسب هستند. \n",
    "  -داده‌های برداری ساده، که به صورت ماتریسی (نمونه‌ها، ویژگی‌ها) ذخیره می‌شوند، اغلب توسط لایه‌های Dense  پردازش می‌شوند که لایه‌های کاملاً متصل یا متراکم نیز نامیده می‌شوند. \n",
    "  - داده‌های دنباله‌ای که در تنسورهای  مرتبه-3 (نمونه‌ها، گام‌های زمانی، ویژگی‌ها) ذخیره می‌شوند، معمولاً توسط لایه‌های تکرارشونده مانند یک لایه LSTM یا لایه‌های پیچشی 1 بعدی (Conv1D) پردازش می‌شوند. \n",
    "  - داده‌های تصویری که در تنسورهای مرتبه-4 ذخیره می‌شوند، معمولاً توسط لایه‌های کانولوشن دو بعدی (Conv2D) پردازش می‌شوند.\n",
    "\n",
    "#### کلاس لایه پایه در Keras\n",
    "\n",
    "**پیاده‌سازی لایه `Dense` به عنوان یک زیرکلاس از `Layer`**"
   ]
  },
  {
   "cell_type": "code",
   "execution_count": 38,
   "metadata": {
    "colab_type": "code"
   },
   "outputs": [],
   "source": [
    "from tensorflow import keras\n",
    "\n",
    "class SimpleDense(keras.layers.Layer):\n",
    "\n",
    "    def __init__(self, units, activation=None):\n",
    "        super().__init__()\n",
    "        self.units = units\n",
    "        self.activation = activation\n",
    "\n",
    "    def build(self, input_shape):\n",
    "        input_dim = input_shape[-1]\n",
    "        self.W = self.add_weight(shape=(input_dim, self.units),\n",
    "                                 initializer=\"random_normal\")\n",
    "        self.b = self.add_weight(shape=(self.units,),\n",
    "                                 initializer=\"zeros\")\n",
    "\n",
    "    def call(self, inputs):\n",
    "        y = tf.matmul(inputs, self.W) + self.b\n",
    "        if self.activation is not None:\n",
    "            y = self.activation(y)\n",
    "        return y"
   ]
  },
  {
   "cell_type": "code",
   "execution_count": 39,
   "metadata": {
    "colab_type": "code"
   },
   "outputs": [
    {
     "name": "stdout",
     "output_type": "stream",
     "text": [
      "(2, 32)\n"
     ]
    }
   ],
   "source": [
    "my_dense = SimpleDense(units=32, activation=tf.nn.relu)\n",
    "input_tensor = tf.ones(shape=(2, 784))\n",
    "output_tensor = my_dense(input_tensor)\n",
    "print(output_tensor.shape)"
   ]
  },
  {
   "cell_type": "markdown",
   "metadata": {},
   "source": [
    "### استنتاج خودکار shape برای ساخت لایه‌ها در لحظه\n",
    "\n",
    "- درست مانند آجرهای لگو، فقط می‌توانید لایه‌هایی را که با هم سازگار هستند، «گیره» کنید. \n",
    "- مفهوم سازگاری لایه در اینجا به طور خاص به این واقعیت اشاره دارد که هر لایه فقط تنسورهای ورودی یک شکل خاص را می‌پذیرد و تنسورهای خروجی یک شکل خاص را برمی گرداند. \n",
    "- مثال: در کد زیر لایه اعلام شده یک تنسور را برمی گرداند که در آن بعد اول به 32 تبدیل شده است. \n",
    "  - این لایه فقط می‌تواند به یک لایه پایین دستی متصل شود که بردارهای 32 بعدی را به عنوان ورودی خود انتظار دارد."
   ]
  },
  {
   "cell_type": "code",
   "execution_count": 40,
   "metadata": {
    "colab_type": "code"
   },
   "outputs": [],
   "source": [
    "from tensorflow.keras import layers\n",
    "layer = layers.Dense(32, activation=\"relu\")"
   ]
  },
  {
   "cell_type": "markdown",
   "metadata": {},
   "source": [
    "- هنگام استفاده از Keras، بیشتر اوقات نیازی به نگرانی در مورد سازگاری اندازه ندارید، زیرا لایه‌هایی که به مدل‌های خود اضافه می‌کنید به صورت پویا ساخته شده اند تا با شکل لایه ورودی مطابقت داشته باشند.\n",
    "\n",
    "- لایه‌ها هیچ اطلاعاتی در مورد شکل ورودی‌های خود دریافت نکردند - در عوض، آنها به طور خودکار شکل ورودی خود را به عنوان شکل اولین ورودی‌هایی که می‌بینند استنباط کردند."
   ]
  },
  {
   "cell_type": "code",
   "execution_count": 41,
   "metadata": {
    "colab_type": "code"
   },
   "outputs": [],
   "source": [
    "from tensorflow.keras import models\n",
    "from tensorflow.keras import layers\n",
    "model = models.Sequential([\n",
    "    layers.Dense(32, activation=\"relu\"),\n",
    "    layers.Dense(32)\n",
    "])"
   ]
  },
  {
   "cell_type": "code",
   "execution_count": 42,
   "metadata": {
    "colab_type": "code"
   },
   "outputs": [],
   "source": [
    "model = keras.Sequential([\n",
    "    SimpleDense(32, activation=\"relu\"),\n",
    "    SimpleDense(64, activation=\"relu\"),\n",
    "    SimpleDense(32, activation=\"relu\"),\n",
    "    SimpleDense(10, activation=\"softmax\")\n",
    "])"
   ]
  },
  {
   "cell_type": "markdown",
   "metadata": {},
   "source": [
    "## ساخت مدل از روی لایه‌ها\n",
    "\n",
    "- برخی از انواع توپولوژیهای شبکه\n",
    "  - Stack of Sequentials\n",
    "  - Two-branch networks\n",
    "  - Multihead networks\n",
    "  - Residual connections\n",
    "  \n",
    "- به مرور معماری شبکه‌ می‌تواند پیچیده شود\n",
    "\n",
    "![The Transformer architecture](img/03-09.png)\n",
    "\n",
    "- توپولوژی یک مدل یک فضای فرضیه را تعریف می‌کند . \n",
    "- مفروضاتی را که در مورد مسئله خود می‌دانید - دانش قبلی - در معماری مدل  رمزگذاری می‌کند. \n",
    "  - به عنوان مثال، اگر روی یک مسئله طبقه‌بندی دو کلاسه با یک مدل ساخته شده از یک لایه متراکم بدون فعال‌سازی کار می‌کنید (تبدیل affine خالص)، شما فرض می‌کنید که دو کلاس شما به صورت خطی قابل تفکیک هستند.\n",
    "- انتخاب معماری شبکه مناسب بیشتر یک هنر است تا یک علم\n",
    "- \n",
    "## فرآیند کامپایل در یادگیری مدل\n",
    "\n",
    "- بعد از تعریف مدل ۳ چیز باید مشخص شود:\n",
    "    1. تابع هدف که همان تابع خطاست که دنبال کمینه کردن آن هستیم\n",
    "       1. CategoricalCrossentropy (طبقه‌بندی چندکلاسه)\n",
    "       2. SparseCategoricalCrossentropy\n",
    "       3. BinaryCrossentropy (برای مسئله طبقه‌بندی دوکلاسه)\n",
    "       4. MeanSquaredError (رگرسیون)\n",
    "       5. KLDivergence\n",
    "       6. CosineSimilarity\n",
    "    2. معیارهای نمایشی در ضمن آموزش (فقط حالت نمایشی دارند و نیازی نیست مشتق‌پذیر باشند.)\n",
    "       1. CategoricalAccuracy\n",
    "       2. SparseCategoricalAccuracy\n",
    "       3. BinaryAccuracy\n",
    "       4. AUC\n",
    "       5. Precision\n",
    "       6. Recall\n",
    "    3. الگوریتم بهینه‌ساز\n",
    "       1. SGD (همراه با یا بدون momentum)\n",
    "       2. RMSprop\n",
    "       3. Adam\n",
    "       4. Adagrad\n"
   ]
  },
  {
   "cell_type": "code",
   "execution_count": 43,
   "metadata": {
    "colab_type": "code"
   },
   "outputs": [],
   "source": [
    "model = keras.Sequential([keras.layers.Dense(1)])\n",
    "model.compile(optimizer=\"rmsprop\",\n",
    "              loss=\"mean_squared_error\",\n",
    "              metrics=[\"accuracy\"])"
   ]
  },
  {
   "cell_type": "code",
   "execution_count": 44,
   "metadata": {
    "colab_type": "code"
   },
   "outputs": [],
   "source": [
    "model.compile(optimizer=keras.optimizers.RMSprop(),\n",
    "              loss=keras.losses.MeanSquaredError(),\n",
    "              metrics=[keras.metrics.BinaryAccuracy()])"
   ]
  },
  {
   "cell_type": "markdown",
   "metadata": {},
   "source": [
    "## انتخاب تابع خطا \n",
    "- برای مسائل کلاسیک مشخص هست.\n",
    "- برای کاربردهای خاص و جدید باید خودتان یک تابع توسعه دهید.\n",
    "\n",
    "## تابع fit()\n",
    "\n",
    "- فرآیند آموزش در آن اتفاق می‌افتد.\n",
    "- چیزهایی که باید مشخص شوند:\n",
    "  - داده‌ها (ورودی‌ها و برچسب) برای آموزش. \n",
    "    - معمولاً یا به صورت آرایه‌های NumPy یا یک شی TensorFlow Dataset ارسال می‌شود. \n",
    "    - در فصل‌های بعدی درباره Dataset API بیشتر خواهید آموخت.\n",
    "  - تعداد دورهایی (epochs) که باید برای آموزش: چند بار حلقه آموزشی باید روی داده‌های ارسال شده تکرار شود.\n",
    "  - اندازه دسته‌ برای استفاده در هر دوره اعمال الگوریتم گرادیان نزولی\n",
    "    - دسته‌ای کوچک: تعداد نمونه‌های آموزشی در نظر گرفته شده برای محاسبه گرادیان برای یک مرحله به‌روز‌رسانی وزن.\n",
    "\n",
    "**فراخوانی `fit()` بر روی داده‌ی NumPy**"
   ]
  },
  {
   "cell_type": "code",
   "execution_count": 45,
   "metadata": {
    "colab_type": "code"
   },
   "outputs": [
    {
     "name": "stdout",
     "output_type": "stream",
     "text": [
      "Epoch 1/5\n",
      "16/16 [==============================] - 1s 2ms/step - loss: 8.1331 - binary_accuracy: 0.4765\n",
      "Epoch 2/5\n",
      "16/16 [==============================] - 0s 2ms/step - loss: 7.7035 - binary_accuracy: 0.4760\n",
      "Epoch 3/5\n",
      "16/16 [==============================] - 0s 2ms/step - loss: 7.3427 - binary_accuracy: 0.4755\n",
      "Epoch 4/5\n",
      "16/16 [==============================] - 0s 2ms/step - loss: 7.0015 - binary_accuracy: 0.4750\n",
      "Epoch 5/5\n",
      "16/16 [==============================] - 0s 2ms/step - loss: 6.6704 - binary_accuracy: 0.4745\n"
     ]
    }
   ],
   "source": [
    "history = model.fit(\n",
    "    inputs,\n",
    "    targets,\n",
    "    epochs=5,\n",
    "    batch_size=128\n",
    ")"
   ]
  },
  {
   "cell_type": "code",
   "execution_count": 46,
   "metadata": {
    "colab_type": "code"
   },
   "outputs": [
    {
     "data": {
      "text/plain": [
       "{'loss': [8.133121490478516,\n",
       "  7.703469753265381,\n",
       "  7.342747688293457,\n",
       "  7.001519680023193,\n",
       "  6.670404434204102],\n",
       " 'binary_accuracy': [0.476500004529953,\n",
       "  0.47600001096725464,\n",
       "  0.4754999876022339,\n",
       "  0.4749999940395355,\n",
       "  0.47450000047683716]}"
      ]
     },
     "execution_count": 46,
     "metadata": {},
     "output_type": "execute_result"
    }
   ],
   "source": [
    "history.history"
   ]
  },
  {
   "cell_type": "markdown",
   "metadata": {},
   "source": [
    "## نمایش تابع خطا و معیارهای مرتبط بر روی داده‌های اعتبارسنجی validation data\n",
    "- هدف یادگیری ماشینی به دست آوردن مدل‌هایی نیست که در داده‌های آموزشی عملکرد خوبی داشته باشند، زیرا این کار آسانی است: تنها کاری که باید انجام دهید این است که گرادیان را دنبال کنید. \n",
    "- هدف به دست آوردن مدل‌هایی است که به طور کلی عملکرد خوبی داشته باشند، به ویژه در نقاط داده ای که مدل قبلا هرگز با آنها برخورد نکرده است. \n",
    "- فقط به این دلیل که یک مدل در داده‌های آموزشی خود عملکرد خوبی دارد، به این معنی نیست که روی داده‌هایی که هرگز ندیده است، عملکرد خوبی خواهد داشت! \n",
    "- به عنوان مثال، ممکن است مدل شما صرفاً یک تصویر بین نمونه‌های آموزشی شما و اهداف آنها را به خاطر بسپارد (از حفظ کند)، که برای کار پیش بینی اهداف برای داده‌هایی که مدل قبلا هرگز ندیده است، بی فایده خواهد بود. \n",
    "- برای اعتبارسنجی مدل از داده‌های validation استفاده می‌شود که در فرآیند آموزش شرکت نداشته‌اند.\n",
    "- این داده‌ها برای ارزیابی در تابع `fit` استفاده می‌شوند.\n",
    "- هدف از اعتبارسنجی این است که نظارت کند آیا آنچه مدل یاد می‌گیرد واقعاً برای داده‌های جدید مفید است یا خیر. \n",
    "- می‌توانیم از تابع `evaluate` برای اعتبارسنجی استفاده کنیم:\n",
    "  \n",
    "  \n",
    "\n",
    "**تعیین آرگومان مربوط به داده‌های اعتبارسنجی `validation_data`**"
   ]
  },
  {
   "cell_type": "code",
   "execution_count": 47,
   "metadata": {
    "colab_type": "code"
   },
   "outputs": [
    {
     "ename": "NameError",
     "evalue": "name 'val_inputs' is not defined",
     "output_type": "error",
     "traceback": [
      "\u001b[0;31m---------------------------------------------------------------------------\u001b[0m",
      "\u001b[0;31mNameError\u001b[0m                                 Traceback (most recent call last)",
      "Input \u001b[0;32mIn [47]\u001b[0m, in \u001b[0;36m<cell line: 1>\u001b[0;34m()\u001b[0m\n\u001b[0;32m----> 1\u001b[0m loss_and_metrics \u001b[38;5;241m=\u001b[39m model\u001b[38;5;241m.\u001b[39mevaluate(\u001b[43mval_inputs\u001b[49m, val_targets, batch_size\u001b[38;5;241m=\u001b[39m\u001b[38;5;241m128\u001b[39m)\n",
      "\u001b[0;31mNameError\u001b[0m: name 'val_inputs' is not defined"
     ]
    }
   ],
   "source": [
    "loss_and_metrics = model.evaluate(val_inputs, val_targets, batch_size=128)"
   ]
  },
  {
   "cell_type": "markdown",
   "metadata": {},
   "source": [
    "- خروجی به صورت لیستی از مقادیر عددی هست که اولین آنها مقدار خطاست و در ادامه سایر معیارهای ارزیابی در صورت وجود قرار دارد.\n"
   ]
  },
  {
   "cell_type": "code",
   "execution_count": 48,
   "metadata": {
    "colab_type": "code"
   },
   "outputs": [
    {
     "name": "stdout",
     "output_type": "stream",
     "text": [
      "Epoch 1/5\n",
      "88/88 [==============================] - 1s 5ms/step - loss: 0.0868 - binary_accuracy: 0.9457 - val_loss: 0.0380 - val_binary_accuracy: 0.9967\n",
      "Epoch 2/5\n",
      "88/88 [==============================] - 0s 3ms/step - loss: 0.0739 - binary_accuracy: 0.9557 - val_loss: 0.0368 - val_binary_accuracy: 0.9967\n",
      "Epoch 3/5\n",
      "88/88 [==============================] - 0s 3ms/step - loss: 0.0726 - binary_accuracy: 0.9571 - val_loss: 0.0366 - val_binary_accuracy: 0.9983\n",
      "Epoch 4/5\n",
      "88/88 [==============================] - 0s 3ms/step - loss: 0.0675 - binary_accuracy: 0.9579 - val_loss: 0.0736 - val_binary_accuracy: 0.9517\n",
      "Epoch 5/5\n",
      "88/88 [==============================] - 0s 3ms/step - loss: 0.0706 - binary_accuracy: 0.9564 - val_loss: 0.0471 - val_binary_accuracy: 0.9967\n"
     ]
    },
    {
     "data": {
      "text/plain": [
       "<keras.callbacks.History at 0x7f2639f78a90>"
      ]
     },
     "execution_count": 48,
     "metadata": {},
     "output_type": "execute_result"
    }
   ],
   "source": [
    "model = keras.Sequential([keras.layers.Dense(1)])\n",
    "model.compile(optimizer=keras.optimizers.RMSprop(learning_rate=0.1),\n",
    "              loss=keras.losses.MeanSquaredError(),\n",
    "              metrics=[keras.metrics.BinaryAccuracy()])\n",
    "\n",
    "indices_permutation = np.random.permutation(len(inputs))\n",
    "shuffled_inputs = inputs[indices_permutation]\n",
    "shuffled_targets = targets[indices_permutation]\n",
    "\n",
    "num_validation_samples = int(0.3 * len(inputs))\n",
    "val_inputs = shuffled_inputs[:num_validation_samples]\n",
    "val_targets = shuffled_targets[:num_validation_samples]\n",
    "training_inputs = shuffled_inputs[num_validation_samples:]\n",
    "training_targets = shuffled_targets[num_validation_samples:]\n",
    "model.fit(\n",
    "    training_inputs,\n",
    "    training_targets,\n",
    "    epochs=5,\n",
    "    batch_size=16,\n",
    "    validation_data=(val_inputs, val_targets)\n",
    ")"
   ]
  },
  {
   "cell_type": "markdown",
   "metadata": {},
   "source": [
    "## استنتاج (Inference) استفاده از مدل بعد از آموزش\n",
    "\n",
    "- هنگامی که مدل خود را آموزش دادیم، می‌خواهیم از آن برای پیش بینی داده‌های جدید استفاده کنیم.\n",
    "- این فرآیند استنتاج (inference) خوانده می‌شود.\n",
    "- برای این کار از تابع `predict` استفاده کنید.\n"
   ]
  },
  {
   "cell_type": "code",
   "execution_count": 49,
   "metadata": {
    "colab_type": "code"
   },
   "outputs": [
    {
     "name": "stdout",
     "output_type": "stream",
     "text": [
      "[[ 0.69723016]\n",
      " [-0.2003741 ]\n",
      " [-0.27378932]\n",
      " [ 0.02751473]\n",
      " [-0.02910501]\n",
      " [ 1.3867711 ]\n",
      " [-0.20683852]\n",
      " [ 0.8127668 ]\n",
      " [ 0.88487875]\n",
      " [ 0.05058777]]\n"
     ]
    }
   ],
   "source": [
    "predictions = model.predict(val_inputs, batch_size=128)\n",
    "print(predictions[:10])"
   ]
  },
  {
   "cell_type": "markdown",
   "metadata": {},
   "source": [
    "## خلاصه\n",
    "\n",
    "  - TensorFlow یک چارچوب محاسباتی عددی با قدرت صنعتی است که می‌تواند بر روی CPU، GPU یا TPU اجرا شود. \n",
    "  - می‌تواند به‌طور خودکار گرادیان هر عبارت مشتق‌پدیری را محاسبه کند. \n",
    "  - می‌تواند در بسیاری از دستگاه‌ها توزیع شود\n",
    "  - می‌تواند برنامه‌ها را به زمان‌های اجرا خارجی مختلف - حتی جاوا اسکریپت - صادر کند.\n",
    "  - Keras در حال حاضر API استاندارد برای انجام یادگیری عمیق با TensorFlow است. \n",
    "  - اشیاء کلیدی TensorFlow شامل تنسورها، متغیرها، عملیات تنسور و نوار گرادیان است.\n",
    "  - یک لایه مقداری وزن و مقداری محاسبات را در بر می‌گیرد. \n",
    "  - لایه‌ها در مدل‌ها مونتاژ می‌شوند.\n",
    "  - قبل از شروع آموزش یک مدل، باید یک بهینه ساز، تابع خطا، و برخی معیارها را انتخاب کنید که از طریق متد model.compile() مشخص می‌شوند.\n",
    "  - برای آموزش یک مدل، می‌توانید از متد <span dir=ltr>`fit()`</span> استفاده کنید که نزول گرادیان دسته‌ای کوچک (**mini-batch gradient descent**) را برای شما اجرا می‌کند.\n",
    "  - همچنین می‌توانید برای نظارت بر خطا و معیارهای داده‌های اعتبارسنجی ، از مجموعه‌ای از ورودی‌هایی که مدل در طول آموزش نمی‌بیند، استفاده کنید.\n",
    "  - هنگامی که مدل شما آموزش داده شد، از متد <span dir=ltr>`model.predict()`</span> برای پیش‌بینی در ورودی‌های جدید استفاده می‌کنید.\n",
    "\n",
    "</div>"
   ]
  },
  {
   "cell_type": "code",
   "execution_count": null,
   "metadata": {},
   "outputs": [],
   "source": []
  }
 ],
 "metadata": {
  "kernelspec": {
   "display_name": "Python 3 (ipykernel)",
   "language": "python",
   "name": "python3"
  },
  "language_info": {
   "codemirror_mode": {
    "name": "ipython",
    "version": 3
   },
   "file_extension": ".py",
   "mimetype": "text/x-python",
   "name": "python",
   "nbconvert_exporter": "python",
   "pygments_lexer": "ipython3",
   "version": "3.8.15"
  }
 },
 "nbformat": 4,
 "nbformat_minor": 4
}
