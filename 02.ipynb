{
 "cells": [
  {
   "cell_type": "code",
   "execution_count": 1,
   "id": "c0432bb0",
   "metadata": {},
   "outputs": [
    {
     "data": {
      "text/html": [
       "\n",
       "    <style>\n",
       "        @font-face {\n",
       "            /* تعریف نام فونت */\n",
       "            font-family: 'BZar';\n",
       "            /* اکسپلورر 9 به بعد */\n",
       "            src: url('font/BZar.eot');\n",
       "            /* بررسی نصب بودن فونت در سیستم کاربر */\n",
       "            src: local('bZar'),\n",
       "                 /* برای برخی از مرورگرها مانند سافاری */\n",
       "                 local('b Zar'),\n",
       "                 /* هک برای اکسپلورر 8 و ماقبل */\n",
       "                 url('font/BZar.eot?#iefix') format('embedded-opentype'),\n",
       "                 /* فرمت مناسب مرورگرهای خیلی جدید */\n",
       "                 url('font/BZar.woff2') format('woff2'),\n",
       "                 /* فرمت مناسب مرورگرهای تقریبا جدید */\n",
       "                 url('fonts/BZar.woff') format('woff'),\n",
       "                 /* تمام مرورگرها به جزء اکسپلورر */\n",
       "                 url('font/BZar.ttf') format('truetype'),\n",
       "                 /* نسخه های قدیمی سیستم عامل iOS */\n",
       "                 url('fonts/BZar.svg#BZar') format('svg');\n",
       "            font-style: normal;\n",
       "            font-weight: normal;\n",
       "            font-display: swap;\n",
       "        }\n",
       "    \n",
       "    \n",
       "        .reveal .slides {\n",
       "            direction: rtl;\n",
       "            text-align: right;\n",
       "        }\n",
       "        \n",
       "        div {\n",
       "            direction: ltr;\n",
       "            text-align: left;\n",
       "        }\n",
       "        \n",
       "        p > img {\n",
       "          display: block;\n",
       "          margin-left: auto;\n",
       "          margin-right: auto;\n",
       "          max-width:75%; \n",
       "          height:auto;\n",
       "        }\n",
       "        \n",
       "        div.text_cell_render.rendered_html > *, li > p, .rendered_html p, #quarto-document-content > *\n",
       "        {\n",
       "            direction: rtl;\n",
       "            text-align: right;\n",
       "            font-family: BZar, Tahoma, Geneva, sans-serif;\n",
       "            font-size: x-large;\n",
       "            line-height: 26pt;\n",
       "        }\n",
       "        \n",
       "        .jp-CodeMirrorEditor .jp-Editor .jp-InputArea-editor {\n",
       "            direction: rtl !important;\n",
       "        }\n",
       "        \n",
       "        .CodeMirror-lines .output_subarea .output_text .output_stream .output_stdout{\n",
       "            direction: ltr !important;\n",
       "        }\n",
       "    </style>\n",
       "    "
      ],
      "text/plain": [
       "<IPython.core.display.HTML object>"
      ]
     },
     "execution_count": 1,
     "metadata": {},
     "output_type": "execute_result"
    }
   ],
   "source": [
    "from IPython.display import display, HTML, Javascript\n",
    "\n",
    "def f():\n",
    "    return HTML(\"\"\"\n",
    "    <style>\n",
    "        @font-face {\n",
    "            /* تعریف نام فونت */\n",
    "            font-family: 'BZar';\n",
    "            /* اکسپلورر 9 به بعد */\n",
    "            src: url('font/BZar.eot');\n",
    "            /* بررسی نصب بودن فونت در سیستم کاربر */\n",
    "            src: local('bZar'),\n",
    "                 /* برای برخی از مرورگرها مانند سافاری */\n",
    "                 local('b Zar'),\n",
    "                 /* هک برای اکسپلورر 8 و ماقبل */\n",
    "                 url('font/BZar.eot?#iefix') format('embedded-opentype'),\n",
    "                 /* فرمت مناسب مرورگرهای خیلی جدید */\n",
    "                 url('font/BZar.woff2') format('woff2'),\n",
    "                 /* فرمت مناسب مرورگرهای تقریبا جدید */\n",
    "                 url('fonts/BZar.woff') format('woff'),\n",
    "                 /* تمام مرورگرها به جزء اکسپلورر */\n",
    "                 url('font/BZar.ttf') format('truetype'),\n",
    "                 /* نسخه های قدیمی سیستم عامل iOS */\n",
    "                 url('fonts/BZar.svg#BZar') format('svg');\n",
    "            font-style: normal;\n",
    "            font-weight: normal;\n",
    "            font-display: swap;\n",
    "        }\n",
    "    \n",
    "    \n",
    "        .reveal .slides {\n",
    "            direction: rtl;\n",
    "            text-align: right;\n",
    "        }\n",
    "        \n",
    "        div {\n",
    "            direction: ltr;\n",
    "            text-align: left;\n",
    "        }\n",
    "        \n",
    "        p > img {\n",
    "          display: block;\n",
    "          margin-left: auto;\n",
    "          margin-right: auto;\n",
    "          max-width:75%; \n",
    "          height:auto;\n",
    "        }\n",
    "        \n",
    "        div.text_cell_render.rendered_html > *, li > p, .rendered_html p, #quarto-document-content > *\n",
    "        {\n",
    "            direction: rtl;\n",
    "            text-align: right;\n",
    "            font-family: BZar, Tahoma, Geneva, sans-serif;\n",
    "            font-size: x-large;\n",
    "            line-height: 26pt;\n",
    "        }\n",
    "        \n",
    "        .jp-CodeMirrorEditor .jp-Editor .jp-InputArea-editor {\n",
    "            direction: rtl !important;\n",
    "        }\n",
    "        \n",
    "        .CodeMirror-lines .output_subarea .output_text .output_stream .output_stdout{\n",
    "            direction: ltr !important;\n",
    "        }\n",
    "    </style>\n",
    "    \"\"\")\n",
    "\n",
    "f()"
   ]
  },
  {
   "cell_type": "code",
   "execution_count": 2,
   "id": "afaa7a1d",
   "metadata": {},
   "outputs": [
    {
     "data": {
      "text/html": [
       "\n",
       "    <link rel=\"stylesheet\" href=\"css/jquery.jqZoom.css\" />\n",
       "    <script src=\"js/jquery-1.12.4.min.js\"></script>\n",
       "    <script src=\"js/jquery.zoom.min.js\"></script>\n",
       "    <script>\n",
       "        $(document).ready(function(){\n",
       "            $(\"img\").children().off();\n",
       "            $('img')\n",
       "            .wrap('<span style=\"display:inline-block\"></span>')\n",
       "            .css('display', 'block')\n",
       "            .parent()\n",
       "            .zoom({ on:'grab', duration: 150, magnify: 1 });\n",
       "        });\n",
       "    </script>\n",
       "    "
      ],
      "text/plain": [
       "<IPython.core.display.HTML object>"
      ]
     },
     "execution_count": 2,
     "metadata": {},
     "output_type": "execute_result"
    }
   ],
   "source": [
    "from IPython.display import display, HTML, Javascript\n",
    "\n",
    "def g():\n",
    "    return HTML(\"\"\"\n",
    "    <link rel=\"stylesheet\" href=\"css/jquery.jqZoom.css\" />\n",
    "    <script src=\"js/jquery-1.12.4.min.js\"></script>\n",
    "    <script src=\"js/jquery.zoom.min.js\"></script>\n",
    "    <script>\n",
    "        $(document).ready(function(){\n",
    "            $(\"img\").children().off();\n",
    "            $('img')\n",
    "            .wrap('<span style=\"display:inline-block\"></span>')\n",
    "            .css('display', 'block')\n",
    "            .parent()\n",
    "            .zoom({ on:'grab', duration: 150, magnify: 1 });\n",
    "        });\n",
    "    </script>\n",
    "    \"\"\")\n",
    "\n",
    "g()"
   ]
  },
  {
   "cell_type": "raw",
   "id": "fc3f507b",
   "metadata": {},
   "source": [
    "---\n",
    "title: \"فصل دوم\"\n",
    "format: \n",
    "  docx:\n",
    "    toc: true\n",
    "    section-numbers: true\n",
    "    highlight-style: github\n",
    "    dir: rtl\n",
    "#  pptx:\n",
    "#    toc: true\n",
    "#    execute:\n",
    "#      echo: false\n",
    "#      warning: false\n",
    "  html:\n",
    "    css: css/style.css \n",
    "    code-fold: false \n",
    "    echo: true \n",
    "    self-contained: false \n",
    "    lang: fa\n",
    "#  revealjs: \n",
    "#    incremental: true\n",
    "#    dir: rtl \n",
    "#  pdf:\n",
    "#    number-sections: true\n",
    "#    colorlinks: true\n",
    "#    pdf-engine: xelatex\n",
    "#    keep-tex: true\n",
    "page-layout: full\n",
    "toc: false \n",
    "dir: rtl  \n",
    "lang: fa  \n",
    "jupyter: python3\n",
    "---"
   ]
  },
  {
   "cell_type": "markdown",
   "id": "d6886b20",
   "metadata": {},
   "source": [
    "به نام خدا\n",
    "\n",
    "# فصل دوم\n",
    "\n",
    "## آشنایی با تنسور و برخی مفاهیم پایه\n",
    "\n",
    "اهم مطالب این فصل در مورد آشنایی با تنسور و عملیات روی آن یعنی مشتق گیری و گرادیان نزولی است.\n",
    "\n",
    "در این فصل یک مثال اولیه در مورد دسته بندی ارقام دستنویس روی مجموعه داده‌ی MNIST   ارائه می‌کنیم، گرچه درک جزئیات این مساله اولیه الزامی نیست.\n",
    "\n",
    "مجموعه داده MNIST قدمتی برابر با خود یادگیری ماشین دارد در این مجموعه داده ۶۰۰۰۰ عکس رقم با ابعاد ۲۸ در ۲۸  به عنوان مجموعه آموزشی و ۱۰۰۰۰ عکس برای تست با همین ابعاد موجود است \n",
    "\n",
    "این اطلاعات را در ۱۹۸۰ توسط NIST جمع‌آوری شده است. \n",
    "\n",
    "در واقع این مجموعه داده به عنوان Hello World  در دنیای یادگیری ماشین استفاده می شود.\n",
    "\n",
    "\n"
   ]
  },
  {
   "cell_type": "code",
   "execution_count": 20,
   "id": "bb378d91",
   "metadata": {},
   "outputs": [],
   "source": [
    "from tensorflow.keras.datasets import mnist\n",
    "(train_images, train_labels), (test_images, test_labels) = mnist.load_data()"
   ]
  },
  {
   "cell_type": "code",
   "execution_count": 21,
   "id": "826e4656",
   "metadata": {},
   "outputs": [
    {
     "data": {
      "text/plain": [
       "(60000, 28, 28)"
      ]
     },
     "execution_count": 21,
     "metadata": {},
     "output_type": "execute_result"
    }
   ],
   "source": [
    "train_images.shape"
   ]
  },
  {
   "cell_type": "code",
   "execution_count": 22,
   "id": "3646bb0f",
   "metadata": {},
   "outputs": [
    {
     "data": {
      "text/plain": [
       "(10000, 28, 28)"
      ]
     },
     "execution_count": 22,
     "metadata": {},
     "output_type": "execute_result"
    }
   ],
   "source": [
    "test_images.shape"
   ]
  },
  {
   "cell_type": "code",
   "execution_count": 23,
   "id": "970196a9",
   "metadata": {},
   "outputs": [
    {
     "data": {
      "text/plain": [
       "7"
      ]
     },
     "execution_count": 23,
     "metadata": {},
     "output_type": "execute_result"
    }
   ],
   "source": [
    "test_labels[0]"
   ]
  },
  {
   "cell_type": "code",
   "execution_count": 24,
   "id": "288e11ba",
   "metadata": {},
   "outputs": [
    {
     "data": {
      "image/png": "[encoded data removed]",
      "text/plain": [
       "<Figure size 640x480 with 1 Axes>"
      ]
     },
     "metadata": {},
     "output_type": "display_data"
    }
   ],
   "source": [
    "from matplotlib import pyplot as plt\n",
    "plt.imshow(test_images[0])\n",
    "plt.show()"
   ]
  },
  {
   "cell_type": "code",
   "execution_count": 31,
   "id": "fc6cc6be",
   "metadata": {},
   "outputs": [
    {
     "name": "stdout",
     "output_type": "stream",
     "text": [
      "[[  0   0   0   0   0   0   0   0   0   0   0   0   0   0   0   0   0   0\n",
      "    0   0   0   0   0   0   0   0   0   0]\n",
      " [  0   0   0   0   0   0   0   0   0   0   0   0   0   0   0   0   0   0\n",
      "    0   0   0   0   0   0   0   0   0   0]\n",
      " [  0   0   0   0   0   0   0   0   0   0   0   0   0   0   0   0   0   0\n",
      "    0   0   0   0   0   0   0   0   0   0]\n",
      " [  0   0   0   0   0   0   0   0   0   0   0   0   0   0   0   0   0   0\n",
      "    0   0   0   0   0   0   0   0   0   0]\n",
      " [  0   0   0   0   0   0   0   0   0   0   0   0   0   0   0   0   0   0\n",
      "    0   0   0   0   0   0   0   0   0   0]\n",
      " [  0   0   0   0   0   0   0   0   0   0   0   0   3  18  18  18 126 136\n",
      "  175  26 166 255 247 127   0   0   0   0]\n",
      " [  0   0   0   0   0   0   0   0  30  36  94 154 170 253 253 253 253 253\n",
      "  225 172 253 242 195  64   0   0   0   0]\n",
      " [  0   0   0   0   0   0   0  49 238 253 253 253 253 253 253 253 253 251\n",
      "   93  82  82  56  39   0   0   0   0   0]\n",
      " [  0   0   0   0   0   0   0  18 219 253 253 253 253 253 198 182 247 241\n",
      "    0   0   0   0   0   0   0   0   0   0]\n",
      " [  0   0   0   0   0   0   0   0  80 156 107 253 253 205  11   0  43 154\n",
      "    0   0   0   0   0   0   0   0   0   0]\n",
      " [  0   0   0   0   0   0   0   0   0  14   1 154 253  90   0   0   0   0\n",
      "    0   0   0   0   0   0   0   0   0   0]\n",
      " [  0   0   0   0   0   0   0   0   0   0   0 139 253 190   2   0   0   0\n",
      "    0   0   0   0   0   0   0   0   0   0]\n",
      " [  0   0   0   0   0   0   0   0   0   0   0  11 190 253  70   0   0   0\n",
      "    0   0   0   0   0   0   0   0   0   0]\n",
      " [  0   0   0   0   0   0   0   0   0   0   0   0  35 241 225 160 108   1\n",
      "    0   0   0   0   0   0   0   0   0   0]\n",
      " [  0   0   0   0   0   0   0   0   0   0   0   0   0  81 240 253 253 119\n",
      "   25   0   0   0   0   0   0   0   0   0]\n",
      " [  0   0   0   0   0   0   0   0   0   0   0   0   0   0  45 186 253 253\n",
      "  150  27   0   0   0   0   0   0   0   0]\n",
      " [  0   0   0   0   0   0   0   0   0   0   0   0   0   0   0  16  93 252\n",
      "  253 187   0   0   0   0   0   0   0   0]\n",
      " [  0   0   0   0   0   0   0   0   0   0   0   0   0   0   0   0   0 249\n",
      "  253 249  64   0   0   0   0   0   0   0]\n",
      " [  0   0   0   0   0   0   0   0   0   0   0   0   0   0  46 130 183 253\n",
      "  253 207   2   0   0   0   0   0   0   0]\n",
      " [  0   0   0   0   0   0   0   0   0   0   0   0  39 148 229 253 253 253\n",
      "  250 182   0   0   0   0   0   0   0   0]\n",
      " [  0   0   0   0   0   0   0   0   0   0  24 114 221 253 253 253 253 201\n",
      "   78   0   0   0   0   0   0   0   0   0]\n",
      " [  0   0   0   0   0   0   0   0  23  66 213 253 253 253 253 198  81   2\n",
      "    0   0   0   0   0   0   0   0   0   0]\n",
      " [  0   0   0   0   0   0  18 171 219 253 253 253 253 195  80   9   0   0\n",
      "    0   0   0   0   0   0   0   0   0   0]\n",
      " [  0   0   0   0  55 172 226 253 253 253 253 244 133  11   0   0   0   0\n",
      "    0   0   0   0   0   0   0   0   0   0]\n",
      " [  0   0   0   0 136 253 253 253 212 135 132  16   0   0   0   0   0   0\n",
      "    0   0   0   0   0   0   0   0   0   0]\n",
      " [  0   0   0   0   0   0   0   0   0   0   0   0   0   0   0   0   0   0\n",
      "    0   0   0   0   0   0   0   0   0   0]\n",
      " [  0   0   0   0   0   0   0   0   0   0   0   0   0   0   0   0   0   0\n",
      "    0   0   0   0   0   0   0   0   0   0]\n",
      " [  0   0   0   0   0   0   0   0   0   0   0   0   0   0   0   0   0   0\n",
      "    0   0   0   0   0   0   0   0   0   0]]\n"
     ]
    }
   ],
   "source": [
    "print(train_images[0][:][:])"
   ]
  },
  {
   "cell_type": "code",
   "execution_count": 32,
   "id": "d4dc92f7",
   "metadata": {},
   "outputs": [
    {
     "name": "stdout",
     "output_type": "stream",
     "text": [
      "8\n"
     ]
    },
    {
     "data": {
      "image/png": "[encoded data removed]",
      "text/plain": [
       "<Figure size 640x480 with 1 Axes>"
      ]
     },
     "metadata": {},
     "output_type": "display_data"
    }
   ],
   "source": [
    "import random\n",
    "idx = random.randrange(train_images.shape[0])\n",
    "print(train_labels[idx])\n",
    "plt.imshow(train_images[idx])\n",
    "plt.show()"
   ]
  },
  {
   "cell_type": "markdown",
   "id": "617e23fc",
   "metadata": {},
   "source": [
    "\n",
    "در این کد ابتدا داده‌ها بارگذاری می شوند روند کلی اجرا به این صورت است که از روی داده های آموزشی یادگیری انجام می شود و از روی داده های تست فرآیند ارزیابی انجام می شود.\n",
    "\n"
   ]
  },
  {
   "cell_type": "markdown",
   "id": "1fcdcdea",
   "metadata": {},
   "source": [
    "بر اساس شبکه عصبی بر روی آموزش لایه های متوالی  استوار است هر کدام از این لایه‌ها مانند فیلتر هایی ورودی را به نمایش مناسبتری که به خروجی مطلوب نزدیک تر هستند ، تبدیل می کنند معمولاً لایه‌ها به صورت زنجیره‌ای به هم وصل شدند و خروجی یک لایه به عنوان ورودی لایه بعدی استفاده می شود.\n",
    "\n",
    "![neurons](img/02-layers.png)\n",
    "\n",
    "\n",
    "## مفاهیم  fully connected (Dense)  و Softmax\n",
    "\n",
    "![fully](img/02-fully.png)\n",
    "\n",
    "![softmax](img/02-softmax.jpeg)\n",
    "\n",
    "\n",
    "- بعد از طراحی شبکه و آماده سازی داده‌ها سه چیز دیگر مورد نیاز است \n",
    "  1. الگوریتم بهینه سازی  \n",
    "  2. تعریف تابع هدف (یا loss function)   \n",
    "  3. معیار ارزیابی\n"
   ]
  },
  {
   "cell_type": "code",
   "execution_count": 34,
   "id": "1bede4fb",
   "metadata": {},
   "outputs": [],
   "source": [
    "from tensorflow import keras\n",
    "from tensorflow.keras import layers\n",
    "\n",
    "model = keras.Sequential([\n",
    "    layers.Dense(512, activation=\"relu\"),\n",
    "    layers.Dense(10, activation=\"softmax\")\n",
    "])"
   ]
  },
  {
   "cell_type": "code",
   "execution_count": 39,
   "id": "f4f8d5d7",
   "metadata": {},
   "outputs": [],
   "source": [
    "model.compile(optimizer=\"rmsprop\",\n",
    "              loss=\"sparse_categorical_crossentropy\",\n",
    "              metrics=[\"accuracy\"])"
   ]
  },
  {
   "cell_type": "code",
   "execution_count": 36,
   "id": "2dddcf7d",
   "metadata": {},
   "outputs": [],
   "source": [
    "train_images = train_images.reshape((60000, 28 * 28))\n",
    "train_images = train_images.astype(\"float32\") / 255\n",
    "test_images = test_images.reshape((10000, 28 * 28))\n",
    "test_images = test_images.astype(\"float32\") / 255"
   ]
  },
  {
   "cell_type": "code",
   "execution_count": 49,
   "id": "71c1d747",
   "metadata": {},
   "outputs": [
    {
     "data": {
      "text/plain": [
       "array([0.        , 0.        , 0.        , 0.        , 0.        ,\n",
       "       0.        , 0.        , 0.        , 0.        , 0.        ,\n",
       "       0.        , 0.        , 0.        , 0.        , 0.        ,\n",
       "       0.        , 0.        , 0.        , 0.        , 0.        ,\n",
       "       0.        , 0.        , 0.        , 0.        , 0.        ,\n",
       "       0.        , 0.        , 0.        , 0.        , 0.        ,\n",
       "       0.        , 0.        , 0.        , 0.        , 0.        ,\n",
       "       0.        , 0.        , 0.        , 0.        , 0.        ,\n",
       "       0.        , 0.        , 0.        , 0.        , 0.        ,\n",
       "       0.        , 0.        , 0.        , 0.        , 0.        ,\n",
       "       0.        , 0.        , 0.        , 0.        , 0.        ,\n",
       "       0.        , 0.        , 0.        , 0.        , 0.        ,\n",
       "       0.        , 0.        , 0.        , 0.        , 0.        ,\n",
       "       0.        , 0.        , 0.        , 0.        , 0.        ,\n",
       "       0.        , 0.        , 0.        , 0.        , 0.        ,\n",
       "       0.        , 0.        , 0.        , 0.        , 0.        ,\n",
       "       0.        , 0.        , 0.        , 0.        , 0.        ,\n",
       "       0.        , 0.        , 0.        , 0.        , 0.        ,\n",
       "       0.        , 0.        , 0.        , 0.        , 0.        ,\n",
       "       0.        , 0.        , 0.        , 0.        , 0.        ,\n",
       "       0.        , 0.        , 0.        , 0.        , 0.        ,\n",
       "       0.        , 0.        , 0.        , 0.        , 0.        ,\n",
       "       0.        , 0.        , 0.        , 0.        , 0.        ,\n",
       "       0.        , 0.        , 0.        , 0.        , 0.        ,\n",
       "       0.        , 0.        , 0.        , 0.        , 0.        ,\n",
       "       0.        , 0.        , 0.        , 0.        , 0.        ,\n",
       "       0.        , 0.        , 0.        , 0.        , 0.        ,\n",
       "       0.        , 0.        , 0.        , 0.        , 0.        ,\n",
       "       0.        , 0.        , 0.        , 0.        , 0.        ,\n",
       "       0.        , 0.        , 0.        , 0.        , 0.        ,\n",
       "       0.        , 0.        , 0.        , 0.        , 0.        ,\n",
       "       0.        , 0.        , 0.        , 0.        , 0.        ,\n",
       "       0.        , 0.        , 0.        , 0.        , 0.        ,\n",
       "       0.        , 0.        , 0.        , 0.        , 0.        ,\n",
       "       0.        , 0.        , 0.        , 0.        , 0.        ,\n",
       "       0.        , 0.        , 0.        , 0.        , 0.        ,\n",
       "       0.        , 0.        , 0.        , 0.        , 0.        ,\n",
       "       0.        , 0.        , 0.        , 0.        , 0.        ,\n",
       "       0.        , 0.        , 0.        , 0.        , 0.        ,\n",
       "       0.        , 0.        , 0.        , 0.        , 0.        ,\n",
       "       0.        , 0.        , 0.32941177, 0.7254902 , 0.62352943,\n",
       "       0.5921569 , 0.23529412, 0.14117648, 0.        , 0.        ,\n",
       "       0.        , 0.        , 0.        , 0.        , 0.        ,\n",
       "       0.        , 0.        , 0.        , 0.        , 0.        ,\n",
       "       0.        , 0.        , 0.        , 0.        , 0.        ,\n",
       "       0.        , 0.        , 0.        , 0.        , 0.        ,\n",
       "       0.87058824, 0.99607843, 0.99607843, 0.99607843, 0.99607843,\n",
       "       0.94509804, 0.7764706 , 0.7764706 , 0.7764706 , 0.7764706 ,\n",
       "       0.7764706 , 0.7764706 , 0.7764706 , 0.7764706 , 0.6666667 ,\n",
       "       0.20392157, 0.        , 0.        , 0.        , 0.        ,\n",
       "       0.        , 0.        , 0.        , 0.        , 0.        ,\n",
       "       0.        , 0.        , 0.        , 0.2627451 , 0.44705883,\n",
       "       0.28235295, 0.44705883, 0.6392157 , 0.8901961 , 0.99607843,\n",
       "       0.88235295, 0.99607843, 0.99607843, 0.99607843, 0.98039216,\n",
       "       0.8980392 , 0.99607843, 0.99607843, 0.54901963, 0.        ,\n",
       "       0.        , 0.        , 0.        , 0.        , 0.        ,\n",
       "       0.        , 0.        , 0.        , 0.        , 0.        ,\n",
       "       0.        , 0.        , 0.        , 0.        , 0.        ,\n",
       "       0.        , 0.06666667, 0.25882354, 0.05490196, 0.2627451 ,\n",
       "       0.2627451 , 0.2627451 , 0.23137255, 0.08235294, 0.9254902 ,\n",
       "       0.99607843, 0.41568628, 0.        , 0.        , 0.        ,\n",
       "       0.        , 0.        , 0.        , 0.        , 0.        ,\n",
       "       0.        , 0.        , 0.        , 0.        , 0.        ,\n",
       "       0.        , 0.        , 0.        , 0.        , 0.        ,\n",
       "       0.        , 0.        , 0.        , 0.        , 0.        ,\n",
       "       0.        , 0.3254902 , 0.99215686, 0.81960785, 0.07058824,\n",
       "       0.        , 0.        , 0.        , 0.        , 0.        ,\n",
       "       0.        , 0.        , 0.        , 0.        , 0.        ,\n",
       "       0.        , 0.        , 0.        , 0.        , 0.        ,\n",
       "       0.        , 0.        , 0.        , 0.        , 0.        ,\n",
       "       0.        , 0.        , 0.        , 0.08627451, 0.9137255 ,\n",
       "       1.        , 0.3254902 , 0.        , 0.        , 0.        ,\n",
       "       0.        , 0.        , 0.        , 0.        , 0.        ,\n",
       "       0.        , 0.        , 0.        , 0.        , 0.        ,\n",
       "       0.        , 0.        , 0.        , 0.        , 0.        ,\n",
       "       0.        , 0.        , 0.        , 0.        , 0.        ,\n",
       "       0.        , 0.5058824 , 0.99607843, 0.93333334, 0.17254902,\n",
       "       0.        , 0.        , 0.        , 0.        , 0.        ,\n",
       "       0.        , 0.        , 0.        , 0.        , 0.        ,\n",
       "       0.        , 0.        , 0.        , 0.        , 0.        ,\n",
       "       0.        , 0.        , 0.        , 0.        , 0.        ,\n",
       "       0.        , 0.        , 0.        , 0.23137255, 0.9764706 ,\n",
       "       0.99607843, 0.24313726, 0.        , 0.        , 0.        ,\n",
       "       0.        , 0.        , 0.        , 0.        , 0.        ,\n",
       "       0.        , 0.        , 0.        , 0.        , 0.        ,\n",
       "       0.        , 0.        , 0.        , 0.        , 0.        ,\n",
       "       0.        , 0.        , 0.        , 0.        , 0.        ,\n",
       "       0.        , 0.52156866, 0.99607843, 0.73333335, 0.01960784,\n",
       "       0.        , 0.        , 0.        , 0.        , 0.        ,\n",
       "       0.        , 0.        , 0.        , 0.        , 0.        ,\n",
       "       0.        , 0.        , 0.        , 0.        , 0.        ,\n",
       "       0.        , 0.        , 0.        , 0.        , 0.        ,\n",
       "       0.        , 0.        , 0.        , 0.03529412, 0.8039216 ,\n",
       "       0.972549  , 0.22745098, 0.        , 0.        , 0.        ,\n",
       "       0.        , 0.        , 0.        , 0.        , 0.        ,\n",
       "       0.        , 0.        , 0.        , 0.        , 0.        ,\n",
       "       0.        , 0.        , 0.        , 0.        , 0.        ,\n",
       "       0.        , 0.        , 0.        , 0.        , 0.        ,\n",
       "       0.        , 0.49411765, 0.99607843, 0.7137255 , 0.        ,\n",
       "       0.        , 0.        , 0.        , 0.        , 0.        ,\n",
       "       0.        , 0.        , 0.        , 0.        , 0.        ,\n",
       "       0.        , 0.        , 0.        , 0.        , 0.        ,\n",
       "       0.        , 0.        , 0.        , 0.        , 0.        ,\n",
       "       0.        , 0.        , 0.        , 0.29411766, 0.9843137 ,\n",
       "       0.9411765 , 0.22352941, 0.        , 0.        , 0.        ,\n",
       "       0.        , 0.        , 0.        , 0.        , 0.        ,\n",
       "       0.        , 0.        , 0.        , 0.        , 0.        ,\n",
       "       0.        , 0.        , 0.        , 0.        , 0.        ,\n",
       "       0.        , 0.        , 0.        , 0.        , 0.        ,\n",
       "       0.07450981, 0.8666667 , 0.99607843, 0.6509804 , 0.        ,\n",
       "       0.        , 0.        , 0.        , 0.        , 0.        ,\n",
       "       0.        , 0.        , 0.        , 0.        , 0.        ,\n",
       "       0.        , 0.        , 0.        , 0.        , 0.        ,\n",
       "       0.        , 0.        , 0.        , 0.        , 0.        ,\n",
       "       0.        , 0.        , 0.01176471, 0.79607844, 0.99607843,\n",
       "       0.85882354, 0.13725491, 0.        , 0.        , 0.        ,\n",
       "       0.        , 0.        , 0.        , 0.        , 0.        ,\n",
       "       0.        , 0.        , 0.        , 0.        , 0.        ,\n",
       "       0.        , 0.        , 0.        , 0.        , 0.        ,\n",
       "       0.        , 0.        , 0.        , 0.        , 0.        ,\n",
       "       0.14901961, 0.99607843, 0.99607843, 0.3019608 , 0.        ,\n",
       "       0.        , 0.        , 0.        , 0.        , 0.        ,\n",
       "       0.        , 0.        , 0.        , 0.        , 0.        ,\n",
       "       0.        , 0.        , 0.        , 0.        , 0.        ,\n",
       "       0.        , 0.        , 0.        , 0.        , 0.        ,\n",
       "       0.        , 0.        , 0.12156863, 0.8784314 , 0.99607843,\n",
       "       0.4509804 , 0.00392157, 0.        , 0.        , 0.        ,\n",
       "       0.        , 0.        , 0.        , 0.        , 0.        ,\n",
       "       0.        , 0.        , 0.        , 0.        , 0.        ,\n",
       "       0.        , 0.        , 0.        , 0.        , 0.        ,\n",
       "       0.        , 0.        , 0.        , 0.        , 0.        ,\n",
       "       0.52156866, 0.99607843, 0.99607843, 0.20392157, 0.        ,\n",
       "       0.        , 0.        , 0.        , 0.        , 0.        ,\n",
       "       0.        , 0.        , 0.        , 0.        , 0.        ,\n",
       "       0.        , 0.        , 0.        , 0.        , 0.        ,\n",
       "       0.        , 0.        , 0.        , 0.        , 0.        ,\n",
       "       0.        , 0.        , 0.23921569, 0.9490196 , 0.99607843,\n",
       "       0.99607843, 0.20392157, 0.        , 0.        , 0.        ,\n",
       "       0.        , 0.        , 0.        , 0.        , 0.        ,\n",
       "       0.        , 0.        , 0.        , 0.        , 0.        ,\n",
       "       0.        , 0.        , 0.        , 0.        , 0.        ,\n",
       "       0.        , 0.        , 0.        , 0.        , 0.        ,\n",
       "       0.4745098 , 0.99607843, 0.99607843, 0.85882354, 0.15686275,\n",
       "       0.        , 0.        , 0.        , 0.        , 0.        ,\n",
       "       0.        , 0.        , 0.        , 0.        , 0.        ,\n",
       "       0.        , 0.        , 0.        , 0.        , 0.        ,\n",
       "       0.        , 0.        , 0.        , 0.        , 0.        ,\n",
       "       0.        , 0.        , 0.        , 0.4745098 , 0.99607843,\n",
       "       0.8117647 , 0.07058824, 0.        , 0.        , 0.        ,\n",
       "       0.        , 0.        , 0.        , 0.        , 0.        ,\n",
       "       0.        , 0.        , 0.        , 0.        , 0.        ,\n",
       "       0.        , 0.        , 0.        , 0.        , 0.        ,\n",
       "       0.        , 0.        , 0.        , 0.        , 0.        ,\n",
       "       0.        , 0.        , 0.        , 0.        , 0.        ,\n",
       "       0.        , 0.        , 0.        , 0.        , 0.        ,\n",
       "       0.        , 0.        , 0.        , 0.        , 0.        ,\n",
       "       0.        , 0.        , 0.        , 0.        ], dtype=float32)"
      ]
     },
     "execution_count": 49,
     "metadata": {},
     "output_type": "execute_result"
    }
   ],
   "source": [
    "test_images[0]"
   ]
  },
  {
   "cell_type": "code",
   "execution_count": 50,
   "id": "1d0632fa",
   "metadata": {},
   "outputs": [
    {
     "name": "stdout",
     "output_type": "stream",
     "text": [
      "Epoch 1/5\n",
      "469/469 [==============================] - 6s 13ms/step - loss: 0.0284 - accuracy: 0.9917\n",
      "Epoch 2/5\n",
      "469/469 [==============================] - 6s 12ms/step - loss: 0.0219 - accuracy: 0.9935\n",
      "Epoch 3/5\n",
      "469/469 [==============================] - 6s 12ms/step - loss: 0.0174 - accuracy: 0.9947\n",
      "Epoch 4/5\n",
      "469/469 [==============================] - 6s 12ms/step - loss: 0.0127 - accuracy: 0.9966\n",
      "Epoch 5/5\n",
      "469/469 [==============================] - 6s 12ms/step - loss: 0.0098 - accuracy: 0.9974\n"
     ]
    },
    {
     "data": {
      "text/plain": [
       "<keras.callbacks.History at 0x7fcf41213880>"
      ]
     },
     "execution_count": 50,
     "metadata": {},
     "output_type": "execute_result"
    }
   ],
   "source": [
    "model.fit(train_images, train_labels, epochs=5, batch_size=128)"
   ]
  },
  {
   "cell_type": "code",
   "execution_count": 51,
   "id": "f52d56df",
   "metadata": {},
   "outputs": [
    {
     "name": "stdout",
     "output_type": "stream",
     "text": [
      "1/1 [==============================] - 0s 46ms/step\n"
     ]
    },
    {
     "data": {
      "text/plain": [
       "array([1.5277316e-11, 3.6767464e-15, 1.2131254e-09, 3.5122707e-07,\n",
       "       3.6617817e-16, 8.0030730e-12, 6.7576481e-22, 9.9999964e-01,\n",
       "       2.3668661e-10, 5.7169650e-08], dtype=float32)"
      ]
     },
     "execution_count": 51,
     "metadata": {},
     "output_type": "execute_result"
    }
   ],
   "source": [
    "test_digits = test_images[0:1]\n",
    "predictions = model.predict(test_digits)\n",
    "predictions[0]"
   ]
  },
  {
   "cell_type": "markdown",
   "id": "2341f56d",
   "metadata": {},
   "source": [
    "    array([8.3811331e-09, 6.1948477e-09, 8.2861570e-06, 4.8988115e-04,\n",
    "           4.6097921e-11, 1.8410864e-06, 5.3281235e-13, 9.9949050e-01,\n",
    "           3.1962665e-07, 9.0377707e-06], dtype=float32)\n"
   ]
  },
  {
   "cell_type": "code",
   "execution_count": 45,
   "id": "502ba7ea",
   "metadata": {},
   "outputs": [
    {
     "data": {
      "text/plain": [
       "7"
      ]
     },
     "execution_count": 45,
     "metadata": {},
     "output_type": "execute_result"
    }
   ],
   "source": [
    "predictions[0].argmax()"
   ]
  },
  {
   "cell_type": "code",
   "execution_count": 46,
   "id": "1fc79579",
   "metadata": {},
   "outputs": [
    {
     "data": {
      "text/plain": [
       "0.99953926"
      ]
     },
     "execution_count": 46,
     "metadata": {},
     "output_type": "execute_result"
    }
   ],
   "source": [
    "predictions[0][7]"
   ]
  },
  {
   "cell_type": "markdown",
   "id": "94dde030",
   "metadata": {},
   "source": [
    "    0.9994905\n"
   ]
  },
  {
   "cell_type": "code",
   "execution_count": 52,
   "id": "58cbce08",
   "metadata": {},
   "outputs": [
    {
     "data": {
      "text/plain": [
       "7"
      ]
     },
     "execution_count": 52,
     "metadata": {},
     "output_type": "execute_result"
    }
   ],
   "source": [
    "test_labels[0]"
   ]
  },
  {
   "cell_type": "markdown",
   "id": "6d69d4d0",
   "metadata": {},
   "source": [
    "**ارزیابی مدل بر روی داده‌های جدید**\n"
   ]
  },
  {
   "cell_type": "code",
   "execution_count": 48,
   "id": "a839aff1",
   "metadata": {},
   "outputs": [
    {
     "name": "stdout",
     "output_type": "stream",
     "text": [
      "313/313 [==============================] - 1s 3ms/step - loss: 0.0658 - accuracy: 0.9793\n",
      "test_acc: 0.9793000221252441\n"
     ]
    }
   ],
   "source": [
    "test_loss, test_acc = model.evaluate(test_images, test_labels)\n",
    "print(f\"test_acc: {test_acc}\")"
   ]
  },
  {
   "cell_type": "markdown",
   "id": "d66b0800",
   "metadata": {},
   "source": [
    "نکته:  قبل از ورود داده‌ها به شبکه آنها را بین صفر تا یک نرمال سازی می کنیم\n",
    "\n",
    "در این مثال از معیار دقت Accuracy  به عنوان معیار ارزیابی استفاده شده است\n",
    "\n",
    "\n",
    "برای به دست آوردن نتیجه از تابع argmax  استفاده می شود\n",
    "\n",
    "\n",
    "نکته:  معمولاً دقت تست کمی از آموزش کمتر است ولی اگر دقت  آموزش بالا باشد ولی دقت تست خیلی کم باشد احتمالاً در شبکه  overfitting صورت گرفته است.\n",
    "\n",
    "## تنسور چیست؟\n",
    "آنقدر تنسور مهم است که کل بسته پایه را به عنوان TensorFlow  نامیدند\n",
    "\n",
    "تنسور مانند یک ظرف مانند ماتریس است  که برای حمل داده‌ها با ابعاد بالا استفاده می شود.\n",
    "\n",
    "گاهی اوقات از عبارت dim    به جای  rank یا axis  برای اشاره به ابعاد تنسور استفاده می شود. بهتر هست به جای سه‌بعدی بگوییم با رنک سه. \n",
    "\n",
    "## انواع تنسور\n",
    "1. اسکالر (تنسور با بعد ۰)\n",
    "2. بردار (تنسور با بعد ۱)\n",
    "3. ماتریس (تنسور با بعد ۲)\n",
    "4. تنسور عمومی:  با بعد ۳ و بالاتر که معمولاً در مورد  ویدئو استفاده می شود.\n",
    "\n",
    "\n",
    "\n",
    "## هر تنسور ویژگی‌های به صورت زیر دارد: \n",
    "\n",
    "1. rank  که با تابع ndim به دست می‌آید.\n",
    "2. shape که به صورت تاپل هست و تعداد ابعاد را در راستای هر محور اعلام می‌کند.\n",
    "3. dtype نوع داده\n",
    "\n",
    "\n",
    "\n",
    "## تعدادی مثال\n",
    "\n",
    "\n",
    "### Scalars (rank-0 tensors)\n"
   ]
  },
  {
   "cell_type": "code",
   "execution_count": 3,
   "id": "9be5e56a",
   "metadata": {},
   "outputs": [
    {
     "data": {
      "text/plain": [
       "array(12)"
      ]
     },
     "execution_count": 3,
     "metadata": {},
     "output_type": "execute_result"
    }
   ],
   "source": [
    "import numpy as np\n",
    "x = np.array(12)\n",
    "x"
   ]
  },
  {
   "cell_type": "code",
   "execution_count": 4,
   "id": "ae1ca624",
   "metadata": {},
   "outputs": [
    {
     "data": {
      "text/plain": [
       "0"
      ]
     },
     "execution_count": 4,
     "metadata": {},
     "output_type": "execute_result"
    }
   ],
   "source": [
    "x.ndim"
   ]
  },
  {
   "cell_type": "markdown",
   "id": "6ca3f552",
   "metadata": {},
   "source": [
    "### Vectors (rank-1 tensors)"
   ]
  },
  {
   "cell_type": "code",
   "execution_count": 5,
   "id": "dbfc73f7",
   "metadata": {},
   "outputs": [
    {
     "data": {
      "text/plain": [
       "array([12,  3,  6, 14,  7])"
      ]
     },
     "execution_count": 5,
     "metadata": {},
     "output_type": "execute_result"
    }
   ],
   "source": [
    "x = np.array([12, 3, 6, 14, 7])\n",
    "x"
   ]
  },
  {
   "cell_type": "code",
   "execution_count": 7,
   "id": "10479d5e",
   "metadata": {},
   "outputs": [
    {
     "data": {
      "text/plain": [
       "1"
      ]
     },
     "execution_count": 7,
     "metadata": {},
     "output_type": "execute_result"
    }
   ],
   "source": [
    "x.ndim"
   ]
  },
  {
   "cell_type": "markdown",
   "id": "804e1b0a",
   "metadata": {},
   "source": [
    "### Matrices (rank-2 tensors)\n"
   ]
  },
  {
   "cell_type": "code",
   "execution_count": 8,
   "id": "cf4a653f",
   "metadata": {},
   "outputs": [
    {
     "data": {
      "text/plain": [
       "2"
      ]
     },
     "execution_count": 8,
     "metadata": {},
     "output_type": "execute_result"
    }
   ],
   "source": [
    "x = np.array([[5, 78, 2, 34, 0],\n",
    "              [6, 79, 3, 35, 1],\n",
    "              [7, 80, 4, 36, 2]])\n",
    "x.ndim"
   ]
  },
  {
   "cell_type": "markdown",
   "id": "60c718f4",
   "metadata": {},
   "source": [
    "### Rank-3 and higher-rank tensors\n"
   ]
  },
  {
   "cell_type": "code",
   "execution_count": 9,
   "id": "1e06b700",
   "metadata": {},
   "outputs": [
    {
     "data": {
      "text/plain": [
       "3"
      ]
     },
     "execution_count": 9,
     "metadata": {},
     "output_type": "execute_result"
    }
   ],
   "source": [
    "x = np.array([[[5, 78, 2, 34, 0],\n",
    "               [6, 79, 3, 35, 1],\n",
    "               [7, 80, 4, 36, 2]],\n",
    "              [[5, 78, 2, 34, 0],\n",
    "               [6, 79, 3, 35, 1],\n",
    "               [7, 80, 4, 36, 2]],\n",
    "              [[5, 78, 2, 34, 0],\n",
    "               [6, 79, 3, 35, 1],\n",
    "               [7, 80, 4, 36, 2]]])\n",
    "x.ndim"
   ]
  },
  {
   "cell_type": "code",
   "execution_count": 12,
   "id": "c4b28fbb",
   "metadata": {},
   "outputs": [
    {
     "data": {
      "text/plain": [
       "array([5, 2, 0])"
      ]
     },
     "execution_count": 12,
     "metadata": {},
     "output_type": "execute_result"
    }
   ],
   "source": [
    "x[1,0,0::2]"
   ]
  },
  {
   "cell_type": "markdown",
   "id": "80864d23",
   "metadata": {},
   "source": [
    "### یادآوری  مثال MNIST  ویژگیهای تنسور"
   ]
  },
  {
   "cell_type": "code",
   "execution_count": 14,
   "id": "fa4ba05a",
   "metadata": {},
   "outputs": [],
   "source": [
    "from tensorflow.keras.datasets import mnist\n",
    "(train_images, train_labels), (test_images, test_labels) = mnist.load_data()"
   ]
  },
  {
   "cell_type": "code",
   "execution_count": 15,
   "id": "85900963",
   "metadata": {},
   "outputs": [
    {
     "data": {
      "text/plain": [
       "3"
      ]
     },
     "execution_count": 15,
     "metadata": {},
     "output_type": "execute_result"
    }
   ],
   "source": [
    "train_images.ndim"
   ]
  },
  {
   "cell_type": "code",
   "execution_count": 16,
   "id": "e2cfc837",
   "metadata": {},
   "outputs": [
    {
     "data": {
      "text/plain": [
       "(60000, 28, 28)"
      ]
     },
     "execution_count": 16,
     "metadata": {},
     "output_type": "execute_result"
    }
   ],
   "source": [
    "train_images.shape"
   ]
  },
  {
   "cell_type": "code",
   "execution_count": 17,
   "id": "f49c07ba",
   "metadata": {},
   "outputs": [
    {
     "data": {
      "text/plain": [
       "dtype('uint8')"
      ]
     },
     "execution_count": 17,
     "metadata": {},
     "output_type": "execute_result"
    }
   ],
   "source": [
    "train_images.dtype"
   ]
  },
  {
   "cell_type": "code",
   "execution_count": 19,
   "id": "f1e734c1",
   "metadata": {},
   "outputs": [
    {
     "data": {
      "image/png": "[encoded data removed]",
      "text/plain": [
       "<Figure size 640x480 with 1 Axes>"
      ]
     },
     "metadata": {},
     "output_type": "display_data"
    }
   ],
   "source": [
    "import matplotlib.pyplot as plt\n",
    "idx = 0\n",
    "img = train_images[0]\n",
    "plt.imshow(img)\n",
    "plt.show()"
   ]
  },
  {
   "cell_type": "markdown",
   "id": "935c44ea",
   "metadata": {},
   "source": [
    "## نمایش چهارمین رقم\n"
   ]
  },
  {
   "cell_type": "code",
   "execution_count": 20,
   "id": "abfc27fd",
   "metadata": {},
   "outputs": [
    {
     "data": {
      "image/png": "[encoded data removed]",
      "text/plain": [
       "<Figure size 640x480 with 1 Axes>"
      ]
     },
     "metadata": {},
     "output_type": "display_data"
    }
   ],
   "source": [
    "import matplotlib.pyplot as plt\n",
    "digit = train_images[4]\n",
    "plt.imshow(digit, cmap=plt.cm.binary)\n",
    "plt.show()"
   ]
  },
  {
   "cell_type": "code",
   "execution_count": 21,
   "id": "576b2670",
   "metadata": {},
   "outputs": [
    {
     "data": {
      "text/plain": [
       "9"
      ]
     },
     "execution_count": 21,
     "metadata": {},
     "output_type": "execute_result"
    }
   ],
   "source": [
    "train_labels[4]"
   ]
  },
  {
   "cell_type": "markdown",
   "id": "233d9266",
   "metadata": {},
   "source": [
    "### مفهوم slice"
   ]
  },
  {
   "cell_type": "code",
   "execution_count": 22,
   "id": "ce84333d",
   "metadata": {},
   "outputs": [
    {
     "data": {
      "text/plain": [
       "(90, 28, 28)"
      ]
     },
     "execution_count": 22,
     "metadata": {},
     "output_type": "execute_result"
    }
   ],
   "source": [
    "my_slice = train_images[10:100]\n",
    "my_slice.shape"
   ]
  },
  {
   "cell_type": "code",
   "execution_count": 23,
   "id": "f72e0e14",
   "metadata": {},
   "outputs": [
    {
     "data": {
      "text/plain": [
       "(90, 28, 28)"
      ]
     },
     "execution_count": 23,
     "metadata": {},
     "output_type": "execute_result"
    }
   ],
   "source": [
    "my_slice = train_images[10:100, :, :]\n",
    "my_slice.shape"
   ]
  },
  {
   "cell_type": "code",
   "execution_count": 24,
   "id": "9f67218f",
   "metadata": {},
   "outputs": [
    {
     "data": {
      "text/plain": [
       "(90, 28, 28)"
      ]
     },
     "execution_count": 24,
     "metadata": {},
     "output_type": "execute_result"
    }
   ],
   "source": [
    "my_slice = train_images[10:100, 0:28, 0:28]\n",
    "my_slice.shape"
   ]
  },
  {
   "cell_type": "code",
   "execution_count": 25,
   "id": "61d8434f",
   "metadata": {},
   "outputs": [],
   "source": [
    "my_slice = train_images[:, 14:, 14:]"
   ]
  },
  {
   "cell_type": "code",
   "execution_count": 26,
   "id": "00843940",
   "metadata": {},
   "outputs": [],
   "source": [
    "my_slice = train_images[:, 7:-7, 7:-7]"
   ]
  },
  {
   "cell_type": "code",
   "execution_count": 27,
   "id": "651ef49a",
   "metadata": {},
   "outputs": [
    {
     "data": {
      "text/plain": [
       "(60000, 14, 14)"
      ]
     },
     "execution_count": 27,
     "metadata": {},
     "output_type": "execute_result"
    }
   ],
   "source": [
    "my_slice.shape"
   ]
  },
  {
   "cell_type": "code",
   "execution_count": 29,
   "id": "581da7a5",
   "metadata": {},
   "outputs": [
    {
     "data": {
      "image/png": "[encoded data removed]",
      "text/plain": [
       "<Figure size 640x480 with 1 Axes>"
      ]
     },
     "metadata": {},
     "output_type": "display_data"
    }
   ],
   "source": [
    "img = my_slice[0]\n",
    "plt.imshow(img, cmap=plt.cm.binary)\n",
    "plt.show()"
   ]
  },
  {
   "cell_type": "markdown",
   "id": "0eab5eed",
   "metadata": {},
   "source": [
    "### مفهوم batch"
   ]
  },
  {
   "cell_type": "code",
   "execution_count": 30,
   "id": "53cf4c08",
   "metadata": {},
   "outputs": [],
   "source": [
    "batch = train_images[:128]"
   ]
  },
  {
   "cell_type": "code",
   "execution_count": null,
   "id": "e1f65a93",
   "metadata": {},
   "outputs": [],
   "source": [
    "batch = train_images[128:256]"
   ]
  },
  {
   "cell_type": "code",
   "execution_count": null,
   "id": "0debfd05",
   "metadata": {},
   "outputs": [],
   "source": [
    "n = 3\n",
    "batch = train_images[128 * n:128 * (n + 1)]"
   ]
  },
  {
   "cell_type": "markdown",
   "id": "71dfa6c9",
   "metadata": {},
   "source": [
    "- نکته:  معمولاً به بعد اول (اندیس صفر)  محور  دسته  batch axis خوانده می‌شود. \n",
    "\n",
    "- مثال هایی از تنسور برای داده های واقعی\n",
    "  \n",
    "  1. بردار دو بعدی: اطلاعات جمعیت، شمارش تعداد کلمات در اسناد\n",
    "     \n",
    "  2. بردار سه‌بعدی: اطلاعات سری زمانی (sample, timestep, feature) - داده‌های بورس یا tweets\n",
    "     \n",
    "  3. بردار چهاربعدی: تصاویر (sample, height, width, channel) - مفهوم channel_first و channel_last - البته مدل channel_last روزبه‌روز محبوب‌تر می‌شود.\n",
    "     \n",
    "  4. بردار پنج‌بعدی: ویدئو (sample, frame, height, width, channels) - مثلا ۶۰ ثانیه از یک ویدئوی 144x256 با 4=fps و batch_size=4 با فرض ذخیره کردن اعداد رنگ‌ها به صورت float32 حجمی برابر با ۱۰۶ میلیون تنسور یعنی ۴۰۵ مگابایت خواهد داشت! \n",
    "\n",
    "\n",
    "- نکته:  عملگر های روی عناصر تنسور  به صورت مستقل و روی عناصر (element-wise)  خیلی سریع اجرا می شود چون قابلیت توازی بالا وجود دارد (vectorize)\n",
    "\n",
    "- این عملیات جبر خطی پایه توسط BLAS (Basic Linear Algebra Subsystem)  اجرا می شود که معمولاً در زبانهای C و Fortran پیاده‌سازی شده است.\n",
    "\n",
    "- نکته:  عملیات روی تنسورها  روی هسته های کارت گرافیکی با کمک CUDA  می توانند اجرا شوند که خیلی سریع تر هست.\n",
    "\n",
    "- مفهوم broadcast:  ماتریس یا تنسور کوچکتر از لحاظ محورها به اندازه کافی تکرار میشود (expand_dim)  تا با تنسور بزرگتر هم اندازه شود و قابلیت محاسبه داشته باشد\n",
    "\n",
    "    - مثال صفحه ۴۰ یا مثال از سایت Numpy تابع maximum"
   ]
  },
  {
   "cell_type": "code",
   "execution_count": 31,
   "id": "d40c4924",
   "metadata": {},
   "outputs": [
    {
     "name": "stdout",
     "output_type": "stream",
     "text": [
      "[2 5 4]\n",
      "[[1. 0.]\n",
      " [0. 1.]]\n",
      "[[1.  2. ]\n",
      " [0.5 2. ]]\n"
     ]
    }
   ],
   "source": [
    "import numpy as np\n",
    "print(np.maximum([2, 3, 4], [1, 5, 2]))\n",
    "print(np.eye(2))\n",
    "print(np.maximum(np.eye(2), [0.5, 2])) # broadcasting\n"
   ]
  },
  {
   "cell_type": "markdown",
   "id": "44b67b4c",
   "metadata": {},
   "source": [
    "- عملگر *  به صورت مبتنی بر عنصر (element_wise)  هست ولی عملگر dot  به صورت ضرب ماتریس ای (برای بردارهای دوبعدی) انجام میشود. همچنین عملگر @ را برای ضرب ماتریسی داریم."
   ]
  },
  {
   "cell_type": "code",
   "execution_count": 32,
   "id": "6d6a396b",
   "metadata": {},
   "outputs": [
    {
     "name": "stdout",
     "output_type": "stream",
     "text": [
      "[ 4 10  0]\n",
      "14\n"
     ]
    }
   ],
   "source": [
    "a = np.array([1,2,3])\n",
    "b = np.array([4,5,0])\n",
    "print(a*b)\n",
    "print(a@b)"
   ]
  },
  {
   "cell_type": "code",
   "execution_count": 38,
   "id": "9a86421e",
   "metadata": {
    "scrolled": true
   },
   "outputs": [
    {
     "name": "stdout",
     "output_type": "stream",
     "text": [
      "(32, 10)\n",
      "(32,)\n",
      "1\n"
     ]
    }
   ],
   "source": [
    "import numpy as np\n",
    "X = np.random.random((32, 10))\n",
    "y = np.random.random((10,))\n",
    "print((X*y).shape)  # broadcast\n",
    "print((X@y).shape)\n",
    "print(y.ndim)"
   ]
  },
  {
   "cell_type": "code",
   "execution_count": 39,
   "id": "cf77e504",
   "metadata": {},
   "outputs": [
    {
     "data": {
      "text/plain": [
       "(10,)"
      ]
     },
     "execution_count": 39,
     "metadata": {},
     "output_type": "execute_result"
    }
   ],
   "source": [
    "y.shape"
   ]
  },
  {
   "cell_type": "code",
   "execution_count": 40,
   "id": "024204e6",
   "metadata": {},
   "outputs": [
    {
     "name": "stdout",
     "output_type": "stream",
     "text": [
      "(1, 10)\n",
      "2\n"
     ]
    }
   ],
   "source": [
    "\n",
    "y = np.expand_dims(y, axis=0)\n",
    "print(y.shape)\n",
    "print(y.ndim)"
   ]
  },
  {
   "cell_type": "code",
   "execution_count": 42,
   "id": "e6f01d04",
   "metadata": {},
   "outputs": [
    {
     "name": "stdout",
     "output_type": "stream",
     "text": [
      "[1, 2, 1, 2, 1, 2, 1, 2, 1, 2, 1, 2, 1, 2, 1, 2, 1, 2, 1, 2, 1, 2, 1, 2, 1, 2, 1, 2, 1, 2, 1, 2, 1, 2, 1, 2, 1, 2, 1, 2, 1, 2, 1, 2, 1, 2, 1, 2, 1, 2, 1, 2, 1, 2, 1, 2, 1, 2, 1, 2, 1, 2, 1, 2]\n"
     ]
    }
   ],
   "source": [
    "print([1,2]*32)"
   ]
  },
  {
   "cell_type": "code",
   "execution_count": 48,
   "id": "17652a59",
   "metadata": {},
   "outputs": [
    {
     "name": "stdout",
     "output_type": "stream",
     "text": [
      "(32, 1, 10)\n",
      "(32, 10)\n"
     ]
    }
   ],
   "source": [
    "Y_tmp = np.array([y]*32)\n",
    "print(Y_tmp.shape)\n",
    "Y = np.concatenate([y] * 32, axis=0)\n",
    "print(Y.shape)"
   ]
  },
  {
   "cell_type": "code",
   "execution_count": null,
   "id": "3305b0f4",
   "metadata": {},
   "outputs": [],
   "source": [
    "def naive_add_matrix_and_vector(x, y):\n",
    "    assert len(x.shape) == 2\n",
    "    assert len(y.shape) == 1\n",
    "    assert x.shape[1] == y.shape[0]\n",
    "    x = x.copy()\n",
    "    for i in range(x.shape[0]):\n",
    "        for j in range(x.shape[1]):\n",
    "            x[i, j] += y[j]\n",
    "    return x"
   ]
  },
  {
   "cell_type": "code",
   "execution_count": 49,
   "id": "8136d096",
   "metadata": {},
   "outputs": [
    {
     "data": {
      "text/plain": [
       "(64, 3, 32, 10)"
      ]
     },
     "execution_count": 49,
     "metadata": {},
     "output_type": "execute_result"
    }
   ],
   "source": [
    "import numpy as np\n",
    "x = np.random.random((64, 3, 32, 10))\n",
    "y = np.random.random((32, 10))\n",
    "z = np.maximum(x, y)\n",
    "z.shape"
   ]
  },
  {
   "cell_type": "markdown",
   "id": "43948296",
   "metadata": {},
   "source": [
    "## تفسیر هندسی عملیات روی تنسورها\n",
    "\n",
    "- هر تنسور دوبعدی به صورت یک بردار قابل تصور هست:\n",
    "\n",
    "![تنسور دو بعدی](img/02-07.png)\n",
    "\n",
    "- جمع دو تنسور هم به صورت جمع دو بردارد قابل تفسیر هست\n",
    "![جمع دو تنسور](img/02-08.png)\n",
    "\n",
    "\n",
    "- جمع به معنی جابجایی بدون تغییر شکل است \n",
    "\n",
    "\n",
    "![جمع](img/02-09.png)\n",
    "\n",
    "\n",
    "- ضرب ماتریسی به صورت یک تبدیل خطی است که می‌تواند به صورت دوران یا مقیاس‌بندی نمایش داده شود\n",
    "\n",
    "\n",
    "![دوران](img/02-10.png)\n",
    "\n",
    "![مقیاس‌گذاری](img/02-11.png)\n",
    "\n",
    "- تبدیل افین  به صورت y=W.x+b  نشان داده می شود که در واقع توسط یک لایه Dense  بدون تابع فعال‌ساز قابل پیاده سازی است شکل مربوطه را ببینید\n",
    "\n",
    "![تبدیل افین](img/02-12.png)"
   ]
  },
  {
   "cell_type": "markdown",
   "id": "3d6f1e44",
   "metadata": {},
   "source": [
    "- نکته: چند تبدیل افین متوالی در واقع یک تبدیل افین هست. بنابراین نقش توابع فعال ساز هست که تکرار این لایه‌ها را غنی و سودمند می‌کند.\n",
    "\n",
    "$${affine2}({affine1}(x)) = W_2 • (W_1 • x + b_1) + b_2 = (W_2 • W_1) • x + (W_2 • b_1 + b_2)$$\n",
    "\n",
    "- تفسیر هندسی عملکرد شبکه عصبی مانند باز کردن دو کاغذ رنگی مچاله شده در یکدیگر است\n",
    "\n",
    "![مچاله](img/02-14.png)"
   ]
  },
  {
   "cell_type": "markdown",
   "id": "70e5f054",
   "metadata": {},
   "source": [
    "## روش   گرادیان نزولی\n",
    "- تاثیر هر پارامتر اگر بخواهد به صورت جداگانه  بررسی شود با فرض ثابت بودن سایر پارامتر را باید دوباره عملیات  محاسبات پیشرو forward pass  حساب شود که این کار هزینه بر است بنابراین از روش گرادیان نزولی استفاده می شود\n",
    "\n",
    "- در واقع توسعه مفهوم مشتق برای توابع چند متغیر است که مقدار انحنا را در نقطه خاص نشان می دهد.\n",
    "\n",
    "![](img/02-15.png)\n",
    "![](img/02-16.png)\n",
    "![](img/02-17.png)"
   ]
  },
  {
   "cell_type": "markdown",
   "id": "07207d3c",
   "metadata": {},
   "source": [
    "## نحوه به روز رسانی وزن‌ها در روش گرادیان نزولی\n",
    "\n",
    "![SGD down a 1D loss curve (one learnable parameter)](img/02-18.png)\n",
    "\n",
    "![Gradient descent down a 2D loss surface (two learnable parameters)](img/02-19.png)"
   ]
  },
  {
   "cell_type": "markdown",
   "id": "0c1494cb",
   "metadata": {},
   "source": [
    "## اهمیت مقدار مناسب نرخ یادگیری learning_rate\n",
    "\n",
    "![A local minimum and a global minimum](img/02-20.png)\n",
    "\n",
    "\n",
    "- نوع خاصی از روش گرادیان نزولی  به صورت استوکاستیک است که برای هر دسته داده‌ها به صورت تصادفی برای فرآیند آموزش انتخاب می‌شوند.\n",
    "\n",
    "[https://www.analyticsvidhya.com/blog/2021/03/variants-of-gradient-descent-algorithm/](https://www.analyticsvidhya.com/blog/2021/03/variants-of-gradient-descent-algorithm/)\n",
    "\n",
    "- همچنین داده‌ها به صورت mini-batch تحویل می‌شوند یعنی تعدادی داده‌ها در چندین مرحله تحویل می‌شوند و میانگین خطا محاسبه می‌شود. این کار همگرایی بهتری نسبت به true SGD هست و از batch SGD کم هزینه‌تر هست.\n",
    "  \n",
    "- گاهی در SGD از سرعت در حرکت قبلی هم استفاده می‌شود. momentum  "
   ]
  },
  {
   "cell_type": "code",
   "execution_count": null,
   "id": "2d87b956",
   "metadata": {},
   "outputs": [],
   "source": [
    "past_velocity = 0.\n",
    "momentum = 0.1   # Constant momentum factor\n",
    "while loss > 0.01: # Optimization loop\n",
    "    w, loss, gradient = get_current_parameters()\n",
    "    velocity = past_velocity * momentum - learning_rate * gradient\n",
    "    w = w + momentum * velocity - learning_rate * gradient\n",
    "    past_velocity = velocity\n",
    "    update_parameter(w)"
   ]
  },
  {
   "cell_type": "markdown",
   "id": "1d134954",
   "metadata": {},
   "source": [
    "# مطالب پیشرفته"
   ]
  },
  {
   "cell_type": "markdown",
   "id": "581edc95",
   "metadata": {},
   "source": [
    "- برای کسب اطلاعات بیشتر در مورد توابع اتلاف در Keras   می‌توانید \n",
    "[اینجا](https://neptune.ai/blog/keras-loss-functions)  را ببینید."
   ]
  },
  {
   "cell_type": "markdown",
   "id": "db709185",
   "metadata": {},
   "source": [
    "## مفهوم گراف محاسباتی (computation graph)\n",
    "\n",
    "- گرافی برای نمایش دنباله محاسبات است که در محاسبه‌ی الگوریتم پس‌انتشار می‌توانید مفید باشد\n",
    "- مزیت مهم آن این است که عملیات محاسباتی را به صورت یک داده در می‌آورد که می‌تواند به عنوان ورودی به تابع داده شود. \n",
    "- در BP از انتها حرکت می‌کنیم (loss) و به سمت لایه‌های قبلی می‌آییم.\n",
    "\n",
    "![The computation graph representation of our two-layer model](img/02-21.png) \n",
    "![A basic example of a computation graph](img/02-22.png) \n",
    "![Running a forward pass](img/02-23.png) \n",
    "![Running a backward pass](img/02-24.png)\n",
    "![Path from loss_val to w in the backward graph](img/02-25.png)\n",
    "\n",
    "\n",
    "\n",
    "\n",
    "## درک کریستالی از پشت صحنه \n"
   ]
  },
  {
   "cell_type": "code",
   "execution_count": null,
   "id": "901d21a0",
   "metadata": {},
   "outputs": [],
   "source": [
    "import tensorflow as tf\n",
    "\n",
    "x = tf.Variable(0.)\n",
    "with tf.GradientTape() as tape:\n",
    "    y = tf.math.exp(x) + 3\n",
    "grad_of_y_wrt_x = tape.gradient(y, x)\n",
    "print(grad_of_y_wrt_x)"
   ]
  },
  {
   "cell_type": "code",
   "execution_count": null,
   "id": "03bdb331",
   "metadata": {},
   "outputs": [],
   "source": [
    "x = tf.Variable(tf.random.uniform((2, 2)))\n",
    "with tf.GradientTape() as tape:\n",
    "    y = 2 * x + 3\n",
    "grad_of_y_wrt_x = tape.gradient(y, x)\n",
    "print(grad_of_y_wrt_x)"
   ]
  },
  {
   "cell_type": "code",
   "execution_count": null,
   "id": "2d33e65d",
   "metadata": {},
   "outputs": [],
   "source": [
    "W = tf.Variable(tf.random.uniform((2, 2)))\n",
    "b = tf.Variable(tf.zeros((2,)))\n",
    "x = tf.random.uniform((2, 2))\n",
    "print(W)\n",
    "print(b)\n",
    "print(x)\n",
    "with tf.GradientTape() as tape:\n",
    "    y = tf.matmul(x, W) + b\n",
    "grad_of_y_wrt_W_and_b = tape.gradient(y, [W, b])\n",
    "print(grad_of_y_wrt_W_and_b)"
   ]
  },
  {
   "cell_type": "markdown",
   "id": "c8ce98b7",
   "metadata": {},
   "source": [
    "## یک مثال پیشرفته\n",
    "\n",
    "## نگاهی دوباره به اولین مثال\n"
   ]
  },
  {
   "cell_type": "code",
   "execution_count": null,
   "id": "9e902e74",
   "metadata": {},
   "outputs": [],
   "source": [
    "(train_images, train_labels), (test_images, test_labels) = mnist.load_data()\n",
    "train_images = train_images.reshape((60000, 28 * 28))\n",
    "train_images = train_images.astype(\"float32\") / 255\n",
    "test_images = test_images.reshape((10000, 28 * 28))\n",
    "test_images = test_images.astype(\"float32\") / 255"
   ]
  },
  {
   "cell_type": "code",
   "execution_count": null,
   "id": "c0caa2e8",
   "metadata": {},
   "outputs": [],
   "source": [
    "model = keras.Sequential([\n",
    "    layers.Dense(512, activation=\"relu\"),\n",
    "    layers.Dense(10, activation=\"softmax\")\n",
    "])"
   ]
  },
  {
   "cell_type": "code",
   "execution_count": null,
   "id": "aa18484c",
   "metadata": {},
   "outputs": [],
   "source": [
    "model.compile(optimizer=\"rmsprop\",\n",
    "              loss=\"sparse_categorical_crossentropy\",\n",
    "              metrics=[\"accuracy\"])"
   ]
  },
  {
   "cell_type": "code",
   "execution_count": null,
   "id": "70d898a2",
   "metadata": {},
   "outputs": [],
   "source": [
    "model.fit(train_images, train_labels, epochs=5, batch_size=128)"
   ]
  },
  {
   "cell_type": "markdown",
   "id": "17729f67",
   "metadata": {},
   "source": [
    "## پیاده‌سازی مثال اول از پایه\n",
    "\n",
    "### کلاس Dense ساده\n"
   ]
  },
  {
   "cell_type": "code",
   "execution_count": null,
   "id": "7c126568",
   "metadata": {},
   "outputs": [],
   "source": [
    "import tensorflow as tf\n",
    "\n",
    "class NaiveDense:\n",
    "    def __init__(self, input_size, output_size, activation):\n",
    "        self.activation = activation\n",
    "\n",
    "        w_shape = (input_size, output_size)\n",
    "        w_initial_value = tf.random.uniform(w_shape, minval=0, maxval=1e-1)\n",
    "        self.W = tf.Variable(w_initial_value)\n",
    "\n",
    "        b_shape = (output_size,)\n",
    "        b_initial_value = tf.zeros(b_shape)\n",
    "        self.b = tf.Variable(b_initial_value)\n",
    "\n",
    "    def __call__(self, inputs):\n",
    "        return self.activation(tf.matmul(inputs, self.W) + self.b)\n",
    "\n",
    "    @property\n",
    "\n",
    "    def weights(self):\n",
    "        return [self.W, self.b]"
   ]
  },
  {
   "cell_type": "markdown",
   "id": "e308c7b2",
   "metadata": {},
   "source": [
    "### یک کلاس Sequential ساده\n"
   ]
  },
  {
   "cell_type": "code",
   "execution_count": null,
   "id": "ee80809b",
   "metadata": {},
   "outputs": [],
   "source": [
    "class NaiveSequential:\n",
    "    def __init__(self, layers):\n",
    "        self.layers = layers\n",
    "\n",
    "    def __call__(self, inputs):\n",
    "        x = inputs\n",
    "        for layer in self.layers:\n",
    "           x = layer(x)\n",
    "        return x\n",
    "\n",
    "    @property\n",
    "    def weights(self):\n",
    "       weights = []\n",
    "       for layer in self.layers:\n",
    "           weights += layer.weights\n",
    "       return weights"
   ]
  },
  {
   "cell_type": "code",
   "execution_count": null,
   "id": "88878ddf",
   "metadata": {},
   "outputs": [],
   "source": [
    "model = NaiveSequential([\n",
    "    NaiveDense(input_size=28 * 28, output_size=512, activation=tf.nn.relu),\n",
    "    NaiveDense(input_size=512, output_size=10, activation=tf.nn.softmax)\n",
    "])\n",
    "assert len(model.weights) == 4"
   ]
  },
  {
   "cell_type": "markdown",
   "id": "f47fb05c",
   "metadata": {},
   "source": [
    "### تولید دسته\n"
   ]
  },
  {
   "cell_type": "code",
   "execution_count": null,
   "id": "1fb12fa8",
   "metadata": {},
   "outputs": [],
   "source": [
    "import math\n",
    "\n",
    "class BatchGenerator:\n",
    "    def __init__(self, images, labels, batch_size=128):\n",
    "        assert len(images) == len(labels)\n",
    "        self.index = 0\n",
    "        self.images = images\n",
    "        self.labels = labels\n",
    "        self.batch_size = batch_size\n",
    "        self.num_batches = math.ceil(len(images) / batch_size)\n",
    "\n",
    "    def next(self):\n",
    "        images = self.images[self.index : self.index + self.batch_size]\n",
    "        labels = self.labels[self.index : self.index + self.batch_size]\n",
    "        self.index += self.batch_size\n",
    "        return images, labels"
   ]
  },
  {
   "cell_type": "markdown",
   "id": "da8cc3e8",
   "metadata": {},
   "source": [
    "## یک گام اجرای مرحله یادگیری\n"
   ]
  },
  {
   "cell_type": "code",
   "execution_count": null,
   "id": "c51fda4f",
   "metadata": {},
   "outputs": [],
   "source": [
    "def one_training_step(model, images_batch, labels_batch):\n",
    "    with tf.GradientTape() as tape:\n",
    "        predictions = model(images_batch)\n",
    "        per_sample_losses = tf.keras.losses.sparse_categorical_crossentropy(\n",
    "            labels_batch, predictions)\n",
    "        average_loss = tf.reduce_mean(per_sample_losses)\n",
    "    gradients = tape.gradient(average_loss, model.weights)\n",
    "    update_weights(gradients, model.weights)\n",
    "    return average_loss"
   ]
  },
  {
   "cell_type": "code",
   "execution_count": null,
   "id": "4cde18bd",
   "metadata": {},
   "outputs": [],
   "source": [
    "learning_rate = 1e-3\n",
    "\n",
    "def update_weights(gradients, weights):\n",
    "    for g, w in zip(gradients, weights):\n",
    "        w.assign_sub(g * learning_rate)"
   ]
  },
  {
   "cell_type": "code",
   "execution_count": null,
   "id": "1916dc3f",
   "metadata": {},
   "outputs": [],
   "source": [
    "from tensorflow.keras import optimizers\n",
    "\n",
    "optimizer = optimizers.SGD(learning_rate=1e-3)\n",
    "\n",
    "def update_weights(gradients, weights):\n",
    "    optimizer.apply_gradients(zip(gradients, weights))"
   ]
  },
  {
   "cell_type": "markdown",
   "id": "cb18636d",
   "metadata": {},
   "source": [
    "## حلقه کامل یادگیری\n"
   ]
  },
  {
   "cell_type": "code",
   "execution_count": null,
   "id": "ddff459f",
   "metadata": {},
   "outputs": [],
   "source": [
    "def fit(model, images, labels, epochs, batch_size=128):\n",
    "    for epoch_counter in range(epochs):\n",
    "        print(f\"Epoch {epoch_counter}\")\n",
    "        batch_generator = BatchGenerator(images, labels)\n",
    "        for batch_counter in range(batch_generator.num_batches):\n",
    "            images_batch, labels_batch = batch_generator.next()\n",
    "            loss = one_training_step(model, images_batch, labels_batch)\n",
    "            if batch_counter % 100 == 0:\n",
    "                print(f\"loss at batch {batch_counter}: {loss:.2f}\")"
   ]
  },
  {
   "cell_type": "code",
   "execution_count": null,
   "id": "55b605e8",
   "metadata": {},
   "outputs": [],
   "source": [
    "from tensorflow.keras.datasets import mnist\n",
    "(train_images, train_labels), (test_images, test_labels) = mnist.load_data()\n",
    "\n",
    "train_images = train_images.reshape((60000, 28 * 28))\n",
    "train_images = train_images.astype(\"float32\") / 255\n",
    "test_images = test_images.reshape((10000, 28 * 28))\n",
    "test_images = test_images.astype(\"float32\") / 255\n",
    "\n",
    "fit(model, train_images, train_labels, epochs=10, batch_size=128)"
   ]
  },
  {
   "cell_type": "markdown",
   "id": "6f6cafea",
   "metadata": {},
   "source": [
    "## ارزیابی مدل\n"
   ]
  },
  {
   "cell_type": "code",
   "execution_count": null,
   "id": "11481832",
   "metadata": {},
   "outputs": [],
   "source": [
    "predictions = model(test_images)\n",
    "predictions = predictions.numpy()\n",
    "predicted_labels = np.argmax(predictions, axis=1)\n",
    "matches = predicted_labels == test_labels\n",
    "print(f\"accuracy: {matches.mean():.2f}\")"
   ]
  },
  {
   "cell_type": "markdown",
   "id": "7c3dda46",
   "metadata": {},
   "source": [
    "## خلاصه\n"
   ]
  },
  {
   "cell_type": "markdown",
   "id": "7c037e5e",
   "metadata": {},
   "source": [
    "- تنسورها پایه و اساس سیستم‌های یادگیری ماشین مدرن هستند. \n",
    "- آنها در انواع مختلف از dtype، rank و shape در دسترس هستند.\n",
    "- یادگیری یک مدل یادگیری عمیق شامل یافتن مجموعه‌ای از وزن‌ها برای مدل است که تابع خطا (loss function) را به حداقل می‌رساند.\n",
    "- یادگیری با رسم دسته های تصادفی از نمونه های داده و جابجایی پارامترهای مدل با توجه به گرادیان نرخ یادگیری اتفاق می افتد.\n",
    "- کل فرآیند یادگیری با این واقعیت امکان پذیر می شود که همه عملیات روی تنسور‌ها در شبکه های عصبی قابل مشتق‌گیری هستند.\n",
    "- دو مفهوم کلیدی که اغلب در فصل های آینده خواهید دید، خطا loss و بهینه‌سازی optimization هستند. \n",
    "- خطا مقداری است که در طول آموزش سعی می کنید آن را به حداقل برسانید و بهینه ساز روشی است که برای به روز رسانی پارامترها استفاده می کنید."
   ]
  }
 ],
 "metadata": {
  "interpreter": {
   "hash": "0be5f2786b4df06d31eabf9d3e21491b38beb21cfe0d6ed4d8d9f42d01536db4"
  },
  "kernelspec": {
   "display_name": "Python 3 (ipykernel)",
   "language": "python",
   "name": "python3"
  },
  "language_info": {
   "codemirror_mode": {
    "name": "ipython",
    "version": 3
   },
   "file_extension": ".py",
   "mimetype": "text/x-python",
   "name": "python",
   "nbconvert_exporter": "python",
   "pygments_lexer": "ipython3",
   "version": "3.8.15"
  }
 },
 "nbformat": 4,
 "nbformat_minor": 5
}
